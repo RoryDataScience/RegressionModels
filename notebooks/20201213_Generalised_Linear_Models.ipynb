{
 "cells": [
  {
   "cell_type": "markdown",
   "metadata": {},
   "source": [
    "Project Start Date: 17th December 2020 <br> <br>\n",
    "Data Sources <br>\n",
    "https://www.kaggle.com/usaf/world-war-ii/notebooks <br> \n",
    "https://www.kaggle.com/smid80/weatherww2/data <br>\n",
    "\n",
    "**Aim of this project** <br>\n",
    "Aerial Bombing Operations in WW2 - Bombing operations data <br>\n",
    "This dataset consists of digitized paper mission reports from WWII. Each record includes the date, conflict, geographic location, and other data elements to form a live-action sequence of air warfare from 1939 to 1945. The records include U.S. and Royal Air Force data, in addition to some Australian, New Zealand and South African air force missions.\n",
    "\n",
    "Since our project team did not participate in planning the study or data collection, it is possible that we are missing crucial context which renders our conclusions invalid.\n",
    "\n",
    "<br>\n",
    "Weather Conditions in WW2 (Weather Stations / Weather Conditions) <br>\n",
    "The dataset contains information on weather conditions recorded on each day at various weather stations around the world. Information includes precipitation, snowfall, temperatures, wind speed and whether the day included thunder storms or other poor weather conditions.\n",
    "\n",
    "**Objectives & Hypothesises to Test (max. 8)** <br>\n",
    "<u>Exploratory Analysis</u>\n",
    "- What is the distribution of bombings per region?\n",
    "- How does weather impact bombing accuracy/number of bombings occurring?\n",
    "- What do patterns show before & after D-day?\n",
    "<br>\n",
    "\n",
    "<u>Statistical Model/Machine Learning Applications</u>\n",
    "- Is there a relationship between the daily minimum and maximum temperature (TimeSeries Analysis)? \n",
    "- Predict the average temperature based on the independent variables given\n",
    "- Can you predict the maximum temperature given the minimum temperature (GLM Models & Bayesian Versions)?\n",
<<<<<<< HEAD:notebooks/20201213_Generalised_Linear_Models.ipynb
    "\n",
    "**Analysis regarding Data Quality** <br>\n",
    "Understanding of the sampling procedure <br>\n",
    "Potential biases <br> \n",
    "Real-world actions that generated the data you inherited <br>\n",
=======
    "- Plot learning curves to deduce high bias/high variance and conclude what means could be applied to solve these issues\n",
>>>>>>> main:notebooks/2020.12.13_Generalised_Linear_Models.ipynb
    "\n",
    "**Applications of Data Science Applied** <br>\n",
    "- Explain the train/test split\n",
    "- Explain appropriate error metric \n",
    "- Explain class balance and any required action \n",
    "- Explain what features are developed and transformations applied \n",
    "- Explain if the model is exhibiting high bias or high variance and how this can be improved \n",
    "- Explain where the model seems to perform poorly - In what situations does the model make mistakes?\n",
    "\n",
    "\n",
    "**Additional Learning notes and next steps** <br>"
   ]
  },
  {
   "cell_type": "markdown",
   "metadata": {},
   "source": [
    "## Problem Framing\n",
    "- Define a strategy\n",
    "- Define your project goals\n",
    "- What do you want to find out? \n",
    "- Do you have the data to analyze?"
   ]
  },
  {
   "cell_type": "markdown",
   "metadata": {},
   "source": [
    "## Data Analysis\n",
    "- Data visualization of features\n",
    "- Handling missing data\n",
    "- Handling categorical data\n",
    "- Encoding class labels\n",
    "- Normalization and standardization of features\n",
    "- Feature Engineering\n",
    "- Dimensionality Reduction\n",
    "- Data partitioning into training, validation and testing sets"
   ]
  },
  {
   "cell_type": "code",
   "execution_count": null,
   "metadata": {},
   "outputs": [],
   "source": [
    "SuspiciousTests_Test = pd.DataFrame(columns = ['Filename', 'Test Parameters', 'Code', 'Value'])"
   ]
  },
  {
   "cell_type": "code",
   "execution_count": null,
   "metadata": {},
   "outputs": [],
   "source": [
    "initial_min_temperature = Data.loc[0, 'Average Tank Temperature (deg F)']\n",
    "initial_max_temperature = Data.loc[0, 'Average Tank Temperature (deg F)']\n",
    "\n",
    "final_min_temperature = Data.loc[Data.index.max(), 'Average Tank Temperature (deg F)']\n",
    "final_max_temperature = Data.loc[Data.index.max(), 'Average Tank Temperature (deg F)']\n",
    "\n",
    "min_temperature = Data['T_Amb (deg F)'].min()\n",
    "max_temperature = Data['T_Amb (deg F)'].max()\n",
    "\n",
    "min_temperature_sd = Data['T_Amb (deg F)'].sd()\n",
    "max_temperature_sd = Data['T_Amb (deg F)'].sd()\n",
    "\n",
    "min_temperature_avg = Data['T_Amb (deg F)'].mean()\n",
    "max_temperature_avg = Data['T_Amb (deg F)'].mean()\n",
    "\n",
    "min_temperature_median\n",
    "max_temperature_median\n",
    "\n",
    "min_temperature_mode\n",
    "max_temperature_mode"
   ]
  },
  {
   "cell_type": "markdown",
   "metadata": {},
   "source": [
    "## Model Building \n",
    "- Select the model that you would like to use \n",
    "- Hyperparameter tuning is used to fine-tune the model in order to prevent overfitting \n",
    "- Cross-validation is performed to ensure the model performs well on the validation set \n",
    "- Model is applied to the test data set"
   ]
  },
  {
   "cell_type": "markdown",
   "metadata": {},
   "source": [
    "## Application"
   ]
  },
  {
   "cell_type": "code",
   "execution_count": 1,
   "metadata": {},
   "outputs": [],
   "source": [
    "# Package --- These should be added to a requirements file\n",
    "import os\n",
    "import pandas as pd\n",
    "import numpy as np"
   ]
  },
  {
   "cell_type": "code",
   "execution_count": 2,
   "metadata": {},
   "outputs": [
    {
     "data": {
      "text/plain": [
       "'/Users/Rej1992/Documents/GitHub/RegressionModels/notebooks'"
      ]
     },
     "execution_count": 2,
     "metadata": {},
     "output_type": "execute_result"
    }
   ],
   "source": [
    "os.getcwd()"
   ]
  },
  {
   "cell_type": "code",
   "execution_count": 3,
   "metadata": {},
   "outputs": [
    {
     "name": "stderr",
     "output_type": "stream",
     "text": [
      "/anaconda3/lib/python3.6/site-packages/IPython/core/interactiveshell.py:3072: DtypeWarning: Columns (7,8,11,13,31,43,44) have mixed types.Specify dtype option on import or set low_memory=False.\n",
      "  interactivity=interactivity, compiler=compiler, result=result)\n",
      "/anaconda3/lib/python3.6/site-packages/IPython/core/interactiveshell.py:3072: DtypeWarning: Columns (7,8,18,25) have mixed types.Specify dtype option on import or set low_memory=False.\n",
      "  interactivity=interactivity, compiler=compiler, result=result)\n"
     ]
    }
   ],
   "source": [
    "aerial_bombing_data = pd.read_csv('/Users/Rej1992/Documents/GitHub/RegressionModels/data/ww2_boming_operations.csv')\n",
    "weather_summary = pd.read_csv('/Users/Rej1992/Documents/GitHub/RegressionModels/data/WeatherTempPrediction.csv')\n",
    "weather_station_location = pd.read_csv('/Users/Rej1992/Documents/GitHub/RegressionModels/data/WeatherStationLocations.csv')"
   ]
  },
  {
   "cell_type": "code",
   "execution_count": 4,
   "metadata": {},
   "outputs": [],
   "source": [
    "# Create a list of the two dataframes\n",
    "data_list = []\n",
    "data_list.append(aerial_bombing_data)\n",
    "data_list.append(weather_summary)\n",
    "data_list.append(weather_station_location)"
   ]
  },
  {
   "cell_type": "code",
   "execution_count": 5,
   "metadata": {},
   "outputs": [
    {
     "data": {
      "text/plain": [
       "0         40675\n",
       "1           NaN\n",
       "2          9630\n",
       "3         16140\n",
       "4           NaN\n",
       "          ...  \n",
       "178276      NaN\n",
       "178277      NaN\n",
       "178278      NaN\n",
       "178279      NaN\n",
       "178280      NaN\n",
       "Name: Target ID, Length: 178281, dtype: object"
      ]
     },
     "execution_count": 5,
     "metadata": {},
     "output_type": "execute_result"
    }
   ],
   "source": [
    "aerial_bombing_data[\"Target ID\"]"
   ]
  },
  {
   "cell_type": "code",
   "execution_count": 6,
   "metadata": {},
   "outputs": [
    {
     "name": "stdout",
     "output_type": "stream",
     "text": [
      "(178281, 46)\n",
      "Index(['Mission ID', 'Mission Date', 'Theater of Operations', 'Country',\n",
      "       'Air Force', 'Unit ID', 'Aircraft Series', 'Callsign', 'Mission Type',\n",
      "       'Takeoff Base', 'Takeoff Location', 'Takeoff Latitude',\n",
      "       'Takeoff Longitude', 'Target ID', 'Target Country', 'Target City',\n",
      "       'Target Type', 'Target Industry', 'Target Priority', 'Target Latitude',\n",
      "       'Target Longitude', 'Altitude (Hundreds of Feet)', 'Airborne Aircraft',\n",
      "       'Attacking Aircraft', 'Bombing Aircraft', 'Aircraft Returned',\n",
      "       'Aircraft Failed', 'Aircraft Damaged', 'Aircraft Lost',\n",
      "       'High Explosives', 'High Explosives Type',\n",
      "       'High Explosives Weight (Pounds)', 'High Explosives Weight (Tons)',\n",
      "       'Incendiary Devices', 'Incendiary Devices Type',\n",
      "       'Incendiary Devices Weight (Pounds)',\n",
      "       'Incendiary Devices Weight (Tons)', 'Fragmentation Devices',\n",
      "       'Fragmentation Devices Type', 'Fragmentation Devices Weight (Pounds)',\n",
      "       'Fragmentation Devices Weight (Tons)', 'Total Weight (Pounds)',\n",
      "       'Total Weight (Tons)', 'Time Over Target', 'Bomb Damage Assessment',\n",
      "       'Source ID'],\n",
      "      dtype='object')\n",
      "\n",
      "(119040, 31)\n",
      "Index(['STA', 'Date', 'Precip', 'WindGustSpd', 'MaxTemp', 'MinTemp',\n",
      "       'MeanTemp', 'Snowfall', 'PoorWeather', 'YR', 'MO', 'DA', 'PRCP', 'DR',\n",
      "       'SPD', 'MAX', 'MIN', 'MEA', 'SNF', 'SND', 'FT', 'FB', 'FTI', 'ITH',\n",
      "       'PGT', 'TSHDSBRSGF', 'SD3', 'RHX', 'RHN', 'RVG', 'WTE'],\n",
      "      dtype='object')\n",
      "\n",
      "(161, 8)\n",
      "Index(['WBAN', 'NAME', 'STATE/COUNTRY ID', 'LAT', 'LON', 'ELEV', 'Latitude',\n",
      "       'Longitude'],\n",
      "      dtype='object')\n",
      "\n"
     ]
    }
   ],
   "source": [
    "for i in data_list:\n",
    "    print(i.shape)\n",
    "    print(i.columns)\n",
    "    print(\"\"\"\"\"\")"
   ]
  },
  {
   "cell_type": "code",
   "execution_count": null,
   "metadata": {},
   "outputs": [],
   "source": [
    "# Data Quality Expectations (no columns without variance, no duplicates, no contradictions, etc.)\n",
    "# State the assumptions you’re being forced to make.\n",
    "# Write up caveat notes to be included in the appendix of your final report.\n",
    "# Write cautionary notes that warn the decision-maker (and your other readers) that conclusions from the study will need to be downgraded due to potential data issues.\n",
    "\n"
   ]
  },
  {
   "cell_type": "code",
   "execution_count": 7,
   "metadata": {},
   "outputs": [],
   "source": [
    "# Exploratory Analytics to Deevlop Research Hypothesis\n",
    "\n",
    "## I want to know what columns in each dataset permit the potential to create the best unique key for joining \n",
    "## How do the model results differ when 'MaxTemp', 'MinTemp' are excluded? Do these induce xxx into the model falsely\n",
    "## creating improvements in model results"
   ]
<<<<<<< HEAD:notebooks/20201213_Generalised_Linear_Models.ipynb
=======
  },
  {
   "cell_type": "code",
   "execution_count": 8,
   "metadata": {},
   "outputs": [
    {
     "data": {
      "text/html": [
       "<div>\n",
       "<style scoped>\n",
       "    .dataframe tbody tr th:only-of-type {\n",
       "        vertical-align: middle;\n",
       "    }\n",
       "\n",
       "    .dataframe tbody tr th {\n",
       "        vertical-align: top;\n",
       "    }\n",
       "\n",
       "    .dataframe thead th {\n",
       "        text-align: right;\n",
       "    }\n",
       "</style>\n",
       "<table border=\"1\" class=\"dataframe\">\n",
       "  <thead>\n",
       "    <tr style=\"text-align: right;\">\n",
       "      <th></th>\n",
       "      <th>Mission ID</th>\n",
       "      <th>Mission Date</th>\n",
       "      <th>Theater of Operations</th>\n",
       "      <th>Country</th>\n",
       "      <th>Air Force</th>\n",
       "      <th>Unit ID</th>\n",
       "      <th>Aircraft Series</th>\n",
       "      <th>Callsign</th>\n",
       "      <th>Mission Type</th>\n",
       "      <th>Takeoff Base</th>\n",
       "      <th>...</th>\n",
       "      <th>Incendiary Devices Weight (Tons)</th>\n",
       "      <th>Fragmentation Devices</th>\n",
       "      <th>Fragmentation Devices Type</th>\n",
       "      <th>Fragmentation Devices Weight (Pounds)</th>\n",
       "      <th>Fragmentation Devices Weight (Tons)</th>\n",
       "      <th>Total Weight (Pounds)</th>\n",
       "      <th>Total Weight (Tons)</th>\n",
       "      <th>Time Over Target</th>\n",
       "      <th>Bomb Damage Assessment</th>\n",
       "      <th>Source ID</th>\n",
       "    </tr>\n",
       "  </thead>\n",
       "  <tbody>\n",
       "    <tr>\n",
       "      <th>0</th>\n",
       "      <td>1</td>\n",
       "      <td>8/15/1943</td>\n",
       "      <td>MTO</td>\n",
       "      <td>USA</td>\n",
       "      <td>12 AF</td>\n",
       "      <td>27 FBG/86 FBG</td>\n",
       "      <td>A36</td>\n",
       "      <td>NaN</td>\n",
       "      <td>NaN</td>\n",
       "      <td>PONTE OLIVO AIRFIELD</td>\n",
       "      <td>...</td>\n",
       "      <td>NaN</td>\n",
       "      <td>NaN</td>\n",
       "      <td>NaN</td>\n",
       "      <td>NaN</td>\n",
       "      <td>NaN</td>\n",
       "      <td>NaN</td>\n",
       "      <td>10.0</td>\n",
       "      <td>NaN</td>\n",
       "      <td>NaN</td>\n",
       "      <td>NaN</td>\n",
       "    </tr>\n",
       "    <tr>\n",
       "      <th>1</th>\n",
       "      <td>2</td>\n",
       "      <td>8/15/1943</td>\n",
       "      <td>PTO</td>\n",
       "      <td>USA</td>\n",
       "      <td>5 AF</td>\n",
       "      <td>400 BS</td>\n",
       "      <td>B24</td>\n",
       "      <td>NaN</td>\n",
       "      <td>1</td>\n",
       "      <td>NaN</td>\n",
       "      <td>...</td>\n",
       "      <td>NaN</td>\n",
       "      <td>NaN</td>\n",
       "      <td>NaN</td>\n",
       "      <td>NaN</td>\n",
       "      <td>NaN</td>\n",
       "      <td>NaN</td>\n",
       "      <td>20.0</td>\n",
       "      <td>NaN</td>\n",
       "      <td>NaN</td>\n",
       "      <td>9366.0</td>\n",
       "    </tr>\n",
       "    <tr>\n",
       "      <th>2</th>\n",
       "      <td>3</td>\n",
       "      <td>8/15/1943</td>\n",
       "      <td>MTO</td>\n",
       "      <td>USA</td>\n",
       "      <td>12 AF</td>\n",
       "      <td>27 FBG/86 FBG</td>\n",
       "      <td>A36</td>\n",
       "      <td>NaN</td>\n",
       "      <td>NaN</td>\n",
       "      <td>PONTE OLIVO AIRFIELD</td>\n",
       "      <td>...</td>\n",
       "      <td>NaN</td>\n",
       "      <td>NaN</td>\n",
       "      <td>NaN</td>\n",
       "      <td>NaN</td>\n",
       "      <td>NaN</td>\n",
       "      <td>NaN</td>\n",
       "      <td>9.0</td>\n",
       "      <td>NaN</td>\n",
       "      <td>NaN</td>\n",
       "      <td>NaN</td>\n",
       "    </tr>\n",
       "    <tr>\n",
       "      <th>3</th>\n",
       "      <td>4</td>\n",
       "      <td>8/15/1943</td>\n",
       "      <td>MTO</td>\n",
       "      <td>USA</td>\n",
       "      <td>12 AF</td>\n",
       "      <td>27 FBG/86 FBG</td>\n",
       "      <td>A36</td>\n",
       "      <td>NaN</td>\n",
       "      <td>NaN</td>\n",
       "      <td>PONTE OLIVO AIRFIELD</td>\n",
       "      <td>...</td>\n",
       "      <td>NaN</td>\n",
       "      <td>NaN</td>\n",
       "      <td>NaN</td>\n",
       "      <td>NaN</td>\n",
       "      <td>NaN</td>\n",
       "      <td>NaN</td>\n",
       "      <td>7.5</td>\n",
       "      <td>NaN</td>\n",
       "      <td>NaN</td>\n",
       "      <td>NaN</td>\n",
       "    </tr>\n",
       "    <tr>\n",
       "      <th>4</th>\n",
       "      <td>5</td>\n",
       "      <td>8/15/1943</td>\n",
       "      <td>PTO</td>\n",
       "      <td>USA</td>\n",
       "      <td>5 AF</td>\n",
       "      <td>321 BS</td>\n",
       "      <td>B24</td>\n",
       "      <td>NaN</td>\n",
       "      <td>1</td>\n",
       "      <td>NaN</td>\n",
       "      <td>...</td>\n",
       "      <td>NaN</td>\n",
       "      <td>NaN</td>\n",
       "      <td>NaN</td>\n",
       "      <td>NaN</td>\n",
       "      <td>NaN</td>\n",
       "      <td>NaN</td>\n",
       "      <td>8.0</td>\n",
       "      <td>NaN</td>\n",
       "      <td>NaN</td>\n",
       "      <td>22585.0</td>\n",
       "    </tr>\n",
       "  </tbody>\n",
       "</table>\n",
       "<p>5 rows × 46 columns</p>\n",
       "</div>"
      ],
      "text/plain": [
       "   Mission ID Mission Date Theater of Operations Country Air Force  \\\n",
       "0           1    8/15/1943                   MTO     USA     12 AF   \n",
       "1           2    8/15/1943                   PTO     USA      5 AF   \n",
       "2           3    8/15/1943                   MTO     USA     12 AF   \n",
       "3           4    8/15/1943                   MTO     USA     12 AF   \n",
       "4           5    8/15/1943                   PTO     USA      5 AF   \n",
       "\n",
       "         Unit ID Aircraft Series Callsign Mission Type          Takeoff Base  \\\n",
       "0  27 FBG/86 FBG             A36      NaN          NaN  PONTE OLIVO AIRFIELD   \n",
       "1         400 BS             B24      NaN            1                   NaN   \n",
       "2  27 FBG/86 FBG             A36      NaN          NaN  PONTE OLIVO AIRFIELD   \n",
       "3  27 FBG/86 FBG             A36      NaN          NaN  PONTE OLIVO AIRFIELD   \n",
       "4         321 BS             B24      NaN            1                   NaN   \n",
       "\n",
       "   ... Incendiary Devices Weight (Tons) Fragmentation Devices  \\\n",
       "0  ...                              NaN                   NaN   \n",
       "1  ...                              NaN                   NaN   \n",
       "2  ...                              NaN                   NaN   \n",
       "3  ...                              NaN                   NaN   \n",
       "4  ...                              NaN                   NaN   \n",
       "\n",
       "   Fragmentation Devices Type Fragmentation Devices Weight (Pounds)  \\\n",
       "0                         NaN                                   NaN   \n",
       "1                         NaN                                   NaN   \n",
       "2                         NaN                                   NaN   \n",
       "3                         NaN                                   NaN   \n",
       "4                         NaN                                   NaN   \n",
       "\n",
       "  Fragmentation Devices Weight (Tons) Total Weight (Pounds)  \\\n",
       "0                                 NaN                   NaN   \n",
       "1                                 NaN                   NaN   \n",
       "2                                 NaN                   NaN   \n",
       "3                                 NaN                   NaN   \n",
       "4                                 NaN                   NaN   \n",
       "\n",
       "  Total Weight (Tons) Time Over Target Bomb Damage Assessment  Source ID  \n",
       "0                10.0              NaN                    NaN        NaN  \n",
       "1                20.0              NaN                    NaN     9366.0  \n",
       "2                 9.0              NaN                    NaN        NaN  \n",
       "3                 7.5              NaN                    NaN        NaN  \n",
       "4                 8.0              NaN                    NaN    22585.0  \n",
       "\n",
       "[5 rows x 46 columns]"
      ]
     },
     "execution_count": 8,
     "metadata": {},
     "output_type": "execute_result"
    }
   ],
   "source": [
    "aerial_bombing_data.head()"
   ]
  },
  {
   "cell_type": "code",
   "execution_count": null,
   "metadata": {},
   "outputs": [],
   "source": []
>>>>>>> main:notebooks/2020.12.13_Generalised_Linear_Models.ipynb
  }
 ],
 "metadata": {
  "kernelspec": {
   "display_name": "Python 3",
   "language": "python",
   "name": "python3"
  },
  "language_info": {
   "codemirror_mode": {
    "name": "ipython",
    "version": 3
   },
   "file_extension": ".py",
   "mimetype": "text/x-python",
   "name": "python",
   "nbconvert_exporter": "python",
   "pygments_lexer": "ipython3",
   "version": "3.6.5"
  }
 },
 "nbformat": 4,
 "nbformat_minor": 4
}
