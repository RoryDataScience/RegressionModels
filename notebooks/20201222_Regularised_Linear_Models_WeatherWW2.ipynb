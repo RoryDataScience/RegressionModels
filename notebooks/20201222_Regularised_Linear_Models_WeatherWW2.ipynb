{
 "cells": [
  {
   "cell_type": "markdown",
   "metadata": {},
   "source": [
    "**Project Start Date** <br>\n",
    "17th December 2020 <br>\n",
    "Time to Run: <br>\n",
    "\n",
    "**Data Sources** <br>\n",
    "https://www.kaggle.com/usaf/world-war-ii/notebooks <br> \n",
    "https://www.kaggle.com/smid80/weatherww2/data <br>\n",
    "\n",
    "**Background** <br>\n",
    "Aerial Bombing Operations in WW2 - Bombing operations data <br>\n",
    "\n",
    "This dataset consists of digitized paper mission reports from WWII. Each record includes the date, conflict, geographic location, and other data elements to form a live-action sequence of air warfare from 1939 to 1945. The records include U.S. and Royal Air Force data, in addition to some Australian, New Zealand and South African air force missions.\n",
    "\n",
    "Weather Conditions in WW2 (Weather Stations / Weather Conditions) <br>\n",
    "The dataset contains information on weather conditions recorded on each day at various weather stations around the world. Information includes precipitation, snowfall, temperatures, wind speed and whether the day included thunder storms or other poor weather conditions.\n",
    "\n",
    "**Aim of this project** <br>\n",
    "Use Sweetviz - A powerful package to speed up EDA, saving reports as HTML files and with the ability to compare test and train datasets \n",
    "Impletment the use of Ridge Plots as part of EDA to understand variabe distribution analysis \n",
    "One method of Outlier Detection & Analysis\n",
    "Implement a regularised regression models that predicts the maximum weather temperature (based on the minimum temperature)\n",
    "Test Assumptions of Regularised & Residual Analysis: Correlation of errors with predictor variables\n",
    "Dockerise the notebook\n",
    "\n",
    "\n",
    "**Analysis regarding Data Quality** <br>\n",
    "Understanding of the sampling procedure \n",
    "- Since our project team did not participate in planning the study or data collection, it is possible that we are missing crucial context which could render our conclusions invalid. <br>\n",
    "\n",
    "Potential biases <br> \n",
    "Real-world actions that generated the data you inherited <br>\n",
    "\n",
    "**Objectives & Hypothesises to Test (max. 10)** <br>\n",
    "<u>Exploratory Analysis</u>\n",
    "- High level discriptive statistics [x]\n",
    "- Do any values look to be recorded to accommodate missing values? e.g. 999, 9999 etc. [x]\n",
    "- Assessment of feature distributions & Scaling required [x]\n",
    "    - Keep in mind that normalizing the inputs is generally a good idea in every type of regression\n",
    "- Assessment of outliers and treatment\n",
    "- Assessment of feature relationships [x]\n",
    "    - What defines the feature 'poor weather' conditions? [x]\n",
    "    - Is there a relationship between the daily minimum and maximum temperature (TimeSeries Analysis)? [x]\n",
    "    - It is expected that average temperatures are colder in winter months than summer months [x]\n",
    "    - It is expected that more snowfall occurs in the winter months (for northern hemisphere regions) [x]\n",
    "    - It is expected that more Precipitation occurs in the winter months (for northern hemisphere) [x]\n",
    "    - It is expected that lower temperatures correlate with higher snowfall and precipation [x]\n",
    "    - It is expected that higher levels above the sea have greater precipation [x]\n",
    "    - It is expected that the accuracy of recordings based on stations may not be uniform (outlier detection) [x]\n",
    "    - Explore the meaning of 'PoorWeather' [x]\n",
    "<br>\n",
    "\n",
    "**Statistical Model/Machine Learning Applications** <br>\n",
    "<br>\n",
    "<u>Model Development Process</u>\n",
    "- Create a Baseline (dummy) model (Predict the average maximum temperature) [x]\n",
    "- Explain the train/test split [x]\n",
    "- Application of Cross Validation [x]\n",
    "- Predict the maximum temperature given the minimum temperature (Regularised Models) [x]\n",
    "- Feature Selection/Importance (implicity given as the output of the model) [x]\n",
    "- Explain appropriate error metric [x]\n",
    "- Explain what features are developed and transformations applied [x]\n",
    "- Explain if the model is exhibiting high bias or high variance and how this can be improved [x]\n",
    "    - Plot learning curves to deduce high bias/high variance and conclude what means could be applied to solve these issues\n",
    "\n",
    "**Additional Learning notes from Reviewing 3 other Kaggle Notebooks** <br> \n",
    "- To much analysis before initial model development. Goal: Create up to 5 pieces of analysis then start model development\n",
    "\n",
    "**Next steps** <br>\n",
    "- Analysis of influencial data points\n",
    "- Return p_value, std_err for the model results \n",
    "- Explain where the model seems to perform poorly - In what situations does the model make mistakes?\n",
    "- Incorporate the aerial_bombing_data into the model\n",
    "- Use sine and cosine to implement seasonal features\n",
    "- Use latitude and longitude to impute \"eval\" rather than removing respective rows (similarity to impute values)\n",
    "- Assess is using the fahrenheit variable as the target improves model performance \n",
    "- Geo-Spatial Data Features (Latitude & Longitude): Converting geolocation data into zones\n",
    "- Drop the intercept: One important issue in case of both ridge and lasso regression is intercept handling. Generally, regularizing the intercept is not a good idea and it should be left out of regularization\n",
    "- Add graphs for ridge and lasso regression model results\n",
    "- Optimise for the alpha parameter\n",
    "- Complete section 'Data Coherent Checks'\n",
    "- Create visual for feature importance\n",
    "- Deal with count data by creating binned categories (ELEV)\n",
    "- Use stats.models to implement regression models (in replacement of sklearn)\n",
    "\n",
    "**References** <br>\n",
    "Exploratory Data Analysis <br>\n",
    "https://towardsdatascience.com/powerful-eda-exploratory-data-analysis-in-just-two-lines-of-code-using-sweetviz-6c943d32f34 <br>\n",
    "https://medium.com/analytics-vidhya/how-to-plot-data-on-a-world-map-in-python-25cf9733c3dd <br>\n",
    "https://towardsdatascience.com/pandas-profiling-sweetviz-8849704cadd7 <br>\n",
    "https://towardsdatascience.com/ridgeline-plots-the-perfect-way-to-visualize-data-distributions-with-python-de99a5493052 <br>\n",
    "https://towardsdatascience.com/all-you-want-to-know-about-preprocessing-data-preparation-b6c2866071d4 <br>\n",
    "\n",
    "Feature Engineering <br>\n",
    "https://towardsdatascience.com/smarter-ways-to-encode-categorical-data-for-machine-learning-part-1-of-3-6dca2f71b159 <br>\n",
    "https://towardsdatascience.com/cyclical-features-encoding-its-about-time-ce23581845ca <br>\n",
    "https://medium.com/@khadijamahanga/using-latitude-and-longitude-data-in-my-machine-learning-problem-541e2651e08c <br>\n",
    "https://towardsdatascience.com/geopandas-101-plot-any-data-with-a-latitude-and-longitude-on-a-map-98e01944b972\n",
    "\n",
    "Model Development <br>\n",
    "https://www.analyticsvidhya.com/blog/2016/01/ridge-lasso-regression-python-complete-tutorial/ <br>\n",
    "https://towardsdatascience.com/feature-engineering-combination-polynomial-features-3caa4c77a755 <br>\n",
    "https://towardsdatascience.com/machine-learning-polynomial-regression-with-python-5328e4e8a386 <br>\n",
    "https://www.dataquest.io/blog/learning-curves-machine-learning/ <br>\n",
    "https://robert-alvarez.github.io/2018-06-04-diagnostic_plots/"
   ]
  },
  {
   "cell_type": "code",
   "execution_count": 2,
   "metadata": {},
   "outputs": [
    {
     "name": "stderr",
     "output_type": "stream",
     "text": [
      "\n",
      "Bad key text.latex.unicode in file /anaconda3/lib/python3.6/site-packages/matplotlib/mpl-data/stylelib/_classic_test.mplstyle, line 112 ('text.latex.unicode : False # use \"ucs\" and \"inputenc\" LaTeX packages for handling')\n",
      "You probably need to get an updated matplotlibrc file from\n",
      "https://github.com/matplotlib/matplotlib/blob/v3.3.2/matplotlibrc.template\n",
      "or from the matplotlib source distribution\n",
      "\n",
      "Bad key savefig.frameon in file /anaconda3/lib/python3.6/site-packages/matplotlib/mpl-data/stylelib/_classic_test.mplstyle, line 423 ('savefig.frameon : True')\n",
      "You probably need to get an updated matplotlibrc file from\n",
      "https://github.com/matplotlib/matplotlib/blob/v3.3.2/matplotlibrc.template\n",
      "or from the matplotlib source distribution\n",
      "\n",
      "Bad key nbagg.transparent in file /anaconda3/lib/python3.6/site-packages/matplotlib/mpl-data/stylelib/_classic_test.mplstyle, line 426 ('nbagg.transparent: True')\n",
      "You probably need to get an updated matplotlibrc file from\n",
      "https://github.com/matplotlib/matplotlib/blob/v3.3.2/matplotlibrc.template\n",
      "or from the matplotlib source distribution\n",
      "\n",
      "Bad key pgf.debug in file /anaconda3/lib/python3.6/site-packages/matplotlib/mpl-data/stylelib/_classic_test.mplstyle, line 446 ('pgf.debug           : False')\n",
      "You probably need to get an updated matplotlibrc file from\n",
      "https://github.com/matplotlib/matplotlib/blob/v3.3.2/matplotlibrc.template\n",
      "or from the matplotlib source distribution\n",
      "\n",
      "Bad key verbose.level in file /anaconda3/lib/python3.6/site-packages/matplotlib/mpl-data/stylelib/_classic_test.mplstyle, line 477 ('verbose.level  : silent      # one of silent, helpful, debug, debug-annoying')\n",
      "You probably need to get an updated matplotlibrc file from\n",
      "https://github.com/matplotlib/matplotlib/blob/v3.3.2/matplotlibrc.template\n",
      "or from the matplotlib source distribution\n",
      "\n",
      "Bad key verbose.fileo in file /anaconda3/lib/python3.6/site-packages/matplotlib/mpl-data/stylelib/_classic_test.mplstyle, line 478 ('verbose.fileo  : sys.stdout  # a log filename, sys.stdout or sys.stderr')\n",
      "You probably need to get an updated matplotlibrc file from\n",
      "https://github.com/matplotlib/matplotlib/blob/v3.3.2/matplotlibrc.template\n",
      "or from the matplotlib source distribution\n",
      "\n",
      "Bad key animation.mencoder_path in file /anaconda3/lib/python3.6/site-packages/matplotlib/mpl-data/stylelib/_classic_test.mplstyle, line 509 ('animation.mencoder_path: mencoder')\n",
      "You probably need to get an updated matplotlibrc file from\n",
      "https://github.com/matplotlib/matplotlib/blob/v3.3.2/matplotlibrc.template\n",
      "or from the matplotlib source distribution\n",
      "\n",
      "Bad key animation.mencoder_args in file /anaconda3/lib/python3.6/site-packages/matplotlib/mpl-data/stylelib/_classic_test.mplstyle, line 512 ('animation.mencoder_args:          # Additional arguments to pass to mencoder')\n",
      "You probably need to get an updated matplotlibrc file from\n",
      "https://github.com/matplotlib/matplotlib/blob/v3.3.2/matplotlibrc.template\n",
      "or from the matplotlib source distribution\n"
     ]
    }
   ],
   "source": [
    "import warnings\n",
    "warnings.filterwarnings('ignore')\n",
    "\n",
    "# Data Folders\n",
    "import os\n",
    "import sys\n",
    "\n",
    "# Data Wrangling\n",
    "import math\n",
    "import pandas as pd\n",
    "import numpy as np\n",
    "from numpy import mean\n",
    "from numpy import std\n",
    "import statistics\n",
    "from scipy import stats\n",
    "import calendar\n",
    "import datetime as dt\n",
    "from itertools import combinations\n",
    "\n",
    "# Data Exploration and Visualisation\n",
    "import seaborn as sns\n",
    "# !{sys.executable} -m pip install sweetviz\n",
    "import sweetviz as sv\n",
    "# !{sys.executable} -m pip install joypy\n",
    "import joypy\n",
    "from joypy import joyplot\n",
    "from pandas.api.types import CategoricalDtype\n",
    "import plotly.graph_objs as go\n",
    "import matplotlib.pyplot as plt\n",
    "\n",
    "# Model Development\n",
    "import scipy\n",
    "import sklearn\n",
    "from sklearn import preprocessing\n",
    "from sklearn.preprocessing import MinMaxScaler\n",
    "from sklearn.model_selection import train_test_split\n",
    "from sklearn.model_selection import KFold\n",
    "from sklearn.linear_model import LinearRegression\n",
    "from sklearn.preprocessing import PolynomialFeatures \n",
    "from sklearn.linear_model import Ridge\n",
    "from sklearn.linear_model import Lasso\n",
    "from sklearn.model_selection import cross_val_score\n",
    "from sklearn.metrics import mean_squared_error, r2_score\n",
    "from sklearn.model_selection import learning_curve\n",
    "\n",
    "# Data Export\n",
    "import pickle"
   ]
  },
  {
   "cell_type": "code",
   "execution_count": 3,
   "metadata": {},
   "outputs": [
    {
     "data": {
      "text/plain": [
       "'/Users/Rej1992/Documents/GitHub/RegressionModels/notebooks'"
      ]
     },
     "execution_count": 3,
     "metadata": {},
     "output_type": "execute_result"
    }
   ],
   "source": [
    "os.getcwd()"
   ]
  },
  {
   "cell_type": "code",
   "execution_count": 4,
   "metadata": {},
   "outputs": [],
   "source": [
    "aerial_bombing_data = pd.read_csv('/Users/Rej1992/Documents/GitHub/RegressionModels/data/01_raw/ww2_boming_operations.csv')\n",
    "weather_summary = pd.read_csv('/Users/Rej1992/Documents/GitHub/RegressionModels/data/01_raw/WeatherTempPrediction.csv')\n",
    "weather_station_location = pd.read_csv('/Users/Rej1992/Documents/GitHub/RegressionModels/data/01_raw/WeatherStationLocations.csv')\n",
    "\n",
    "data_list = []\n",
    "data_list.append(aerial_bombing_data)\n",
    "data_list.append(weather_summary)\n",
    "data_list.append(weather_station_location)"
   ]
  },
  {
   "cell_type": "code",
   "execution_count": 5,
   "metadata": {},
   "outputs": [],
   "source": [
    "# State the assumptions you’re being forced to make.\n",
    "# Write up caveat notes to be included in the appendix of your final report\n",
    "# Write cautionary notes that warn the decision-maker (and your other readers) that conclusions from the study will \n",
    "# need to be downgraded due to potential data issues"
   ]
  },
  {
   "cell_type": "code",
   "execution_count": 6,
   "metadata": {},
   "outputs": [
    {
     "name": "stdout",
     "output_type": "stream",
     "text": [
      "Dataframe Dimensions\n",
      "(178281, 46)\n",
      "\n",
      "Dataframe Columns and respective types\n",
      "Mission ID                                 int64\n",
      "Mission Date                              object\n",
      "Theater of Operations                     object\n",
      "Country                                   object\n",
      "Air Force                                 object\n",
      "Unit ID                                   object\n",
      "Aircraft Series                           object\n",
      "Callsign                                  object\n",
      "Mission Type                              object\n",
      "Takeoff Base                              object\n",
      "Takeoff Location                          object\n",
      "Takeoff Latitude                          object\n",
      "Takeoff Longitude                        float64\n",
      "Target ID                                 object\n",
      "Target Country                            object\n",
      "Target City                               object\n",
      "Target Type                               object\n",
      "Target Industry                           object\n",
      "Target Priority                           object\n",
      "Target Latitude                          float64\n",
      "Target Longitude                         float64\n",
      "Altitude (Hundreds of Feet)              float64\n",
      "Airborne Aircraft                        float64\n",
      "Attacking Aircraft                       float64\n",
      "Bombing Aircraft                         float64\n",
      "Aircraft Returned                        float64\n",
      "Aircraft Failed                          float64\n",
      "Aircraft Damaged                         float64\n",
      "Aircraft Lost                            float64\n",
      "High Explosives                          float64\n",
      "High Explosives Type                      object\n",
      "High Explosives Weight (Pounds)           object\n",
      "High Explosives Weight (Tons)            float64\n",
      "Incendiary Devices                       float64\n",
      "Incendiary Devices Type                   object\n",
      "Incendiary Devices Weight (Pounds)       float64\n",
      "Incendiary Devices Weight (Tons)         float64\n",
      "Fragmentation Devices                    float64\n",
      "Fragmentation Devices Type                object\n",
      "Fragmentation Devices Weight (Pounds)    float64\n",
      "Fragmentation Devices Weight (Tons)      float64\n",
      "Total Weight (Pounds)                    float64\n",
      "Total Weight (Tons)                      float64\n",
      "Time Over Target                          object\n",
      "Bomb Damage Assessment                    object\n",
      "Source ID                                float64\n",
      "dtype: object\n",
      "\n",
      "Percentage of Missing Data\n",
      "Mission ID                                0.000000\n",
      "Mission Date                              0.000000\n",
      "Theater of Operations                     1.771361\n",
      "Country                                  29.047964\n",
      "Air Force                                29.076009\n",
      "Unit ID                                  71.442274\n",
      "Aircraft Series                           0.065066\n",
      "Callsign                                 99.988221\n",
      "Mission Type                             73.532794\n",
      "Takeoff Base                             98.102434\n",
      "Takeoff Location                         98.127675\n",
      "Takeoff Latitude                         98.327921\n",
      "Takeoff Longitude                        98.328481\n",
      "Target ID                                28.536412\n",
      "Target Country                            0.335986\n",
      "Target City                               1.269344\n",
      "Target Type                              17.899271\n",
      "Target Industry                          29.056377\n",
      "Target Priority                          24.433899\n",
      "Target Latitude                           4.888911\n",
      "Target Longitude                          4.901251\n",
      "Altitude (Hundreds of Feet)              32.227214\n",
      "Airborne Aircraft                        53.869453\n",
      "Attacking Aircraft                       29.825388\n",
      "Bombing Aircraft                         54.222828\n",
      "Aircraft Returned                        99.925399\n",
      "Aircraft Failed                          99.861455\n",
      "Aircraft Damaged                         99.978685\n",
      "Aircraft Lost                            99.911376\n",
      "High Explosives                          80.515591\n",
      "High Explosives Type                     76.472535\n",
      "High Explosives Weight (Pounds)          98.866396\n",
      "High Explosives Weight (Tons)            17.994066\n",
      "Incendiary Devices                       98.158525\n",
      "Incendiary Devices Type                  96.904325\n",
      "Incendiary Devices Weight (Pounds)       99.800315\n",
      "Incendiary Devices Weight (Tons)         85.566606\n",
      "Fragmentation Devices                    96.764658\n",
      "Fragmentation Devices Type               96.766341\n",
      "Fragmentation Devices Weight (Pounds)    99.891183\n",
      "Fragmentation Devices Weight (Tons)      90.519461\n",
      "Total Weight (Pounds)                    98.811427\n",
      "Total Weight (Tons)                       6.603620\n",
      "Time Over Target                         99.613531\n",
      "Bomb Damage Assessment                   99.941665\n",
      "Source ID                                 2.268890\n",
      "dtype: float64\n",
      "\n",
      "Dataframe Dimensions\n",
      "(119040, 31)\n",
      "\n",
      "Dataframe Columns and respective types\n",
      "STA              int64\n",
      "Date            object\n",
      "Precip          object\n",
      "WindGustSpd    float64\n",
      "MaxTemp        float64\n",
      "MinTemp        float64\n",
      "MeanTemp       float64\n",
      "Snowfall        object\n",
      "PoorWeather     object\n",
      "YR               int64\n",
      "MO               int64\n",
      "DA               int64\n",
      "PRCP            object\n",
      "DR             float64\n",
      "SPD            float64\n",
      "MAX            float64\n",
      "MIN            float64\n",
      "MEA            float64\n",
      "SNF             object\n",
      "SND            float64\n",
      "FT             float64\n",
      "FB             float64\n",
      "FTI            float64\n",
      "ITH            float64\n",
      "PGT            float64\n",
      "TSHDSBRSGF      object\n",
      "SD3            float64\n",
      "RHX            float64\n",
      "RHN            float64\n",
      "RVG            float64\n",
      "WTE            float64\n",
      "dtype: object\n",
      "\n",
      "Percentage of Missing Data\n",
      "STA              0.000000\n",
      "Date             0.000000\n",
      "Precip           0.000000\n",
      "WindGustSpd     99.553091\n",
      "MaxTemp          0.000000\n",
      "MinTemp          0.000000\n",
      "MeanTemp         0.000000\n",
      "Snowfall         0.976983\n",
      "PoorWeather     71.239079\n",
      "YR               0.000000\n",
      "MO               0.000000\n",
      "DA               0.000000\n",
      "PRCP             1.622984\n",
      "DR              99.552251\n",
      "SPD             99.553091\n",
      "MAX              0.398185\n",
      "MIN              0.393145\n",
      "MEA              0.418347\n",
      "SNF              0.976983\n",
      "SND             95.326781\n",
      "FT             100.000000\n",
      "FB             100.000000\n",
      "FTI            100.000000\n",
      "ITH            100.000000\n",
      "PGT             99.558972\n",
      "TSHDSBRSGF      71.239079\n",
      "SD3            100.000000\n",
      "RHX            100.000000\n",
      "RHN            100.000000\n",
      "RVG            100.000000\n",
      "WTE            100.000000\n",
      "dtype: float64\n",
      "\n",
      "Dataframe Dimensions\n",
      "(161, 8)\n",
      "\n",
      "Dataframe Columns and respective types\n",
      "WBAN                  int64\n",
      "NAME                 object\n",
      "STATE/COUNTRY ID     object\n",
      "LAT                  object\n",
      "LON                  object\n",
      "ELEV                  int64\n",
      "Latitude            float64\n",
      "Longitude           float64\n",
      "dtype: object\n",
      "\n",
      "Percentage of Missing Data\n",
      "WBAN                0.0\n",
      "NAME                0.0\n",
      "STATE/COUNTRY ID    0.0\n",
      "LAT                 0.0\n",
      "LON                 0.0\n",
      "ELEV                0.0\n",
      "Latitude            0.0\n",
      "Longitude           0.0\n",
      "dtype: float64\n",
      "\n"
     ]
    }
   ],
   "source": [
    "for i in data_list:\n",
    "    print(\"Dataframe Dimensions\")\n",
    "    print(i.shape)\n",
    "    print(\"\")\n",
    "\n",
    "    print(\"Dataframe Columns and respective types\")\n",
    "    print(i.dtypes)\n",
    "    print(\"\")\n",
    "\n",
    "    print(\"Percentage of Missing Data\")\n",
    "    print(i.isnull().sum() * 100 / len(i))\n",
    "    \n",
    "    print(\"\")"
   ]
  },
  {
   "cell_type": "markdown",
   "metadata": {},
   "source": [
    "## Data Analysis"
   ]
  },
  {
   "cell_type": "code",
   "execution_count": 7,
   "metadata": {},
   "outputs": [
    {
     "name": "stdout",
     "output_type": "stream",
     "text": [
      "159\n",
      "161\n",
      "Sets are of the same data type:  True\n",
      "Stations that are uncommon across both sets:  [15605, 15604]\n"
     ]
    }
   ],
   "source": [
    "# Investiage options to link the dataframes with a unique key: weather_summary and weather_station_location look to be \n",
    "# connected via STA and WBAN respectively \n",
    "def uncommon_elements(list1, list2):\n",
    "    ## Add something clever so the look up is always against the set with the largest number of unique records\n",
    "    #list2 = max(len(list1), list(2))\n",
    "    \n",
    "    return [element for element in list2 if element not in list1]\n",
    "\n",
    "STA = set(weather_summary.STA)\n",
    "print(len(STA))\n",
    "\n",
    "WBAN = set(weather_station_location.WBAN)\n",
    "print(len(WBAN))\n",
    "\n",
    "print('Sets are of the same data type: ', type(weather_summary.STA) == type(weather_station_location.WBAN))\n",
    "\n",
    "print('Stations that are uncommon across both sets: ', uncommon_elements(STA, WBAN))"
   ]
  },
  {
   "cell_type": "code",
   "execution_count": 8,
   "metadata": {},
   "outputs": [
    {
     "name": "stdout",
     "output_type": "stream",
     "text": [
      "119040\n"
     ]
    }
   ],
   "source": [
    "combined_data = pd.merge(weather_summary, \n",
    "                         weather_station_location, \n",
    "                         how = 'inner', # takes care of only keeping records in both sets\n",
    "                         left_on='STA',\n",
    "                         right_on='WBAN')\n",
    "\n",
    "print(len(combined_data))"
   ]
  },
  {
   "cell_type": "markdown",
   "metadata": {},
   "source": [
    "## Columns for Combined Data\n",
    "**STA**\n",
    "- STA: represent the Weather Station\n",
    "- Not all STA codes represent the same time frequency \n",
    "- Object Data Type\n",
    "\n",
    "**Date** \n",
    "- Date has been split into DA MO and YR respectively, note the century has been dropped when recording the YR\n",
    "- Date Data Type (will require engineering in order to be used for ML\n",
    "\n",
    "**Precip** \n",
    "- Precipitation in mm. This consists of numerical values and 'T' for 16,754 entries. This looks to be a mistake in the data collection (Impute precip == 0 for these cases)\n",
    "- Numeric (float) Data Type\n",
    "\n",
    "**MaxTemp and MinTemp** \n",
    "- These are features that have been transformed into celcius from fahrenheit readings MAX/MIN and these have been recorded to 6 decimal places. The degrees celcius value has additionally been converted to an average. Using celcius will have a smaller range than the fahrenheit records. Patterns may be more easily seen based fahrenheit columns \n",
    "- Numeric (float) Data Type\n",
    "\n",
    "**MEA** \n",
    "- This is the mean for the fahrenheit MAX / MIN columns and this has been rounded to 1 d.p. Drop this columns and calculate the extact mean value\n",
    "- Numeric (float) Data Type\n",
    "\n",
    "**Snowfall**\n",
    "- This looks to be measures in terms of the amount of snow that fell in mm. The units are not obvious so there are two options\n",
    "- Either assume the units are centiments by attempting to research more about the data OR normalise all the columns so they are on the same scale\n",
    "- Numeric (float) Data Type\n",
    "\n",
    "**SNF**\n",
    "- After research it is unclear what SNF relates too and seems to gave a range of 0 - 3.4 (Agree to remove)\n",
    "- This supports the necessity to normalise the data for the numeric columns due to the possibility of differing units across columns\n",
    "- Numeric (float) Data Type\n",
    "\n",
    "**PRCP**\n",
    "- This column looks to have been scaled by a factor of 1/25.4*Precip (Agree to remove)\n",
    "- Numeric (float) Data Type\n",
    "\n",
    "**TSHDSBRSGF**\n",
    "- This is a repeat for PoorWeather so can be removed\n",
    "\n",
    "**WBAN**\n",
    "- Same as STA, representing the Weather Station\n",
    "- Not all Weather Stations are located in the USA (unique STATE/COUNTRY ID = 63)\n",
    "- This will be duplicated due to the merge so can be removed \n",
    "- Object Data Type\n",
    "\n",
    "**NAME**\n",
    "- This is the name of the weather station. It has a many:1 relationship with State/Country ID i.e. more than one station can be present per country \n",
    "- Object Data Type (Nominal)\n",
    "\n",
    "**STATE/COUNTRY ID**\n",
    "- This is the location of the weather station at state/country level\n",
    "- Object Data Type (Nominal)\n",
    "\n",
    "**LAT**\n",
    "- This is the decimal latitude in string format \n",
    "\n",
    "**LON**\n",
    "- This is the decimal latitude in string format \n",
    "\n",
    "**ELEV**\n",
    "- Explanation not given - Expected to be level above the sea \n",
    "- Note that an elevation of 9999 means unknown\n",
    "- Numeric (float) Data Type\n",
    "\n",
    "**Latitude**\n",
    "- This is the decimal latitude calculated from the LAT/LON provided (use this over string as in format for ML)\n",
    "\n",
    "**Longitude**\n",
    "- This is the decimal longitude calculated from the LAT/LON provided (use this over string as in format for ML)"
   ]
  },
  {
   "cell_type": "markdown",
   "metadata": {},
   "source": [
    "### Data Cleaning - Remove duplicate Rows & Columns\n",
    "- Remove all columns that exhibit over 90% missing values\n",
    "- Remove celcius columns 'MaxTemp', 'MinTemp', 'MeanTemp' and 'MEA'\n",
    "- Remove duplicated/scaled columns: 'PRCP', 'TSHDSBRSGF'\n",
    "- Remove the primary key to join dataframes SNF & WBAN\n",
    "- Remove LAT as string format\n",
    "- Remove LON as string format\n",
    "- Remove those columns with zero variance\n",
    "- Remove duplicated rows"
   ]
  },
  {
   "cell_type": "code",
   "execution_count": 9,
   "metadata": {},
   "outputs": [
    {
     "name": "stdout",
     "output_type": "stream",
     "text": [
      "Duplicated rows for index:  Int64Index([94660, 94661, 94662, 94663, 94664, 94665, 94666, 94667, 94668,\n",
      "            94669],\n",
      "           dtype='int64')\n"
     ]
    }
   ],
   "source": [
    "# Handling missing data - Remove any columns with over 90% missing data \n",
    "def remove_missing_values(data, thresold_limit = 0.9):\n",
    "    \n",
    "    return data.loc[:, data.isnull().sum() < thresold_limit*data.shape[0]]\n",
    "\n",
    "combined_data = remove_missing_values(combined_data)\n",
    "\n",
    "# Remove additional columns based on explanation above\n",
    "combined_data.drop(['MaxTemp', \n",
    "                    'MinTemp', \n",
    "                    'MeanTemp', \n",
    "                    'MEA', \n",
    "                    'TSHDSBRSGF', \n",
    "                    'PRCP', \n",
    "                    #'PoorWeather', \n",
    "                    'SNF', \n",
    "                    'WBAN',\n",
    "                    'LAT', \n",
    "                    'LON'], axis=1, inplace=True)\n",
    "\n",
    "# Data Quality Expectations: Test for zero variance \n",
    "combined_data = combined_data.loc[:, combined_data.apply(pd.Series.nunique) != 1]\n",
    "\n",
    "# Data Quality Expectations: Duplicated Records\n",
    "print('Duplicated rows for index: ', combined_data[combined_data.duplicated()].index)\n",
    "#print(len(combined_data))\n",
    "combined_data = combined_data.drop_duplicates()\n",
    "#print(len(combined_data))"
   ]
  },
  {
   "cell_type": "markdown",
   "metadata": {},
   "source": [
    "## Data Cleaning\n",
    "- Understand and update data to correct type [x]\n",
    "- Check that variables are within a range expected [x]\n",
    "- Assessment of categorical labels and confirm they are as expected [x]\n",
    "- Evaluate where missing data exists and how to deal with these fields [x]\n",
    "    - Do any values look to be recorded to accommodate missing values? e.g. 999, 9999 etc. [x]\n",
    "- Data represents logical coherence (e.g. underaged cannot hold a driving licence) [x]\n",
    "- Reformatting: Drop/Rename columns [x]"
   ]
  },
  {
   "cell_type": "markdown",
   "metadata": {},
   "source": [
    "### Correct Data Types"
   ]
  },
  {
   "cell_type": "code",
   "execution_count": 10,
   "metadata": {},
   "outputs": [],
   "source": [
    "# Correct Date\n",
    "def correct_dates(data, cols):\n",
    "    \n",
    "    return pd.to_datetime(combined_data[cols], format = '%Y-%m-%d')\n",
    "\n",
    "# Correct Object Types\n",
    "def correct_objects(data, cols):\n",
    "    \n",
    "    return data[cols].astype('object')\n",
    "\n",
    "# Correct String Types\n",
    "def correct_string(data, cols):\n",
    "    \n",
    "    return data[cols].astype(str)\n",
    "\n",
    "combined_data.Date = correct_dates(combined_data, 'Date')\n",
    "\n",
    "combined_data.STA = correct_objects(combined_data, 'STA')\n",
    "combined_data.YR = correct_objects(combined_data, 'YR')\n",
    "combined_data.MO = correct_objects(combined_data, 'MO')\n",
    "combined_data.DA = correct_objects(combined_data, 'DA')\n",
    "\n",
    "combined_data.Snowfall = correct_string(combined_data, 'Snowfall')\n",
    "combined_data.PoorWeather = correct_string(combined_data, 'PoorWeather')"
   ]
  },
  {
   "cell_type": "markdown",
   "metadata": {},
   "source": [
    "### Imputation of Missing Values"
   ]
  },
  {
   "cell_type": "code",
   "execution_count": 11,
   "metadata": {},
   "outputs": [],
   "source": [
    "# Deal with Missing/Inaccurate values and correct data types \n",
    "def impute_precip_missing_values(data, cols):\n",
    "    \n",
    "    return np.where((data[cols] == 'T') | (data[cols] == ' '), 0, data[cols])\n",
    "\n",
    "def impute_snowfall_missing_values(data, cols):\n",
    "    \n",
    "    return np.where((data[cols] == '#VALUE!') | (data[cols] == 'nan'), 0, data[cols])\n",
    "\n",
    "\n",
    "# Correct float types\n",
    "def correct_floats(data, cols):\n",
    "    \n",
    "    return data[cols].astype('float')\n",
    "\n",
    "# As the target variable contains 4% missing values remove these to avoid inaccurate assumptions\n",
    "def remove_missing_max(data):\n",
    "    \n",
    "    return data[data.loc[:, 'MAX'].notnull()]\n",
    "\n",
    "def remove_missing_min(data):\n",
    "    \n",
    "    return data[data.loc[:, 'MIN'].notnull()]\n",
    "\n",
    "combined_data.Precip = impute_precip_missing_values(combined_data, 'Precip')\n",
    "combined_data.Precip = correct_floats(combined_data, 'Precip')\n",
    "\n",
    "combined_data.Snowfall = impute_snowfall_missing_values(combined_data, 'Snowfall')\n",
    "combined_data.Snowfall = correct_floats(combined_data, 'Snowfall')\n",
    "\n",
    "combined_data = remove_missing_max(combined_data)\n",
    "combined_data = remove_missing_min(combined_data)"
   ]
  },
  {
   "cell_type": "code",
   "execution_count": 12,
   "metadata": {},
   "outputs": [
    {
     "name": "stdout",
     "output_type": "stream",
     "text": [
      "Empty DataFrame\n",
      "Columns: [STA, Date, Precip, Snowfall, PoorWeather, YR, MO, DA, MAX, MIN, NAME, STATE/COUNTRY ID, ELEV, Latitude, Longitude]\n",
      "Index: []\n",
      "Empty DataFrame\n",
      "Columns: [STA, Date, Precip, Snowfall, PoorWeather, YR, MO, DA, MAX, MIN, NAME, STATE/COUNTRY ID, ELEV, Latitude, Longitude]\n",
      "Index: []\n",
      "STA                 0.0\n",
      "Date                0.0\n",
      "Precip              0.0\n",
      "Snowfall            0.0\n",
      "PoorWeather         0.0\n",
      "YR                  0.0\n",
      "MO                  0.0\n",
      "DA                  0.0\n",
      "MAX                 0.0\n",
      "MIN                 0.0\n",
      "NAME                0.0\n",
      "STATE/COUNTRY ID    0.0\n",
      "ELEV                0.0\n",
      "Latitude            0.0\n",
      "Longitude           0.0\n",
      "dtype: float64\n"
     ]
    }
   ],
   "source": [
    "# Verify that the above logic has been correctly applied \n",
    "print(combined_data[combined_data.loc[:, 'MAX'].isnull()])\n",
    "print(combined_data[combined_data.loc[:, 'MIN'].isnull()])\n",
    "print((combined_data.isnull().sum() * 100) / len(combined_data))"
   ]
  },
  {
   "cell_type": "code",
   "execution_count": 13,
   "metadata": {},
   "outputs": [
    {
     "name": "stdout",
     "output_type": "stream",
     "text": [
      "STA\n",
      "10001\n",
      "82506\n",
      "\n",
      "Date\n",
      "1940-01-01 00:00:00\n",
      "1945-12-31 00:00:00\n",
      "\n",
      "Precip\n",
      "0.0\n",
      "307.34\n",
      "\n",
      "Snowfall\n",
      "0.0\n",
      "86.36\n",
      "\n",
      "PoorWeather\n",
      "0\n",
      "nan\n",
      "\n",
      "YR\n",
      "40\n",
      "45\n",
      "\n",
      "MO\n",
      "1\n",
      "12\n",
      "\n",
      "DA\n",
      "1\n",
      "31\n",
      "\n",
      "MAX\n",
      "-28.0\n",
      "122.0\n",
      "\n",
      "MIN\n",
      "-37.0\n",
      "94.0\n",
      "\n",
      "NAME\n",
      "ABADAN\n",
      "WILLEMSTAD\n",
      "\n",
      "STATE/COUNTRY ID\n",
      "AL\n",
      "UK\n",
      "\n",
      "ELEV\n",
      "1\n",
      "9999\n",
      "\n",
      "Latitude\n",
      "-27.6\n",
      "67.01666667\n",
      "\n",
      "Longitude\n",
      "-175.0\n",
      "177.3666667\n",
      "\n"
     ]
    }
   ],
   "source": [
    "#Check that variables are within a range expected\n",
    "analysis_columns = combined_data.columns\n",
    "\n",
    "for i in analysis_columns:\n",
    "    print(i)\n",
    "    print(min(combined_data[i]))\n",
    "    print(max(combined_data[i]))\n",
    "    print(\"\"\"\"\"\")\n",
    "\n",
    "    \n",
    "## Precip - Contains letters and numeric values: Requires attention & cannot be negative \n",
    "## Snowfall - Contains #VALUE! and nan: Requires attention & cannot be negative\n",
    "## PoorWeather - Contains nan: Requires attention \n",
    "## ELEV - Contains 9999 which suggests a comprimise for missing data\n",
    "\n",
    "## STA - No reason to suggest dubious data\n",
    "## Date - No reason to suggest dubious data\n",
    "## YR - No reason to suggest dubious data & cannot be negative\n",
    "## MO - No reason to suggest dubious data & cannot be negative\n",
    "## DA - No reason to suggest dubious data & cannot be negative\n",
    "## MAX - No reason to suggest dubious data\n",
    "## MIN - No reason to suggest dubious data\n",
    "## NAME - No reason to suggest dubious data & Categorical Data OK\n",
    "## STATE/COUNTRY ID - No reason to suggest dubious data & Categorical Data OK\n",
    "## Latitude - No reason to suggest dubious data\n",
    "## Longitude - No reason to suggest dubious data"
   ]
  },
  {
   "cell_type": "markdown",
   "metadata": {},
   "source": [
    "#### Specific Assessment for ELEV"
   ]
  },
  {
   "cell_type": "code",
   "execution_count": 14,
   "metadata": {},
   "outputs": [
    {
     "name": "stdout",
     "output_type": "stream",
     "text": [
      "2.96 %\n"
     ]
    }
   ],
   "source": [
    "print(round(len(combined_data[combined_data.ELEV == 9999])/len(combined_data)*100,2),'%')"
   ]
  },
  {
   "cell_type": "code",
   "execution_count": 15,
   "metadata": {
    "scrolled": true
   },
   "outputs": [
    {
     "data": {
      "text/plain": [
       "STATE/COUNTRY ID\n",
       "LI    2868\n",
       "DR     629\n",
       "TS      13\n",
       "dtype: int64"
      ]
     },
     "execution_count": 15,
     "metadata": {},
     "output_type": "execute_result"
    }
   ],
   "source": [
    "combined_data[combined_data.ELEV == 9999].value_counts(\"STATE/COUNTRY ID\")"
   ]
  },
  {
   "cell_type": "code",
   "execution_count": 16,
   "metadata": {},
   "outputs": [
    {
     "data": {
      "text/plain": [
       "NAME\n",
       "MARSHALL/ROBERTS FIELD    1270\n",
       "CAPE PALMAS                935\n",
       "FISHERMANS LAKE            663\n",
       "CIUDAD TRUJILLO            629\n",
       "EL DJEM                     13\n",
       "dtype: int64"
      ]
     },
     "execution_count": 16,
     "metadata": {},
     "output_type": "execute_result"
    }
   ],
   "source": [
    "combined_data[combined_data.ELEV == 9999].value_counts(\"NAME\")"
   ]
  },
  {
   "cell_type": "code",
   "execution_count": 17,
   "metadata": {},
   "outputs": [
    {
     "name": "stdout",
     "output_type": "stream",
     "text": [
      "MARSHALL/ROBERTS FIELD\n",
      "[9999]\n",
      "\n",
      "CAPE PALMAS\n",
      "[9999]\n",
      "\n",
      "FISHERMANS LAKE\n",
      "[9999]\n",
      "\n",
      "CIUDAD TRUJILLO\n",
      "[9999]\n",
      "\n",
      "EL DJEM\n",
      "[9999]\n",
      "\n"
     ]
    }
   ],
   "source": [
    "missing_col_eval = ['MARSHALL/ROBERTS FIELD', 'CAPE PALMAS', 'FISHERMANS LAKE', 'CIUDAD TRUJILLO', 'EL DJEM']\n",
    "\n",
    "for i in missing_col_eval:\n",
    "    print(i)\n",
    "    print(combined_data[combined_data.NAME == i][\"ELEV\"].unique())\n",
    "    print(\"\"\"\"\"\")"
   ]
  },
  {
   "cell_type": "code",
   "execution_count": 18,
   "metadata": {},
   "outputs": [
    {
     "data": {
      "text/html": [
       "<div>\n",
       "<style scoped>\n",
       "    .dataframe tbody tr th:only-of-type {\n",
       "        vertical-align: middle;\n",
       "    }\n",
       "\n",
       "    .dataframe tbody tr th {\n",
       "        vertical-align: top;\n",
       "    }\n",
       "\n",
       "    .dataframe thead th {\n",
       "        text-align: right;\n",
       "    }\n",
       "</style>\n",
       "<table border=\"1\" class=\"dataframe\">\n",
       "  <thead>\n",
       "    <tr style=\"text-align: right;\">\n",
       "      <th>STATE/COUNTRY ID</th>\n",
       "      <th>DR</th>\n",
       "      <th>LI</th>\n",
       "      <th>TS</th>\n",
       "    </tr>\n",
       "    <tr>\n",
       "      <th>NAME</th>\n",
       "      <th></th>\n",
       "      <th></th>\n",
       "      <th></th>\n",
       "    </tr>\n",
       "  </thead>\n",
       "  <tbody>\n",
       "    <tr>\n",
       "      <th>CAPE PALMAS</th>\n",
       "      <td>0</td>\n",
       "      <td>935</td>\n",
       "      <td>0</td>\n",
       "    </tr>\n",
       "    <tr>\n",
       "      <th>CIUDAD TRUJILLO</th>\n",
       "      <td>629</td>\n",
       "      <td>0</td>\n",
       "      <td>0</td>\n",
       "    </tr>\n",
       "    <tr>\n",
       "      <th>EL DJEM</th>\n",
       "      <td>0</td>\n",
       "      <td>0</td>\n",
       "      <td>13</td>\n",
       "    </tr>\n",
       "    <tr>\n",
       "      <th>FISHERMANS LAKE</th>\n",
       "      <td>0</td>\n",
       "      <td>663</td>\n",
       "      <td>0</td>\n",
       "    </tr>\n",
       "    <tr>\n",
       "      <th>MARSHALL/ROBERTS FIELD</th>\n",
       "      <td>0</td>\n",
       "      <td>1270</td>\n",
       "      <td>0</td>\n",
       "    </tr>\n",
       "  </tbody>\n",
       "</table>\n",
       "</div>"
      ],
      "text/plain": [
       "STATE/COUNTRY ID         DR    LI  TS\n",
       "NAME                                 \n",
       "CAPE PALMAS               0   935   0\n",
       "CIUDAD TRUJILLO         629     0   0\n",
       "EL DJEM                   0     0  13\n",
       "FISHERMANS LAKE           0   663   0\n",
       "MARSHALL/ROBERTS FIELD    0  1270   0"
      ]
     },
     "execution_count": 18,
     "metadata": {},
     "output_type": "execute_result"
    }
   ],
   "source": [
    "missing_elev = combined_data[combined_data[\"ELEV\"] == 9999]\n",
    "pd.crosstab(missing_elev.NAME, missing_elev[\"STATE/COUNTRY ID\"])"
   ]
  },
  {
   "cell_type": "code",
   "execution_count": 19,
   "metadata": {},
   "outputs": [],
   "source": [
    "# There is no way to impute values for ELEV based on other information available based on STATE or other location factors\n",
    "## Decision to remove these rows\n",
    "combined_data = combined_data[combined_data.ELEV != 9999]"
   ]
  },
  {
   "cell_type": "markdown",
   "metadata": {},
   "source": [
    "### Linear Combination Check"
   ]
  },
  {
   "cell_type": "code",
   "execution_count": 20,
   "metadata": {},
   "outputs": [
    {
     "data": {
      "text/html": [
       "<div>\n",
       "<style scoped>\n",
       "    .dataframe tbody tr th:only-of-type {\n",
       "        vertical-align: middle;\n",
       "    }\n",
       "\n",
       "    .dataframe tbody tr th {\n",
       "        vertical-align: top;\n",
       "    }\n",
       "\n",
       "    .dataframe thead th {\n",
       "        text-align: right;\n",
       "    }\n",
       "</style>\n",
       "<table border=\"1\" class=\"dataframe\">\n",
       "  <thead>\n",
       "    <tr style=\"text-align: right;\">\n",
       "      <th></th>\n",
       "      <th>Precip</th>\n",
       "      <th>Snowfall</th>\n",
       "      <th>MAX</th>\n",
       "      <th>MIN</th>\n",
       "      <th>ELEV</th>\n",
       "      <th>Latitude</th>\n",
       "      <th>Longitude</th>\n",
       "    </tr>\n",
       "  </thead>\n",
       "  <tbody>\n",
       "    <tr>\n",
       "      <th>Precip</th>\n",
       "      <td>1.000000</td>\n",
       "      <td>-0.010155</td>\n",
       "      <td>0.005561</td>\n",
       "      <td>0.089336</td>\n",
       "      <td>-0.035566</td>\n",
       "      <td>-0.100628</td>\n",
       "      <td>0.009412</td>\n",
       "    </tr>\n",
       "    <tr>\n",
       "      <th>Snowfall</th>\n",
       "      <td>-0.010155</td>\n",
       "      <td>1.000000</td>\n",
       "      <td>-0.340857</td>\n",
       "      <td>-0.319970</td>\n",
       "      <td>-0.020968</td>\n",
       "      <td>0.208550</td>\n",
       "      <td>-0.031096</td>\n",
       "    </tr>\n",
       "    <tr>\n",
       "      <th>MAX</th>\n",
       "      <td>0.005561</td>\n",
       "      <td>-0.340857</td>\n",
       "      <td>1.000000</td>\n",
       "      <td>0.875380</td>\n",
       "      <td>-0.057549</td>\n",
       "      <td>-0.554199</td>\n",
       "      <td>0.044737</td>\n",
       "    </tr>\n",
       "    <tr>\n",
       "      <th>MIN</th>\n",
       "      <td>0.089336</td>\n",
       "      <td>-0.319970</td>\n",
       "      <td>0.875380</td>\n",
       "      <td>1.000000</td>\n",
       "      <td>-0.192664</td>\n",
       "      <td>-0.598662</td>\n",
       "      <td>-0.090369</td>\n",
       "    </tr>\n",
       "    <tr>\n",
       "      <th>ELEV</th>\n",
       "      <td>-0.035566</td>\n",
       "      <td>-0.020968</td>\n",
       "      <td>-0.057549</td>\n",
       "      <td>-0.192664</td>\n",
       "      <td>1.000000</td>\n",
       "      <td>0.076612</td>\n",
       "      <td>0.058855</td>\n",
       "    </tr>\n",
       "    <tr>\n",
       "      <th>Latitude</th>\n",
       "      <td>-0.100628</td>\n",
       "      <td>0.208550</td>\n",
       "      <td>-0.554199</td>\n",
       "      <td>-0.598662</td>\n",
       "      <td>0.076612</td>\n",
       "      <td>1.000000</td>\n",
       "      <td>-0.130017</td>\n",
       "    </tr>\n",
       "    <tr>\n",
       "      <th>Longitude</th>\n",
       "      <td>0.009412</td>\n",
       "      <td>-0.031096</td>\n",
       "      <td>0.044737</td>\n",
       "      <td>-0.090369</td>\n",
       "      <td>0.058855</td>\n",
       "      <td>-0.130017</td>\n",
       "      <td>1.000000</td>\n",
       "    </tr>\n",
       "  </tbody>\n",
       "</table>\n",
       "</div>"
      ],
      "text/plain": [
       "             Precip  Snowfall       MAX       MIN      ELEV  Latitude  \\\n",
       "Precip     1.000000 -0.010155  0.005561  0.089336 -0.035566 -0.100628   \n",
       "Snowfall  -0.010155  1.000000 -0.340857 -0.319970 -0.020968  0.208550   \n",
       "MAX        0.005561 -0.340857  1.000000  0.875380 -0.057549 -0.554199   \n",
       "MIN        0.089336 -0.319970  0.875380  1.000000 -0.192664 -0.598662   \n",
       "ELEV      -0.035566 -0.020968 -0.057549 -0.192664  1.000000  0.076612   \n",
       "Latitude  -0.100628  0.208550 -0.554199 -0.598662  0.076612  1.000000   \n",
       "Longitude  0.009412 -0.031096  0.044737 -0.090369  0.058855 -0.130017   \n",
       "\n",
       "           Longitude  \n",
       "Precip      0.009412  \n",
       "Snowfall   -0.031096  \n",
       "MAX         0.044737  \n",
       "MIN        -0.090369  \n",
       "ELEV        0.058855  \n",
       "Latitude   -0.130017  \n",
       "Longitude   1.000000  "
      ]
     },
     "execution_count": 20,
     "metadata": {},
     "output_type": "execute_result"
    }
   ],
   "source": [
    "combined_data.corr()"
   ]
  },
  {
   "cell_type": "code",
   "execution_count": 21,
   "metadata": {},
   "outputs": [
    {
     "data": {
      "text/plain": [
       "<AxesSubplot:>"
      ]
     },
     "execution_count": 21,
     "metadata": {},
     "output_type": "execute_result"
    },
    {
     "data": {
      "image/png": "[encoded data removed]",
      "text/plain": [
       "<Figure size 360x360 with 2 Axes>"
      ]
     },
     "metadata": {
      "needs_background": "light"
     },
     "output_type": "display_data"
    }
   ],
   "source": [
    "# Compute the correlation matrix\n",
    "corr = combined_data.corr()\n",
    "\n",
    "# Generate a mask for the upper triangle\n",
    "mask = np.triu(np.ones_like(corr, dtype=bool))\n",
    "\n",
    "# Set up the matplotlib figure\n",
    "f, ax = plt.subplots(figsize=(5, 5))\n",
    "\n",
    "# Generate a custom diverging colormap\n",
    "cmap = sns.diverging_palette(230, 20, as_cmap=True)\n",
    "\n",
    "# Draw the heatmap with the mask and correct aspect ratio\n",
    "sns.heatmap(corr, mask=mask, cmap=cmap, vmax=.3, center=0,square=True, linewidths=.5, cbar_kws={\"shrink\": .5})"
   ]
  },
  {
   "cell_type": "code",
   "execution_count": 22,
   "metadata": {},
   "outputs": [
    {
     "data": {
      "application/vnd.jupyter.widget-view+json": {
       "model_id": "9e1b02e0a91141beaa194b700c918e43",
       "version_major": 2,
       "version_minor": 0
      },
      "text/plain": [
       "HBox(children=(HTML(value=''), FloatProgress(value=0.0, layout=Layout(flex='2'), max=16.0), HTML(value='')), l…"
      ]
     },
     "metadata": {},
     "output_type": "display_data"
    },
    {
     "name": "stdout",
     "output_type": "stream",
     "text": [
      "\n",
      "Report SWEETVIZ_REPORT.html was generated! NOTEBOOK/COLAB USERS: the web browser MAY not pop up, regardless, the report IS saved in your notebook/colab files.\n"
     ]
    }
   ],
   "source": [
    "my_report = sv.analyze(combined_data)\n",
    "my_report.show_html()"
   ]
  },
  {
   "cell_type": "markdown",
   "metadata": {},
   "source": [
    "### Handling nominal and ordinal categorical values\n",
    "Types: \n",
    "- Ordinal: Convert into numeric values retaining the datas natural order [x]\n",
    "- Nominal: One Hot encoding/Label Encoding [x]\n",
    "- Dichotomous (Binary): Convert values into indicator values 1/0 [x] <br>\n",
    "The only columns that require revision at this stage are 'NAME' and 'STATE/COUNTRY ID' [x]"
   ]
  },
  {
   "cell_type": "code",
   "execution_count": 23,
   "metadata": {},
   "outputs": [
    {
     "data": {
      "text/plain": [
       "Index(['STA', 'PoorWeather', 'YR', 'MO', 'DA', 'NAME', 'STATE/COUNTRY ID'], dtype='object')"
      ]
     },
     "execution_count": 23,
     "metadata": {},
     "output_type": "execute_result"
    }
   ],
   "source": [
    "combined_data.select_dtypes('object').columns"
   ]
  },
  {
   "cell_type": "code",
   "execution_count": 24,
   "metadata": {},
   "outputs": [],
   "source": [
    "def correct_category_datatype(data, cols):\n",
    "    \n",
    "    return data[cols].astype('category')\n",
    "\n",
    "def correct_object_datatype(data, cols):\n",
    "    \n",
    "    return data[cols].astype('int')\n",
    "\n",
    "combined_data.NAME = correct_category_datatype(combined_data, 'NAME')\n",
    "combined_data['STATE/COUNTRY ID'] = correct_category_datatype(combined_data, 'STATE/COUNTRY ID')\n",
    "\n",
    "combined_data['YR'] = correct_object_datatype(combined_data, 'YR')\n",
    "combined_data['MO'] = correct_object_datatype(combined_data, 'MO')\n",
    "combined_data['DA'] = correct_object_datatype(combined_data, 'DA')"
   ]
  },
  {
   "cell_type": "code",
   "execution_count": 25,
   "metadata": {},
   "outputs": [],
   "source": [
    "# Pandas `.get_dummies()` method\n",
    "NAME_dummies_df = pd.get_dummies(combined_data['NAME'])\n",
    "STATE_dummies_df = pd.get_dummies(combined_data['STATE/COUNTRY ID'])"
   ]
  },
  {
   "cell_type": "code",
   "execution_count": 59,
   "metadata": {},
   "outputs": [],
   "source": [
    "model_data = pd.concat([combined_data, pd.get_dummies(combined_data['STATE/COUNTRY ID'], prefix='category')],axis=1)"
   ]
  },
  {
   "cell_type": "markdown",
   "metadata": {},
   "source": [
    "### Outlier Detection\n",
    "- Univariate Outlier Detection\n",
    "- It is expected that the accuracy of recordings based on stations may not be uniform (outlier detection)"
   ]
  },
  {
   "cell_type": "code",
   "execution_count": 27,
   "metadata": {},
   "outputs": [
    {
     "name": "stdout",
     "output_type": "stream",
     "text": [
      "<class 'pandas.core.frame.DataFrame'>\n",
      "Int64Index: 115022 entries, 0 to 119039\n",
      "Data columns (total 15 columns):\n",
      " #   Column            Non-Null Count   Dtype         \n",
      "---  ------            --------------   -----         \n",
      " 0   STA               115022 non-null  object        \n",
      " 1   Date              115022 non-null  datetime64[ns]\n",
      " 2   Precip            115022 non-null  float64       \n",
      " 3   Snowfall          115022 non-null  float64       \n",
      " 4   PoorWeather       115022 non-null  object        \n",
      " 5   YR                115022 non-null  int64         \n",
      " 6   MO                115022 non-null  int64         \n",
      " 7   DA                115022 non-null  int64         \n",
      " 8   MAX               115022 non-null  float64       \n",
      " 9   MIN               115022 non-null  float64       \n",
      " 10  NAME              115022 non-null  category      \n",
      " 11  STATE/COUNTRY ID  115022 non-null  category      \n",
      " 12  ELEV              115022 non-null  int64         \n",
      " 13  Latitude          115022 non-null  float64       \n",
      " 14  Longitude         115022 non-null  float64       \n",
      "dtypes: category(2), datetime64[ns](1), float64(6), int64(4), object(2)\n",
      "memory usage: 12.6+ MB\n"
     ]
    }
   ],
   "source": [
    "combined_data.info()"
   ]
  },
  {
   "cell_type": "code",
   "execution_count": 28,
   "metadata": {},
   "outputs": [],
   "source": [
    "outlier_data = combined_data[[\"Precip\", \"Snowfall\", \"MAX\", \"MIN\", \"ELEV\"]]"
   ]
  },
  {
   "cell_type": "code",
   "execution_count": 29,
   "metadata": {},
   "outputs": [
    {
     "data": {
      "image/png": "[encoded data removed]",
      "text/plain": [
       "<Figure size 600x400 with 1 Axes>"
      ]
     },
     "metadata": {},
     "output_type": "display_data"
    },
    {
     "data": {
      "image/png": "[encoded data removed]",
      "text/plain": [
       "<Figure size 600x400 with 1 Axes>"
      ]
     },
     "metadata": {},
     "output_type": "display_data"
    },
    {
     "data": {
      "image/png": "[encoded data removed]",
      "text/plain": [
       "<Figure size 600x400 with 1 Axes>"
      ]
     },
     "metadata": {},
     "output_type": "display_data"
    },
    {
     "data": {
      "image/png": "[encoded data removed]",
      "text/plain": [
       "<Figure size 600x400 with 1 Axes>"
      ]
     },
     "metadata": {},
     "output_type": "display_data"
    },
    {
     "data": {
      "image/png": "[encoded data removed]",
      "text/plain": [
       "<Figure size 600x400 with 1 Axes>"
      ]
     },
     "metadata": {},
     "output_type": "display_data"
    }
   ],
   "source": [
    "sns.set_theme(style=\"whitegrid\")\n",
    "\n",
    "for i, col in enumerate(outlier_data.columns):\n",
    "    plt.figure(i)\n",
    "    sns.violinplot(x=col, data=outlier_data)"
   ]
  },
  {
   "cell_type": "code",
   "execution_count": 36,
   "metadata": {},
   "outputs": [
    {
     "data": {
      "text/plain": [
       "0.00     112888\n",
       "5.08        532\n",
       "2.54        339\n",
       "7.62        328\n",
       "10.16       204\n",
       "12.70        92\n",
       "20.32        83\n",
       "17.78        77\n",
       "15.24        74\n",
       "22.86        69\n",
       "25.40        65\n",
       "27.94        40\n",
       "30.48        31\n",
       "45.72        25\n",
       "50.80        24\n",
       "48.26        22\n",
       "35.56        20\n",
       "33.02        15\n",
       "60.96        13\n",
       "66.04        11\n",
       "38.10        11\n",
       "43.18        10\n",
       "53.34        10\n",
       "63.50         7\n",
       "55.88         6\n",
       "40.64         6\n",
       "76.20         5\n",
       "58.42         5\n",
       "81.28         4\n",
       "78.74         2\n",
       "73.66         1\n",
       "68.58         1\n",
       "83.82         1\n",
       "86.36         1\n",
       "Name: Snowfall, dtype: int64"
      ]
     },
     "execution_count": 36,
     "metadata": {},
     "output_type": "execute_result"
    }
   ],
   "source": [
    "outlier_data[\"Snowfall\"].value_counts()"
   ]
  },
  {
   "cell_type": "markdown",
   "metadata": {},
   "source": [
    "### Exploratory Data Analysis \n",
    "**Hypothesis & Expectations to Test**\n",
    "- Is this a Global study? What are the locations associated with the experiment? [x]\n",
    "- High level discriptive statistics [x]\n",
    "- Assessment of feature distributions [x]\n",
    "- Assessment of feature relationships [x]\n",
    "    - What is the relationship of each variable with the target? [x]\n",
    "<br>"
   ]
  },
  {
   "cell_type": "markdown",
   "metadata": {},
   "source": [
    "**Is this a Global study? What are the locations associated with the experiment?**"
   ]
  },
  {
   "cell_type": "code",
   "execution_count": null,
   "metadata": {},
   "outputs": [],
   "source": [
    "# Categorical data doesn’t have duplicates because of whitespaces, lower/upper cases"
   ]
  },
  {
   "cell_type": "code",
   "execution_count": null,
   "metadata": {},
   "outputs": [],
   "source": [
    "combined_data['STATE/COUNTRY ID'].unique()"
   ]
  },
  {
   "cell_type": "code",
   "execution_count": null,
   "metadata": {},
   "outputs": [],
   "source": [
    "combined_data.NAME.unique()"
   ]
  },
  {
   "cell_type": "code",
   "execution_count": null,
   "metadata": {},
   "outputs": [],
   "source": [
    "pd.crosstab(combined_data['STATE/COUNTRY ID'], combined_data.NAME)"
   ]
  },
  {
   "cell_type": "markdown",
   "metadata": {},
   "source": [
    "**High Level Descriptive Statistics**"
   ]
  },
  {
   "cell_type": "code",
   "execution_count": null,
   "metadata": {},
   "outputs": [],
   "source": [
    "combined_data.describe()"
   ]
  },
  {
   "cell_type": "code",
   "execution_count": null,
   "metadata": {},
   "outputs": [],
   "source": [
    "combined_data.describe(include=['O'])"
   ]
  },
  {
   "cell_type": "markdown",
   "metadata": {},
   "source": [
    "**Assessment of feature distributions**"
   ]
  },
  {
   "cell_type": "code",
   "execution_count": null,
   "metadata": {},
   "outputs": [],
   "source": [
    "# Density Plots for Numerical Columns\n",
    "numeric_columns = combined_data.select_dtypes(include=['float64']).columns\n",
    "\n",
    "for i, col in enumerate(combined_data.select_dtypes(include=['float64']).columns):\n",
    "    plt.figure(i)\n",
    "    sns.distplot(combined_data[col], hist=True, kde=True, color = 'darkblue')"
   ]
  },
  {
   "cell_type": "code",
   "execution_count": null,
   "metadata": {},
   "outputs": [],
   "source": [
    "# Barplots for Categorical Data\n",
    "object_columns = combined_data.select_dtypes(include=['object']).columns\n",
    "\n",
    "for i, col in enumerate(combined_data.select_dtypes(include=['object']).columns):\n",
    "    plt.figure(i)\n",
    "    combined_data[col].value_counts().plot(kind='bar')"
   ]
  },
  {
   "cell_type": "code",
   "execution_count": null,
   "metadata": {
    "scrolled": true
   },
   "outputs": [],
   "source": [
    "pd.crosstab(combined_data.YR, combined_data.MO)"
   ]
  },
  {
   "cell_type": "code",
   "execution_count": null,
   "metadata": {},
   "outputs": [],
   "source": [
    "feature_data = combined_data[['Date', 'NAME', 'MIN', 'MAX']]"
   ]
  },
  {
   "cell_type": "code",
   "execution_count": null,
   "metadata": {},
   "outputs": [],
   "source": [
    "feature_data.NAME.value_counts()"
   ]
  },
  {
   "cell_type": "code",
   "execution_count": null,
   "metadata": {},
   "outputs": [],
   "source": [
    "ridge_data = feature_data.query(\"NAME == 'WHEELER/AFB 810.1'\")\n",
    "ridge_data = ridge_data.drop('NAME', axis=1)\n",
    "ridge_data['Date'] = ridge_data['Date'].astype('datetime64')\n",
    "ridge_data['Month'] = ridge_data['Date'].dt.month_name()\n",
    "\n",
    "ridge_data = ridge_data.reset_index()"
   ]
  },
  {
   "cell_type": "code",
   "execution_count": null,
   "metadata": {},
   "outputs": [],
   "source": [
    "cat_month = CategoricalDtype(\n",
    "    ['January', 'February', 'March', 'April', 'May', 'June',\n",
    "     'July', 'August', 'September', 'October', 'November', 'December']\n",
    ")\n",
    "\n",
    "ridge_data['Month'] = ridge_data['Month'].astype(cat_month)\n",
    "\n",
    "ridge_data.dtypes"
   ]
  },
  {
   "cell_type": "code",
   "execution_count": null,
   "metadata": {},
   "outputs": [],
   "source": [
    "plt.figure()\n",
    "\n",
    "joyplot(\n",
    "    data=ridge_data[['MAX', 'Month']], \n",
    "    by='Month',\n",
    "    figsize=(5, 5)\n",
    ")\n",
    "\n",
    "plt.title('Ridgeline Plot of Max Temperatures in WHEELER/AFB 810.1', fontsize=20)\n",
    "plt.show()"
   ]
  },
  {
   "cell_type": "code",
   "execution_count": null,
   "metadata": {},
   "outputs": [],
   "source": [
    "plt.figure()\n",
    "\n",
    "ax, fig = joyplot(\n",
    "    data=ridge_data[['MIN', 'MAX', 'Month']], \n",
    "    by='Month',\n",
    "    column=['MIN', 'MAX'],\n",
    "    color=['#686de0', '#eb4d4b'],\n",
    "    legend=True,\n",
    "    alpha=0.85,\n",
    "    figsize=(5, 5)\n",
    ")\n",
    "plt.title('Ridgeline Plot of Min and Max Temperatures in WHEELER/AFB 810.1', fontsize=20)\n",
    "plt.show()"
   ]
  },
  {
   "cell_type": "code",
   "execution_count": null,
   "metadata": {},
   "outputs": [],
   "source": [
    "sns.pairplot(combined_data)"
   ]
  },
  {
   "cell_type": "markdown",
   "metadata": {},
   "source": [
    "### Specific Research Questions\n",
    "- Data Integrity Preprocessing Steps\n",
    "    - What defines the feature 'poor weather' conditions? It looks as if this variable as been corrupted\n",
    "    - Is there a relationship between the daily minimum and maximum temperature (TimeSeries Analysis)? Yes\n",
    "    - It is expected that average temperatures are colder in winter months than summer months. Confirmed\n",
    "    - It is expected that more snowfall occurs in the winter months (for northern hemisphere regions). Confirmed\n",
    "    - It is expected that more Precipitation occurs in the winter months (for northern hemisphere). The results show on average more Precipitation occurs in the summer. Thisis negligible and extra analysis should split this further per region or by splitting Northern and Southern Hemisphere\n",
    "    - It is expected that higher levels above the sea have greater precipation. The data shows that as ELEV increased the Precip decreases.\n",
    "    - Have the years tended to get warmer on average?"
   ]
  },
  {
   "cell_type": "code",
   "execution_count": null,
   "metadata": {},
   "outputs": [],
   "source": [
    "combined_data.columns"
   ]
  },
  {
   "cell_type": "code",
   "execution_count": null,
   "metadata": {},
   "outputs": [],
   "source": [
    "poor_weather_data = combined_data[['PoorWeather', 'Precip', 'Snowfall', 'MIN', 'MAX', 'ELEV']]\n",
    "poor_weather_data.PoorWeather.value_counts()"
   ]
  },
  {
   "cell_type": "code",
   "execution_count": null,
   "metadata": {},
   "outputs": [],
   "source": [
    "time_series = combined_data[['Date', 'MIN', 'MAX',]]\n",
    "time_series = time_series.sort_values(by='Date')\n",
    "time_series = time_series.sample(n=100, random_state=1)\n",
    "\n",
    "columns = ['MIN', 'MAX']\n",
    "names = {'MIN': 'Minimum Temperature',\n",
    "         'MAX': 'Maximum Temperature'}\n",
    "\n",
    "fig = go.Figure([{\n",
    "    'x': time_series['Date'],\n",
    "    'y': time_series[col],\n",
    "    'name': names[col]\n",
    "}  for col in columns])\n",
    "\n",
    "fig.show(renderer='iframe')"
   ]
  },
  {
   "cell_type": "code",
   "execution_count": null,
   "metadata": {},
   "outputs": [],
   "source": [
    "def winter_month_comparison(data, col):    \n",
    "    \n",
    "    return print(data[(data.MO == 1) | (data.MO == 11) | (data.MO == 12)][col].describe())\n",
    "\n",
    "def summer_month_comparison(data, col):    \n",
    "    \n",
    "    return print(data[(data.MO == 6) | (data.MO == 7) | (data.MO == 8)][col].describe())"
   ]
  },
  {
   "cell_type": "code",
   "execution_count": null,
   "metadata": {},
   "outputs": [],
   "source": [
    "winter_month_comparison(combined_data, \"MIN\")\n",
    "print(\"\"\"\"\"\")\n",
    "winter_month_comparison(combined_data, \"MAX\")"
   ]
  },
  {
   "cell_type": "code",
   "execution_count": null,
   "metadata": {},
   "outputs": [],
   "source": [
    "# Summer Months \n",
    "summer_month_comparison(combined_data, \"MIN\")\n",
    "print(\"\"\"\"\"\")\n",
    "summer_month_comparison(combined_data, \"MAX\")"
   ]
  },
  {
   "cell_type": "code",
   "execution_count": null,
   "metadata": {},
   "outputs": [],
   "source": [
    "# Winter Months\n",
    "winter_month_comparison(combined_data, \"Snowfall\")\n",
    "print(\"\"\"\"\"\")\n",
    "# Summer Months\n",
    "summer_month_comparison(combined_data, \"Snowfall\")"
   ]
  },
  {
   "cell_type": "code",
   "execution_count": null,
   "metadata": {},
   "outputs": [],
   "source": [
    "# Winter Months\n",
    "winter_month_comparison(combined_data, \"Precip\")\n",
    "print(\"\"\"\"\"\")\n",
    "# Summer Months\n",
    "summer_month_comparison(combined_data, \"Precip\")"
   ]
  },
  {
   "cell_type": "code",
   "execution_count": null,
   "metadata": {},
   "outputs": [],
   "source": [
    "sns.relplot(x=\"ELEV\", y=\"Precip\", data=combined_data);"
   ]
  },
  {
   "cell_type": "code",
   "execution_count": null,
   "metadata": {},
   "outputs": [],
   "source": [
    "# Have the years tended to get warmer on average?\n",
    "sns.displot(combined_data, x=\"MAX\", hue=\"YR\", kind=\"kde\")"
   ]
  },
  {
   "cell_type": "code",
   "execution_count": null,
   "metadata": {},
   "outputs": [],
   "source": [
    "# Write clean data to 02_intermediate data folder\n",
    "#combined_data.to_csv('/Users/Rej1992/Documents/GitHub/RegressionModels/data/02_intermediate/data_cleaning.csv')"
   ]
  },
  {
   "cell_type": "markdown",
   "metadata": {},
   "source": [
    "### Feature Scaling & Normalisation"
   ]
  },
  {
   "cell_type": "markdown",
   "metadata": {},
   "source": [
    "- The point of normalization is to change your observations so that they can be described as a normal distribution.\n",
    "- In general, you'll only want to normalize your data if you're going to be using a machine learning or statistics technique that assumes your data is normally distributed. Some examples of these include t-tests, ANOVAs, linear regression, linear discriminant analysis (LDA) and Gaussian naive Bayes. (Pro tip: any method with \"Gaussian\" in the name probably assumes normality.)"
   ]
  },
  {
   "cell_type": "code",
   "execution_count": 294,
   "metadata": {},
   "outputs": [
    {
     "name": "stdout",
     "output_type": "stream",
     "text": [
      "Precip\n",
      "Precip_normalised\n",
      "Snowfall\n",
      "Snowfall_normalised\n",
      "MAX\n",
      "MAX_normalised\n",
      "MIN\n",
      "MIN_normalised\n",
      "ksp_date\n",
      "ksp_date_normalised\n",
      "Precip\n",
      "Precip_min_max_scale\n",
      "Snowfall\n",
      "Snowfall_min_max_scale\n",
      "MAX\n",
      "MAX_min_max_scale\n",
      "MIN\n",
      "MIN_min_max_scale\n",
      "ksp_date\n",
      "ksp_date_min_max_scale\n"
     ]
    }
   ],
   "source": [
    "columns = ['Precip', 'Snowfall', 'MAX', 'MIN', 'ksp_date']\n",
    "#columns = ['Precip', 'Snowfall']\n",
    "\n",
    "for i in columns:\n",
    "    print(i)\n",
    "    col_name = str(i) + '_normalised'\n",
    "    print(col_name)\n",
    "    model_data.loc[:, col_name] = preprocessing.normalize(model_data[[i]])    \n",
    "    \n",
    "\n",
    "for i in columns:\n",
    "    print(i)\n",
    "    col_name = str(i) + '_min_max_scale'\n",
    "    print(col_name)\n",
    "    scaler = MinMaxScaler()\n",
    "    scaler.fit(model_data[[i]])\n",
    "    model_data.loc[:, col_name] = scaler.transform(model_data[[i]])\n",
    "    \n",
    "    \n",
    "# for i in columns:\n",
    "#     print(i)\n",
    "#     col_name = str(i) + '_boxcox'\n",
    "#     print(col_name)\n",
    "#     combined_data.loc[:, col_name] = stats.boxcox(combined_data[i]**2 + 1)"
   ]
  },
  {
   "cell_type": "markdown",
   "metadata": {},
   "source": [
    "### Data Cleaning - Feature Engineering\n",
    "- Deal with date columns. There are 4 most common methods to transform date to numeric format:\n",
    "    - Unix timestamp: Time since 1970 (not applicable as our data is from period 1940 - 1944\n",
    "    - KSP date formate: Year and quarter are obvious and attempts to retain similar intervals\n",
    "    - Divide into several features (DA / MO / YR): Data already formated to accommodate these features\n",
    "    - Manual Feature Creation: Time from or to an event\n",
    "- Feature Creation:\n",
    "    - Northern/Southern Hemisphere Flag\n",
    "    - Binary Flag for univariate outliers\n",
    "    - Create sensible bins for numerical Variables\n",
    "    - Sine & Cos features (out of scope)\n",
    "    - Average temperature per month/per quarter\n",
    "- Normalization and standardization of features: Precip/Snowfall/SNF/ELEV <br>"
   ]
  },
  {
   "cell_type": "markdown",
   "metadata": {},
   "source": [
    "**Date Time Features** <br>\n",
    "Note: From there analysis it is clear that some areas from both the northern and southern hemisphere have been included as part of the research so care should be taken when dealing with datetime features"
   ]
  },
  {
   "cell_type": "code",
   "execution_count": 61,
   "metadata": {},
   "outputs": [],
   "source": [
    "def to_ksp_format(datetime):\n",
    "    year = datetime.year\n",
    "    day_from_jan_1 = (datetime - dt.datetime(year, 1, 1)).days\n",
    "    is_leap_year = int(calendar.isleap(year))\n",
    "    \n",
    "    return year + (day_from_jan_1 - 0.5) / (365 + is_leap_year)\n",
    "\n",
    "model_data['ksp_date'] = model_data['Date'].apply(to_ksp_format)"
   ]
  },
  {
   "cell_type": "code",
   "execution_count": 62,
   "metadata": {},
   "outputs": [],
   "source": [
    "# Calculate the average based on the fahrenheit columns\n",
    "model_data['MeanTemp_F'] = (model_data['MAX'] + combined_data['MIN'])/2\n",
    "\n",
    "# Create a simplier binary feature for snowfall occurrence\n",
    "model_data['Snowfall_bin'] =  np.where(model_data.Snowfall.isnull(), 0, 1)"
   ]
  },
  {
   "cell_type": "markdown",
   "metadata": {},
   "source": [
    "**Bivariate Combinations**"
   ]
  },
  {
   "cell_type": "code",
   "execution_count": 63,
   "metadata": {},
   "outputs": [
    {
     "name": "stdout",
     "output_type": "stream",
     "text": [
      "('MIN', 'ELEV')\n",
      "('Precip', 'MIN')\n",
      "('Precip', 'ELEV')\n",
      "('YR', 'ksp_date')\n",
      "('MIN', 'ksp_date')\n"
     ]
    }
   ],
   "source": [
    "model_data = model_data.dropna()\n",
    "\n",
    "y_train = model_data[['MAX']]\n",
    "X_train_int = model_data[['Precip', 'Snowfall', 'YR', 'MO', 'DA', 'MIN', 'ELEV', 'ksp_date']]\n",
    "\n",
    "columns_list = X_train_int.columns\n",
    "interactions = list(combinations(columns_list, 2))\n",
    "\n",
    "interaction_dict = {}\n",
    "for interaction in interactions:\n",
    "    X_train_int['int'] = X_train_int[interaction[0]] * X_train_int[interaction[1]]\n",
    "    interaction_model = LinearRegression(normalize=True)\n",
    "    interaction_model.fit(X_train_int, y_train)\n",
    "    interaction_dict[interaction_model.score(X_train_int, y_train)] = interaction\n",
    "\n",
    "top_5 = sorted(interaction_dict.keys(), reverse = True)[:5]\n",
    "for interaction in top_5:\n",
    "    print(interaction_dict[interaction])"
   ]
  },
  {
   "cell_type": "code",
   "execution_count": 64,
   "metadata": {},
   "outputs": [],
   "source": [
    "model_data[\"MIN_ELEV\"] = model_data.MIN*model_data.ELEV\n",
    "model_data[\"Precip_MIN\"] = model_data.Precip*model_data.MIN\n",
    "model_data[\"Precip_ELEV\"] = model_data.Precip*model_data.ELEV\n",
    "model_data[\"YR_ksp_date\"] = model_data.YR*model_data.ksp_date\n",
    "model_data[\"MIN_ksp_date\"] = model_data.MIN*model_data.ksp_date"
   ]
  },
  {
   "cell_type": "markdown",
   "metadata": {},
   "source": [
    "**Polynominal Features**"
   ]
  },
  {
   "cell_type": "code",
   "execution_count": 65,
   "metadata": {},
   "outputs": [
    {
     "data": {
      "text/plain": [
       "['MIN', 4]"
      ]
     },
     "execution_count": 65,
     "metadata": {},
     "output_type": "execute_result"
    }
   ],
   "source": [
    "poly_dict = {}\n",
    "poly_X_train_int = model_data[['Precip', 'Snowfall', 'YR', 'MO', 'DA', 'MIN', 'ELEV', 'ksp_date']]\n",
    "for feature in poly_X_train_int.columns:\n",
    "    for p in range(2, 5):\n",
    "        X_train_poly = poly_X_train_int\n",
    "        X_train_poly['sq'] = X_train_poly[feature]**p\n",
    "        lr = LinearRegression(normalize=True)\n",
    "        lr.fit(X_train_poly, y_train)\n",
    "        poly_dict[lr.score(X_train_poly, y_train)] = [feature, p]\n",
    "\n",
    "poly_dict[max(poly_dict.keys())]"
   ]
  },
  {
   "cell_type": "markdown",
   "metadata": {},
   "source": [
    "**Add Noisy Features**"
   ]
  },
  {
   "cell_type": "code",
   "execution_count": 230,
   "metadata": {},
   "outputs": [],
   "source": [
    "model_data[\"Normal_Noise\"] = np.random.normal(0,1,len(model_data))\n",
    "model_data[\"Log_Normal_Noise\"] = np.random.lognormal(0, 1, len(model_data))"
   ]
  },
  {
   "cell_type": "code",
   "execution_count": 66,
   "metadata": {},
   "outputs": [],
   "source": [
    "# Write clean data to 02_intermediate data folder\n",
    "model_data.to_csv('/Users/Rej1992/Documents/GitHub/RegressionModels/data/03_processed/data_std_feature_eng.csv')\n",
    "model_data.to_pickle('/Users/Rej1992/Documents/GitHub/RegressionModels/data/03_processed/data_std_feature_eng.pkl')"
   ]
  },
  {
   "cell_type": "markdown",
   "metadata": {},
   "source": [
    "### Data represents logical coherence\n",
    "- Check that US countries are all in US states\n",
    "<pd.crosstab(combined_data[\"STATE/COUNTRY ID\"], combined_data[\"NAME\"])>\n",
    "- Check max and min temperature are values that exist \n",
    "- Check Snowfall is sensible\n",
    "- Check ELEV against Latitude & Longitude"
   ]
  },
  {
   "cell_type": "markdown",
   "metadata": {},
   "source": [
    "## Model Building \n",
    "- Data partitioning into training, validation and testing sets (set seed) [x]\n",
    "    - Ensure that the range of the test is within the range of the train [x]\n",
    "- Select the model that you would like to use [x]\n",
    "    - Linear Regression\n",
    "    - Polynominal Regression\n",
    "    - Ridge Regression\n",
    "    - Lasso Regression\n",
    "    - Robust Regression\n",
    "- Hyperparameter tuning is used to fine-tune the model in order to prevent overfitting [x] \n",
    "    - This is done implicity for Ridge and Lasso Regression when trying to establish the optimal value for lambda\n",
    "- Cross-validation is performed to ensure the model performs well on the validation set [x]\n",
    "- Model is applied to the test data set [x]\n",
    "- Save the trained model to a pickle file [x]\n",
    "- Create a learning curve & Assess model bias and variance to deduce model improvement next steps"
   ]
  },
  {
   "cell_type": "markdown",
   "metadata": {},
   "source": [
    "### Linear Regression Models\n",
    "- Normalizing the inputs is generally a good idea in every type of regression\n",
    "- Optimal alpha can be determined by cross validation\n",
    "- Regularizing the intercept is not a good idea and it should be left out of regularization\n",
    "- Negative R-sq can occurs and is not a bug (as in the case of Lasso Model)"
   ]
  },
  {
   "cell_type": "code",
   "execution_count": 295,
   "metadata": {},
   "outputs": [
    {
     "name": "stdout",
     "output_type": "stream",
     "text": [
      "<class 'pandas.core.frame.DataFrame'>\n",
      "Int64Index: 115022 entries, 0 to 119039\n",
      "Data columns (total 91 columns):\n",
      " #   Column                  Non-Null Count   Dtype  \n",
      "---  ------                  --------------   -----  \n",
      " 0   Precip                  115022 non-null  float64\n",
      " 1   Snowfall                115022 non-null  float64\n",
      " 2   YR                      115022 non-null  int64  \n",
      " 3   MO                      115022 non-null  int64  \n",
      " 4   DA                      115022 non-null  int64  \n",
      " 5   MAX                     115022 non-null  float64\n",
      " 6   MIN                     115022 non-null  float64\n",
      " 7   ELEV                    115022 non-null  int64  \n",
      " 8   Latitude                115022 non-null  float64\n",
      " 9   Longitude               115022 non-null  float64\n",
      " 10  category_AL             115022 non-null  uint8  \n",
      " 11  category_AT             115022 non-null  uint8  \n",
      " 12  category_AU             115022 non-null  uint8  \n",
      " 13  category_AZ             115022 non-null  uint8  \n",
      " 14  category_BA             115022 non-null  uint8  \n",
      " 15  category_BE             115022 non-null  uint8  \n",
      " 16  category_BN             115022 non-null  uint8  \n",
      " 17  category_BR             115022 non-null  uint8  \n",
      " 18  category_BZ             115022 non-null  uint8  \n",
      " 19  category_CS             115022 non-null  uint8  \n",
      " 20  category_CT             115022 non-null  uint8  \n",
      " 21  category_CU             115022 non-null  uint8  \n",
      " 22  category_DY             115022 non-null  uint8  \n",
      " 23  category_EG             115022 non-null  uint8  \n",
      " 24  category_EQ             115022 non-null  uint8  \n",
      " 25  category_ER             115022 non-null  uint8  \n",
      " 26  category_ET             115022 non-null  uint8  \n",
      " 27  category_FJ             115022 non-null  uint8  \n",
      " 28  category_FR             115022 non-null  uint8  \n",
      " 29  category_GH             115022 non-null  uint8  \n",
      " 30  category_GL             115022 non-null  uint8  \n",
      " 31  category_GR             115022 non-null  uint8  \n",
      " 32  category_GU             115022 non-null  uint8  \n",
      " 33  category_GY             115022 non-null  uint8  \n",
      " 34  category_HA             115022 non-null  uint8  \n",
      " 35  category_HI             115022 non-null  uint8  \n",
      " 36  category_IL             115022 non-null  uint8  \n",
      " 37  category_IN             115022 non-null  uint8  \n",
      " 38  category_IQ             115022 non-null  uint8  \n",
      " 39  category_IR             115022 non-null  uint8  \n",
      " 40  category_IY             115022 non-null  uint8  \n",
      " 41  category_JM             115022 non-null  uint8  \n",
      " 42  category_JP             115022 non-null  uint8  \n",
      " 43  category_KO             115022 non-null  uint8  \n",
      " 44  category_KU             115022 non-null  uint8  \n",
      " 45  category_LC             115022 non-null  uint8  \n",
      " 46  category_LY             115022 non-null  uint8  \n",
      " 47  category_MC             115022 non-null  uint8  \n",
      " 48  category_MT             115022 non-null  uint8  \n",
      " 49  category_NG             115022 non-null  uint8  \n",
      " 50  category_NH             115022 non-null  uint8  \n",
      " 51  category_NI             115022 non-null  uint8  \n",
      " 52  category_NK             115022 non-null  uint8  \n",
      " 53  category_NU             115022 non-null  uint8  \n",
      " 54  category_NZ             115022 non-null  uint8  \n",
      " 55  category_OM             115022 non-null  uint8  \n",
      " 56  category_PF             115022 non-null  uint8  \n",
      " 57  category_PH             115022 non-null  uint8  \n",
      " 58  category_PI             115022 non-null  uint8  \n",
      " 59  category_PK             115022 non-null  uint8  \n",
      " 60  category_PM             115022 non-null  uint8  \n",
      " 61  category_PR             115022 non-null  uint8  \n",
      " 62  category_SG             115022 non-null  uint8  \n",
      " 63  category_SO             115022 non-null  uint8  \n",
      " 64  category_SP             115022 non-null  uint8  \n",
      " 65  category_TD             115022 non-null  uint8  \n",
      " 66  category_TI             115022 non-null  uint8  \n",
      " 67  category_TO             115022 non-null  uint8  \n",
      " 68  category_TS             115022 non-null  uint8  \n",
      " 69  category_TU             115022 non-null  uint8  \n",
      " 70  category_UK             115022 non-null  uint8  \n",
      " 71  Precip_normalised       115022 non-null  float64\n",
      " 72  Snowfall_normalised     115022 non-null  float64\n",
      " 73  Precip_min_max_scale    115022 non-null  float64\n",
      " 74  Snowfall_min_max_scale  115022 non-null  float64\n",
      " 75  ksp_date                115022 non-null  float64\n",
      " 76  MeanTemp_F              115022 non-null  float64\n",
      " 77  Snowfall_bin            115022 non-null  int64  \n",
      " 78  MIN_ELEV                115022 non-null  float64\n",
      " 79  Precip_MIN              115022 non-null  float64\n",
      " 80  Precip_ELEV             115022 non-null  float64\n",
      " 81  YR_ksp_date             115022 non-null  float64\n",
      " 82  MIN_ksp_date            115022 non-null  float64\n",
      " 83  Normal_Noise            115022 non-null  float64\n",
      " 84  Log_Normal_Noise        115022 non-null  float64\n",
      " 85  MAX_normalised          115022 non-null  float64\n",
      " 86  MIN_normalised          115022 non-null  float64\n",
      " 87  ksp_date_normalised     115022 non-null  float64\n",
      " 88  MAX_min_max_scale       115022 non-null  float64\n",
      " 89  MIN_min_max_scale       115022 non-null  float64\n",
      " 90  ksp_date_min_max_scale  115022 non-null  float64\n",
      "dtypes: float64(25), int64(5), uint8(61)\n",
      "memory usage: 33.9 MB\n"
     ]
    }
   ],
   "source": [
    "model_data.info()"
   ]
  },
  {
   "cell_type": "code",
   "execution_count": 353,
   "metadata": {},
   "outputs": [],
   "source": [
    "def _create_model_baseline(data):\n",
    "    \n",
    "    return data[['Precip', 'Precip_normalised', 'Precip_min_max_scale', 'Snowfall', 'YR', 'MO', 'DA', 'MAX', 'MIN', 'ELEV', \"Normal_Noise\", \"Log_Normal_Noise\"]]    \n",
    "\n",
    "\n",
    "def _create_model_saturated(data):\n",
    "    \n",
    "    return data.drop(['STA', 'Date', 'PoorWeather', 'NAME', 'STATE/COUNTRY ID'], axis=1, inplace=True)\n",
    "\n",
    "\n",
    "def viz_polymonial(x_train, x_test):\n",
    "    \n",
    "    plt.scatter(x_train, x_test, color='red')\n",
    "    plt.plot(X, pol_reg.predict(poly_reg.fit_transform(x_train)), color='blue')\n",
    "    plt.title('Polynominal Regression)')\n",
    "    plt.xlabel('Minimum Temperature')\n",
    "    plt.ylabel('Maximum Temperature')\n",
    "    plt.show()\n",
    "\n",
    "    return\n",
    "\n",
    "\n",
    "def _save_model_to_pickle(model, model_type):\n",
    "    filename = datetime.datetime.now().strftime('%Y-%m-%d')+'_'+model_type+'_finalized_regression_model.pkl'\n",
    "    pickle.dump(model, open('/Users/Rej1992/Documents/GitHub/RegressionModels/data/04_models/'+filename, 'wb'))\n",
    "\n",
    "\n",
    "def _regression_models(data, model_type, split = 1/5, alpha = 0.1, folds = 10):\n",
    "    \n",
    "    # Establish Target and Predictor Variables\n",
    "    y = data['MAX']\n",
    "    X = data.drop(['MAX'], axis=1)  \n",
    "    \n",
    "    # Split the data into train and test splits\n",
    "    x_train, x_test, y_train, y_test = train_test_split(X, y, test_size=split, random_state=1)\n",
    "    \n",
    "    # Check Regression Target Range\n",
    "    #print(y_train.describe())\n",
    "    #print(\"\"\"\"\"\")\n",
    "    #print(y_test.describe())\n",
    "    \n",
    "    # Check respective models\n",
    "    if(model_type == 'LinearRegression'):\n",
    "        # normalize=True: the regressors X will be normalized before regression by subtracting the mean and dividing by the l2-norm\n",
    "        regressor = LinearRegression(normalize=True) \n",
    "        \n",
    "    elif(model_type == 'Polynominal'):\n",
    "        poly_reg = PolynomialFeatures(degree = 4) # Determined from **Polynominal Features** section\n",
    "        x_train = poly_reg.fit_transform(x_train.MIN.values.reshape(-1, 1))\n",
    "        x_test = poly_reg.fit_transform(x_test.MIN.values.reshape(-1, 1))\n",
    "        regressor = LinearRegression()    \n",
    "        \n",
    "    elif(model_type == 'Ridge'):\n",
    "        regressor = Ridge(alpha = alpha, normalize = True)\n",
    "        \n",
    "    elif(model_type == 'Lasso'):\n",
    "        # Phenomenon of most of the coefficients being zero is called ‘sparsity‘\n",
    "        # The gradient is not defined as the absolute function is not differentiable at x=0\n",
    "        regressor = Lasso(alpha = alpha, normalize = True, max_iter=1e5)\n",
    "        \n",
    "    elif(model_type == 'Robust'):\n",
    "        regressor = HuberRegressor()\n",
    "    \n",
    "    # Fit the model to the training data\n",
    "    regressor.fit(x_train, y_train)\n",
    "    \n",
    "    # Neatly output the model coefficients \n",
    "    if(model_type != 'Polynominal'):\n",
    "        coefficients = pd.concat([pd.DataFrame(x_train.columns),pd.DataFrame(np.transpose(regressor.coef_))], axis = 1)\n",
    "        print(coefficients)\n",
    "\n",
    "    # Make Model Predictions on both the training and test set\n",
    "    y_pred_train = regressor.predict(x_train)\n",
    "    y_pred_test = regressor.predict(x_test)\n",
    "\n",
    "    # prepare the cross-validation procedure\n",
    "    cv = KFold(n_splits=folds, random_state=1, shuffle=True)\n",
    "            \n",
    "    # Evaluate model performance on training and test set\n",
    "    scores_train = cross_val_score(regressor, x_train, y_train, scoring='r2', cv=cv, n_jobs=-1)\n",
    "    scores_test = cross_val_score(regressor, x_test, y_test, scoring='r2', cv=cv, n_jobs=-1)\n",
    "    \n",
    "    # Report performance on training and test data \n",
    "    print('Training Accuracy: %.3f (%.3f)' % (mean(scores_train), std(scores_train)))\n",
    "    print('Testing Accuracy: %.3f (%.3f)' % (mean(scores_test), std(scores_test)))\n",
    "    \n",
    "    rmse_train = np.sqrt(mean_squared_error(y_train, y_pred_train))\n",
    "    r2_train = r2_score(y_train, y_pred_train)\n",
    "\n",
    "    rmse_test = np.sqrt(mean_squared_error(y_test, y_pred_test))\n",
    "    r2_test = r2_score(y_test, y_pred_test)\n",
    "    \n",
    "    print(\"The model performance for the training set\")\n",
    "    print(\"-------------------------------------------\")\n",
    "    print(\"RMSE of training set is {}\".format(rmse_train))\n",
    "    print(\"R2 score of training set is {}\".format(r2_train))\n",
    "    \n",
    "    print(\"\\n\")\n",
    "    \n",
    "    print(\"The model performance for the test set\")\n",
    "    print(\"-------------------------------------------\")\n",
    "    print(\"RMSE of test set is {}\".format(rmse_test))\n",
    "    print(\"R2 score of test set is {}\".format(r2_test))\n",
    "    \n",
    "    \n",
    "    # Residual Diagnoistics\n",
    "    residuals = pd.DataFrame({'actuals':y_train, 'predicted':y_pred_train})\n",
    "    \n",
    "    #Return the result in pre-defined format\n",
    "    residuals_train = (y_train - y_pred_train)\n",
    "    residuals_test = (y_test - y_pred_test)\n",
    "    rss = sum((y_pred_train-y_train)**2)\n",
    "    ret = [regressor.intercept_]\n",
    "    ret.extend(regressor.coef_)\n",
    "    \n",
    "    #Return p_value, std_err -- Extra Work\n",
    "    \n",
    "    # Save Model to Pickle\n",
    "    _save_model_to_pickle(regressor, model_type)\n",
    "    \n",
    "    return regressor, x_train, y_train, scores_train, scores_test, residuals, rss, ret, y_pred_train, y_pred_test\n",
    "\n",
    "\n",
    "# def _load_model_from_pickle(filename, baseline_data[1], baseline_data[3]):\n",
    "#     loaded_model = pickle.load(open(filename, 'rb'))\n",
    "#     result = loaded_model.score(x_test, y_test)\n",
    "    \n",
    "#     return result"
   ]
  },
  {
   "cell_type": "code",
   "execution_count": 306,
   "metadata": {},
   "outputs": [],
   "source": [
    "baseline_data = _create_model_baseline(model_data)\n",
    "baseline_data = baseline_data.dropna(how='all')"
   ]
  },
  {
   "cell_type": "code",
   "execution_count": 249,
   "metadata": {},
   "outputs": [
    {
     "data": {
      "application/vnd.jupyter.widget-view+json": {
       "model_id": "d34aff2b71774d54bc87ca93139be563",
       "version_major": 2,
       "version_minor": 0
      },
      "text/plain": [
       "HBox(children=(HTML(value=''), FloatProgress(value=0.0, layout=Layout(flex='2'), max=11.0), HTML(value='')), l…"
      ]
     },
     "metadata": {},
     "output_type": "display_data"
    },
    {
     "name": "stdout",
     "output_type": "stream",
     "text": [
      "\n",
      "Report SWEETVIZ_REPORT.html was generated! NOTEBOOK/COLAB USERS: the web browser MAY not pop up, regardless, the report IS saved in your notebook/colab files.\n"
     ]
    }
   ],
   "source": [
    "# Compare the distribution between the train and test dataset\n",
    "# Sweetviz notes: Only supports numeric & boolean targets currently\n",
    "# Split the data into train and test splits\n",
    "x_train, x_test, y_train, y_test = train_test_split(baseline_data, baseline_data['MAX'], test_size=1/5, random_state=1)\n",
    "\n",
    "my_report_train_test = sv.compare([x_train, \"Train\"], [x_test, \"Test\"], \"MAX\")\n",
    "my_report_train_test.show_html() # Not providing a filename will default to SWEETVIZ_REPORT.html"
   ]
  },
  {
   "cell_type": "code",
   "execution_count": 309,
   "metadata": {},
   "outputs": [
    {
     "name": "stdout",
     "output_type": "stream",
     "text": [
      "                       0             0\n",
      "0                 Precip -4.143147e+11\n",
      "1      Precip_normalised -4.319544e+00\n",
      "2   Precip_min_max_scale  1.273355e+14\n",
      "3               Snowfall -2.876557e-01\n",
      "4                     YR  5.734833e-01\n",
      "5                     MO -7.199185e-02\n",
      "6                     DA -3.089894e-03\n",
      "7                    MIN  9.232820e-01\n",
      "8                   ELEV  5.252996e-03\n",
      "9           Normal_Noise -3.048340e-03\n",
      "10      Log_Normal_Noise  1.854510e-03\n",
      "Training Accuracy: 0.804 (0.008)\n",
      "Testing Accuracy: 0.801 (0.008)\n",
      "The model performance for the training set\n",
      "-------------------------------------------\n",
      "RMSE of training set is 6.6719242800723935\n",
      "R2 score of training set is 0.8043691418888922\n",
      "\n",
      "\n",
      "The model performance for the test set\n",
      "-------------------------------------------\n",
      "RMSE of test set is 6.65751621298195\n",
      "R2 score of test set is 0.8014939579087872\n"
     ]
    },
    {
     "data": {
      "text/plain": [
       "(LinearRegression(normalize=True),\n",
       " array([0.81788071, 0.80021164, 0.79275663, 0.80769488, 0.81306392,\n",
       "        0.7938559 , 0.79809934, 0.81471553, 0.79940923, 0.80214402]),\n",
       " array([0.79449979, 0.81906536, 0.80014758, 0.80191727, 0.79171002,\n",
       "        0.79938219, 0.80557013, 0.80289963, 0.78803235, 0.80586549]),\n",
       " 42907     4.413993\n",
       " 6678      2.275178\n",
       " 29298    -3.739891\n",
       " 88774    -3.202483\n",
       " 8322      2.260673\n",
       "             ...   \n",
       " 53958    -2.539620\n",
       " 102045   -6.463808\n",
       " 8060      1.835630\n",
       " 81656    -0.911402\n",
       " 102537    3.883194\n",
       " Name: MAX, Length: 92017, dtype: float64,\n",
       " 4096097.5188609795,\n",
       " [-2.0290140435352413,\n",
       "  -414314652742.09045,\n",
       "  -4.319543589373921,\n",
       "  127335465373748.64,\n",
       "  -0.28765574848233066,\n",
       "  0.5734833467917588,\n",
       "  -0.07199185405882585,\n",
       "  -0.003089894269241142,\n",
       "  0.923282023200688,\n",
       "  0.005252995519665445,\n",
       "  -0.003048340308158937,\n",
       "  0.0018545099085766068],\n",
       " array([38.58600674, 89.72482208, 94.73989114, ..., 85.16437037,\n",
       "        78.91140244, 90.11680577]),\n",
       " array([59.46617628, 93.4275982 , 88.71621477, ..., 88.06335325,\n",
       "        96.73510129, 80.54498027]))"
      ]
     },
     "execution_count": 309,
     "metadata": {},
     "output_type": "execute_result"
    }
   ],
   "source": [
    "_regression_models(baseline_data, 'LinearRegression', split = 1/5, alpha = 0.1, folds = 10)"
   ]
  },
  {
   "cell_type": "code",
   "execution_count": 310,
   "metadata": {},
   "outputs": [
    {
     "name": "stdout",
     "output_type": "stream",
     "text": [
      "Training Accuracy: 0.788 (0.008)\n",
      "Testing Accuracy: 0.786 (0.011)\n",
      "The model performance for the training set\n",
      "-------------------------------------------\n",
      "RMSE of training set is 6.938689451774638\n",
      "R2 score of training set is 0.7884124823215937\n",
      "\n",
      "\n",
      "The model performance for the test set\n",
      "-------------------------------------------\n",
      "RMSE of test set is 6.900155542764963\n",
      "R2 score of test set is 0.7867608090275783\n"
     ]
    },
    {
     "data": {
      "text/plain": [
       "(LinearRegression(),\n",
       " array([0.80403575, 0.78317061, 0.77794529, 0.79017283, 0.7971223 ,\n",
       "        0.77910175, 0.78171785, 0.79741639, 0.7868603 , 0.78275197]),\n",
       " array([0.77840115, 0.80823482, 0.793242  , 0.78935428, 0.76552104,\n",
       "        0.78431209, 0.79322208, 0.78996235, 0.77155411, 0.78475487]),\n",
       " 42907     -5.943620\n",
       " 6678       3.120636\n",
       " 29298      0.079308\n",
       " 88774     13.785859\n",
       " 8322       0.588718\n",
       "             ...    \n",
       " 53958     -1.593559\n",
       " 102045    -2.920692\n",
       " 8060      -1.332127\n",
       " 81656     -2.415593\n",
       " 102537     5.667873\n",
       " Name: MAX, Length: 92017, dtype: float64,\n",
       " 4430196.312343669,\n",
       " [10.030134599727461,\n",
       "  0.0,\n",
       "  1.0301542150672345,\n",
       "  0.015099672702839512,\n",
       "  -0.00029265588657426643,\n",
       "  1.2846814645417481e-06],\n",
       " array([48.94361953, 88.87936363, 90.92069217, ..., 88.33212694,\n",
       "        80.41559335, 88.33212694]),\n",
       " array([59.95458734, 90.43135894, 87.76906171, ..., 88.33212694,\n",
       "        91.86111596, 84.700607  ]))"
      ]
     },
     "execution_count": 310,
     "metadata": {},
     "output_type": "execute_result"
    }
   ],
   "source": [
    "_regression_models(baseline_data, 'Polynominal', split = 1/5, alpha = 0.1, folds = 10)"
   ]
  },
  {
   "cell_type": "code",
   "execution_count": 311,
   "metadata": {},
   "outputs": [
    {
     "name": "stdout",
     "output_type": "stream",
     "text": [
      "                       0         0\n",
      "0                 Precip -0.009984\n",
      "1      Precip_normalised -3.702728\n",
      "2   Precip_min_max_scale -3.068398\n",
      "3               Snowfall -0.422975\n",
      "4                     YR  0.495359\n",
      "5                     MO -0.051879\n",
      "6                     DA -0.003574\n",
      "7                    MIN  0.825501\n",
      "8                   ELEV  0.003990\n",
      "9           Normal_Noise  0.001884\n",
      "10      Log_Normal_Noise  0.000474\n",
      "Training Accuracy: 0.796 (0.007)\n",
      "Testing Accuracy: 0.793 (0.008)\n",
      "The model performance for the training set\n",
      "-------------------------------------------\n",
      "RMSE of training set is 6.804623027041309\n",
      "R2 score of training set is 0.7965099009256735\n",
      "\n",
      "\n",
      "The model performance for the test set\n",
      "-------------------------------------------\n",
      "RMSE of test set is 6.774515407251855\n",
      "R2 score of test set is 0.7944555595847685\n"
     ]
    },
    {
     "data": {
      "text/plain": [
       "(Ridge(alpha=0.1, normalize=True),\n",
       " array([0.80921567, 0.79220798, 0.78648113, 0.79770587, 0.80453839,\n",
       "        0.78778495, 0.79095404, 0.80510325, 0.79314057, 0.79448315]),\n",
       " array([0.78742894, 0.81136943, 0.79159875, 0.79225886, 0.78363749,\n",
       "        0.79075198, 0.79735201, 0.79478236, 0.78214833, 0.79901839]),\n",
       " 42907     4.805443\n",
       " 6678      3.174802\n",
       " 29298    -2.276826\n",
       " 88774    -5.231257\n",
       " 8322      2.848667\n",
       "             ...   \n",
       " 53958    -1.898271\n",
       " 102045   -5.060933\n",
       " 8060      2.069078\n",
       " 81656    -1.145381\n",
       " 102537    4.795318\n",
       " Name: MAX, Length: 92017, dtype: float64,\n",
       " 4260653.446900144,\n",
       " [7.5308883245977825,\n",
       "  -0.009983725502102886,\n",
       "  -3.702728431676497,\n",
       "  -3.0683981958153366,\n",
       "  -0.4229747218488612,\n",
       "  0.4953593125592962,\n",
       "  -0.05187931240370515,\n",
       "  -0.003574399641006651,\n",
       "  0.825501087805744,\n",
       "  0.003990058245716132,\n",
       "  0.0018843914707337107,\n",
       "  0.0004736124616195922],\n",
       " array([38.19455673, 88.82519767, 93.27682627, ..., 84.93092223,\n",
       "        79.14538104, 89.20468192]),\n",
       " array([61.8418331 , 92.24277739, 87.9901662 , ..., 87.39884385,\n",
       "        95.06545034, 80.83475074]))"
      ]
     },
     "execution_count": 311,
     "metadata": {},
     "output_type": "execute_result"
    }
   ],
   "source": [
    "_regression_models(baseline_data, 'Ridge', split = 1/5, alpha = 0.1, folds = 10)"
   ]
  },
  {
   "cell_type": "code",
   "execution_count": 312,
   "metadata": {},
   "outputs": [
    {
     "name": "stdout",
     "output_type": "stream",
     "text": [
      "                       0    0\n",
      "0                 Precip  0.0\n",
      "1      Precip_normalised -0.0\n",
      "2   Precip_min_max_scale  0.0\n",
      "3               Snowfall -0.0\n",
      "4                     YR  0.0\n",
      "5                     MO  0.0\n",
      "6                     DA -0.0\n",
      "7                    MIN  0.0\n",
      "8                   ELEV -0.0\n",
      "9           Normal_Noise  0.0\n",
      "10      Log_Normal_Noise -0.0\n",
      "Training Accuracy: -0.000 (0.000)\n",
      "Testing Accuracy: -0.001 (0.001)\n",
      "The model performance for the training set\n",
      "-------------------------------------------\n",
      "RMSE of training set is 15.084552430633517\n",
      "R2 score of training set is 0.0\n",
      "\n",
      "\n",
      "The model performance for the test set\n",
      "-------------------------------------------\n",
      "RMSE of test set is 14.943314625388457\n",
      "R2 score of test set is -9.935151120354924e-05\n"
     ]
    },
    {
     "data": {
      "text/plain": [
       "(Lasso(alpha=0.1, max_iter=100000.0, normalize=True),\n",
       " array([-1.22814783e-04, -1.11200666e-04, -4.15170745e-04, -8.60125429e-04,\n",
       "        -7.12885008e-05, -3.31586474e-05, -9.05049771e-05, -3.50283249e-04,\n",
       "        -1.11446872e-04, -1.74821860e-04]),\n",
       " array([-1.63328530e-04, -3.16204224e-03, -2.95581426e-04, -1.18098926e-04,\n",
       "        -3.89678189e-04, -2.59343188e-05, -9.84382988e-06, -1.73721873e-05,\n",
       "        -1.08293755e-03, -3.21990067e-04]),\n",
       " 42907    -37.833846\n",
       " 6678      11.166154\n",
       " 29298     10.166154\n",
       " 88774    -33.833846\n",
       " 8322       9.166154\n",
       "             ...    \n",
       " 53958      4.166154\n",
       " 102045     7.166154\n",
       " 8060       6.166154\n",
       " 81656     -2.833846\n",
       " 102537    13.166154\n",
       " Name: MAX, Length: 92017, dtype: float64,\n",
       " 20937890.67027113,\n",
       " [80.8338459197757,\n",
       "  0.0,\n",
       "  -0.0,\n",
       "  0.0,\n",
       "  -0.0,\n",
       "  0.0,\n",
       "  0.0,\n",
       "  -0.0,\n",
       "  0.0,\n",
       "  -0.0,\n",
       "  0.0,\n",
       "  -0.0],\n",
       " array([80.83384592, 80.83384592, 80.83384592, ..., 80.83384592,\n",
       "        80.83384592, 80.83384592]),\n",
       " array([80.83384592, 80.83384592, 80.83384592, ..., 80.83384592,\n",
       "        80.83384592, 80.83384592]))"
      ]
     },
     "execution_count": 312,
     "metadata": {},
     "output_type": "execute_result"
    }
   ],
   "source": [
    "_regression_models(baseline_data, 'Lasso', split = 1/5, alpha = 0.1, folds = 10)"
   ]
  },
  {
   "cell_type": "code",
   "execution_count": 318,
   "metadata": {},
   "outputs": [],
   "source": [
    "cols = [c for c in model_data.columns if c.lower()[:8] != 'category']\n",
    "\n",
    "saturated_data=model_data[cols]\n",
    "saturated_data = saturated_data.dropna(how='all')"
   ]
  },
  {
   "cell_type": "code",
   "execution_count": 319,
   "metadata": {},
   "outputs": [
    {
     "data": {
      "text/plain": [
       "Index(['Precip', 'Snowfall', 'YR', 'MO', 'DA', 'MAX', 'MIN', 'ELEV',\n",
       "       'Latitude', 'Longitude', 'Precip_normalised', 'Snowfall_normalised',\n",
       "       'Precip_min_max_scale', 'Snowfall_min_max_scale', 'ksp_date',\n",
       "       'MeanTemp_F', 'Snowfall_bin', 'MIN_ELEV', 'Precip_MIN', 'Precip_ELEV',\n",
       "       'YR_ksp_date', 'MIN_ksp_date', 'Normal_Noise', 'Log_Normal_Noise',\n",
       "       'MAX_normalised', 'MIN_normalised', 'ksp_date_normalised',\n",
       "       'MAX_min_max_scale', 'MIN_min_max_scale', 'ksp_date_min_max_scale'],\n",
       "      dtype='object')"
      ]
     },
     "execution_count": 319,
     "metadata": {},
     "output_type": "execute_result"
    }
   ],
   "source": [
    "saturated_data.columns"
   ]
  },
  {
   "cell_type": "code",
   "execution_count": 320,
   "metadata": {},
   "outputs": [
    {
     "name": "stdout",
     "output_type": "stream",
     "text": [
      "                         0             0\n",
      "0                   Precip -1.302354e-02\n",
      "1                 Snowfall -2.162103e+00\n",
      "2                       YR -7.827838e-13\n",
      "3                       MO -5.402681e-14\n",
      "4                       DA -1.509048e-15\n",
      "5                      MIN -5.599101e-01\n",
      "6                     ELEV  3.865963e-17\n",
      "7                 Latitude  2.564706e-16\n",
      "8                Longitude -6.855527e-19\n",
      "9        Precip_normalised -4.864052e-15\n",
      "10     Snowfall_normalised  2.401967e-14\n",
      "11    Precip_min_max_scale  4.002656e+00\n",
      "12  Snowfall_min_max_scale  1.867192e+02\n",
      "13                ksp_date -1.036144e-02\n",
      "14              MeanTemp_F  3.640621e-01\n",
      "15            Snowfall_bin -2.838666e+03\n",
      "16                MIN_ELEV -9.556983e-19\n",
      "17              Precip_MIN  1.025212e-17\n",
      "18             Precip_ELEV  2.257942e-19\n",
      "19             YR_ksp_date  6.377329e-17\n",
      "20            MIN_ksp_date  1.115058e-17\n",
      "21            Normal_Noise -9.098418e-16\n",
      "22        Log_Normal_Noise -2.517110e-16\n",
      "23          MAX_normalised -1.149098e-13\n",
      "24          MIN_normalised  4.778017e-14\n",
      "25     ksp_date_normalised  0.000000e+00\n",
      "26       MAX_min_max_scale  1.226953e+02\n",
      "27       MIN_min_max_scale  4.950216e+01\n",
      "28  ksp_date_min_max_scale  6.214023e-02\n",
      "Training Accuracy: 1.000 (0.000)\n",
      "Testing Accuracy: 1.000 (0.000)\n",
      "The model performance for the training set\n",
      "-------------------------------------------\n",
      "RMSE of training set is 4.1318888554273885e-13\n",
      "R2 score of training set is 1.0\n",
      "\n",
      "\n",
      "The model performance for the test set\n",
      "-------------------------------------------\n",
      "RMSE of test set is 4.177716261763225e-13\n",
      "R2 score of test set is 1.0\n"
     ]
    },
    {
     "data": {
      "text/plain": [
       "(LinearRegression(normalize=True),\n",
       " array([1., 1., 1., 1., 1., 1., 1., 1., 1., 1.]),\n",
       " array([1., 1., 1., 1., 1., 1., 1., 1., 1., 1.]),\n",
       " 42907     0.000000e+00\n",
       " 6678      4.547474e-13\n",
       " 29298     4.547474e-13\n",
       " 88774     4.547474e-13\n",
       " 8322      0.000000e+00\n",
       "               ...     \n",
       " 53958     0.000000e+00\n",
       " 102045    4.547474e-13\n",
       " 8060      0.000000e+00\n",
       " 81656     4.547474e-13\n",
       " 102537    4.547474e-13\n",
       " Name: MAX, Length: 92017, dtype: float64,\n",
       " 1.5709607398453963e-20,\n",
       " [2821.882735877362,\n",
       "  -0.013023543049623752,\n",
       "  -2.1621028786643834,\n",
       "  -7.827838326589317e-13,\n",
       "  -5.402681146003593e-14,\n",
       "  -1.5090477639200586e-15,\n",
       "  -0.559910107576536,\n",
       "  3.865962892425827e-17,\n",
       "  2.5647059339957344e-16,\n",
       "  -6.855527497153679e-19,\n",
       "  -4.864052473913036e-15,\n",
       "  2.4019674997666136e-14,\n",
       "  4.002655720871302,\n",
       "  186.71920460145625,\n",
       "  -0.010361443108909723,\n",
       "  0.36406210195327476,\n",
       "  -2838.6662060678773,\n",
       "  -9.556983209054206e-19,\n",
       "  1.0252116446256136e-17,\n",
       "  2.257942115228865e-19,\n",
       "  6.377329303426303e-17,\n",
       "  1.1150580139902753e-17,\n",
       "  -9.098417905900613e-16,\n",
       "  -2.517109546836242e-16,\n",
       "  -1.149097860554073e-13,\n",
       "  4.778017068825118e-14,\n",
       "  0.0,\n",
       "  122.69534235350446,\n",
       "  49.50215641458381,\n",
       "  0.0621402323612252],\n",
       " array([43., 92., 91., ..., 87., 78., 94.]),\n",
       " array([ 47.,  84.,  86., ...,  91., 104.,  88.]))"
      ]
     },
     "execution_count": 320,
     "metadata": {},
     "output_type": "execute_result"
    }
   ],
   "source": [
    "_regression_models(saturated_data, 'LinearRegression', split = 1/5, alpha = 0.1, folds = 10)"
   ]
  },
  {
   "cell_type": "code",
   "execution_count": 321,
   "metadata": {},
   "outputs": [
    {
     "name": "stdout",
     "output_type": "stream",
     "text": [
      "                         0          0\n",
      "0                   Precip  -0.005388\n",
      "1                 Snowfall  -0.013707\n",
      "2                       YR   0.027427\n",
      "3                       MO  -0.022331\n",
      "4                       DA  -0.001139\n",
      "5                      MIN   0.029711\n",
      "6                     ELEV   0.000165\n",
      "7                 Latitude  -0.006365\n",
      "8                Longitude   0.004192\n",
      "9        Precip_normalised  -1.032900\n",
      "10     Snowfall_normalised  -1.743084\n",
      "11    Precip_min_max_scale  -1.655846\n",
      "12  Snowfall_min_max_scale  -1.183780\n",
      "13                ksp_date   0.009219\n",
      "14              MeanTemp_F   0.319777\n",
      "15            Snowfall_bin   0.000000\n",
      "16                MIN_ELEV   0.000023\n",
      "17              Precip_MIN   0.000048\n",
      "18             Precip_ELEV  -0.000027\n",
      "19             YR_ksp_date   0.000014\n",
      "20            MIN_ksp_date   0.000015\n",
      "21            Normal_Noise   0.000816\n",
      "22        Log_Normal_Noise  -0.000938\n",
      "23          MAX_normalised   1.070229\n",
      "24          MIN_normalised  -0.048574\n",
      "25     ksp_date_normalised   0.000000\n",
      "26       MAX_min_max_scale  83.117798\n",
      "27       MIN_min_max_scale   3.892138\n",
      "28  ksp_date_min_max_scale   0.055290\n",
      "Training Accuracy: 0.985 (0.001)\n",
      "Testing Accuracy: 0.985 (0.001)\n",
      "The model performance for the training set\n",
      "-------------------------------------------\n",
      "RMSE of training set is 1.8401158372361106\n",
      "R2 score of training set is 0.985119227794107\n",
      "\n",
      "\n",
      "The model performance for the test set\n",
      "-------------------------------------------\n",
      "RMSE of test set is 1.8317919651589016\n",
      "R2 score of test set is 0.984971986925074\n"
     ]
    },
    {
     "data": {
      "text/plain": [
       "(Ridge(alpha=0.1, normalize=True),\n",
       " array([0.98637856, 0.98470701, 0.98413407, 0.98537506, 0.98581632,\n",
       "        0.98423571, 0.98460404, 0.98591626, 0.9847683 , 0.98491304]),\n",
       " array([0.98456634, 0.98694742, 0.98494767, 0.98517526, 0.98423884,\n",
       "        0.98496718, 0.98535304, 0.98517095, 0.98396108, 0.98537269]),\n",
       " 42907     1.002981\n",
       " 6678      0.795396\n",
       " 29298    -0.671687\n",
       " 88774    -0.067085\n",
       " 8322      1.008920\n",
       "             ...   \n",
       " 53958     0.009838\n",
       " 102045   -1.712983\n",
       " 8060      0.753557\n",
       " 81656    -0.311980\n",
       " 102537    1.267364\n",
       " Name: MAX, Length: 92017, dtype: float64,\n",
       " 311571.9815361458,\n",
       " [-30.22688154803427,\n",
       "  -0.005387668867433798,\n",
       "  -0.013707499630832396,\n",
       "  0.027427266290427882,\n",
       "  -0.022330663212624464,\n",
       "  -0.0011387027560236264,\n",
       "  0.02971097762719827,\n",
       "  0.00016510395770105195,\n",
       "  -0.00636455500133121,\n",
       "  0.004192147515093313,\n",
       "  -1.0328995555340044,\n",
       "  -1.743084044123055,\n",
       "  -1.655846149717084,\n",
       "  -1.183779668120247,\n",
       "  0.009219254184600888,\n",
       "  0.31977700046532037,\n",
       "  0.0,\n",
       "  2.3190287943165327e-05,\n",
       "  4.798339989617935e-05,\n",
       "  -2.7218008199019635e-05,\n",
       "  1.3621881996327265e-05,\n",
       "  1.5276749838109668e-05,\n",
       "  0.0008162303925517273,\n",
       "  -0.0009383591284530131,\n",
       "  1.0702286105363814,\n",
       "  -0.048573704242931864,\n",
       "  0.0,\n",
       "  83.11779799373679,\n",
       "  3.8921380691642855,\n",
       "  0.05529023237118103],\n",
       " array([41.99701909, 91.2046037 , 91.67168704, ..., 86.24644288,\n",
       "        78.31197986, 92.73263621]),\n",
       " array([ 50.80452919,  86.27122815,  86.75570593, ...,  90.12878802,\n",
       "        102.19737079,  85.26425404]))"
      ]
     },
     "execution_count": 321,
     "metadata": {},
     "output_type": "execute_result"
    }
   ],
   "source": [
    "_regression_models(saturated_data, 'Ridge', split = 1/5, alpha = 0.1, folds = 10)"
   ]
  },
  {
   "cell_type": "code",
   "execution_count": 322,
   "metadata": {},
   "outputs": [
    {
     "name": "stdout",
     "output_type": "stream",
     "text": [
      "                         0    0\n",
      "0                   Precip  0.0\n",
      "1                 Snowfall -0.0\n",
      "2                       YR  0.0\n",
      "3                       MO  0.0\n",
      "4                       DA -0.0\n",
      "5                      MIN  0.0\n",
      "6                     ELEV -0.0\n",
      "7                 Latitude -0.0\n",
      "8                Longitude  0.0\n",
      "9        Precip_normalised -0.0\n",
      "10     Snowfall_normalised -0.0\n",
      "11    Precip_min_max_scale  0.0\n",
      "12  Snowfall_min_max_scale -0.0\n",
      "13                ksp_date  0.0\n",
      "14              MeanTemp_F  0.0\n",
      "15            Snowfall_bin  0.0\n",
      "16                MIN_ELEV  0.0\n",
      "17              Precip_MIN  0.0\n",
      "18             Precip_ELEV -0.0\n",
      "19             YR_ksp_date  0.0\n",
      "20            MIN_ksp_date  0.0\n",
      "21            Normal_Noise  0.0\n",
      "22        Log_Normal_Noise -0.0\n",
      "23          MAX_normalised  0.0\n",
      "24          MIN_normalised  0.0\n",
      "25     ksp_date_normalised  0.0\n",
      "26       MAX_min_max_scale  0.0\n",
      "27       MIN_min_max_scale  0.0\n",
      "28  ksp_date_min_max_scale  0.0\n",
      "Training Accuracy: -0.000 (0.000)\n",
      "Testing Accuracy: 0.072 (0.006)\n",
      "The model performance for the training set\n",
      "-------------------------------------------\n",
      "RMSE of training set is 15.084552430633517\n",
      "R2 score of training set is 0.0\n",
      "\n",
      "\n",
      "The model performance for the test set\n",
      "-------------------------------------------\n",
      "RMSE of test set is 14.943314625388457\n",
      "R2 score of test set is -9.935151120354924e-05\n"
     ]
    },
    {
     "data": {
      "text/plain": [
       "(Lasso(alpha=0.1, max_iter=100000.0, normalize=True),\n",
       " array([-1.22814783e-04, -1.11200666e-04, -4.15170745e-04, -8.60125429e-04,\n",
       "        -7.12885008e-05, -3.31586474e-05, -9.05049771e-05, -3.50283249e-04,\n",
       "        -1.11446872e-04, -1.74821860e-04]),\n",
       " array([0.07456419, 0.05806556, 0.0711139 , 0.07131302, 0.08343946,\n",
       "        0.07257484, 0.06976389, 0.07160255, 0.0758452 , 0.07327057]),\n",
       " 42907    -37.833846\n",
       " 6678      11.166154\n",
       " 29298     10.166154\n",
       " 88774    -33.833846\n",
       " 8322       9.166154\n",
       "             ...    \n",
       " 53958      4.166154\n",
       " 102045     7.166154\n",
       " 8060       6.166154\n",
       " 81656     -2.833846\n",
       " 102537    13.166154\n",
       " Name: MAX, Length: 92017, dtype: float64,\n",
       " 20937890.67027113,\n",
       " [80.8338459197757,\n",
       "  0.0,\n",
       "  -0.0,\n",
       "  0.0,\n",
       "  0.0,\n",
       "  -0.0,\n",
       "  0.0,\n",
       "  -0.0,\n",
       "  -0.0,\n",
       "  0.0,\n",
       "  -0.0,\n",
       "  -0.0,\n",
       "  0.0,\n",
       "  -0.0,\n",
       "  0.0,\n",
       "  0.0,\n",
       "  0.0,\n",
       "  0.0,\n",
       "  0.0,\n",
       "  -0.0,\n",
       "  0.0,\n",
       "  0.0,\n",
       "  0.0,\n",
       "  -0.0,\n",
       "  0.0,\n",
       "  0.0,\n",
       "  0.0,\n",
       "  0.0,\n",
       "  0.0,\n",
       "  0.0],\n",
       " array([80.83384592, 80.83384592, 80.83384592, ..., 80.83384592,\n",
       "        80.83384592, 80.83384592]),\n",
       " array([80.83384592, 80.83384592, 80.83384592, ..., 80.83384592,\n",
       "        80.83384592, 80.83384592]))"
      ]
     },
     "execution_count": 322,
     "metadata": {},
     "output_type": "execute_result"
    }
   ],
   "source": [
    "_regression_models(saturated_data, 'Lasso', split = 1/5, alpha = 0.1, folds = 10)"
   ]
  },
  {
   "cell_type": "code",
   "execution_count": 323,
   "metadata": {},
   "outputs": [],
   "source": [
    "baseline_data.name = 'baseline_data'\n",
    "saturated_data.name = 'saturated_data'\n",
    "\n",
    "datalist = [baseline_data, saturated_data]\n",
    "model_types = ['LinearRegression', 'Ridge', 'Lasso', 'Robust']"
   ]
  },
  {
   "cell_type": "code",
   "execution_count": 324,
   "metadata": {},
   "outputs": [
    {
     "name": "stdout",
     "output_type": "stream",
     "text": [
      "baseline_data\n",
      "LinearRegression\n",
      "                       0             0\n",
      "0                 Precip -4.143147e+11\n",
      "1      Precip_normalised -4.319544e+00\n",
      "2   Precip_min_max_scale  1.273355e+14\n",
      "3               Snowfall -2.876557e-01\n",
      "4                     YR  5.734833e-01\n",
      "5                     MO -7.199185e-02\n",
      "6                     DA -3.089894e-03\n",
      "7                    MIN  9.232820e-01\n",
      "8                   ELEV  5.252996e-03\n",
      "9           Normal_Noise -3.048340e-03\n",
      "10      Log_Normal_Noise  1.854510e-03\n",
      "Training Accuracy: 0.804 (0.008)\n",
      "Testing Accuracy: 0.801 (0.008)\n",
      "The model performance for the training set\n",
      "-------------------------------------------\n",
      "RMSE of training set is 6.6719242800723935\n",
      "R2 score of training set is 0.8043691418888922\n",
      "\n",
      "\n",
      "The model performance for the test set\n",
      "-------------------------------------------\n",
      "RMSE of test set is 6.65751621298195\n",
      "R2 score of test set is 0.8014939579087872\n",
      "baseline_data\n",
      "Ridge\n",
      "                       0         0\n",
      "0                 Precip -0.009984\n",
      "1      Precip_normalised -3.702728\n",
      "2   Precip_min_max_scale -3.068398\n",
      "3               Snowfall -0.422975\n",
      "4                     YR  0.495359\n",
      "5                     MO -0.051879\n",
      "6                     DA -0.003574\n",
      "7                    MIN  0.825501\n",
      "8                   ELEV  0.003990\n",
      "9           Normal_Noise  0.001884\n",
      "10      Log_Normal_Noise  0.000474\n",
      "Training Accuracy: 0.796 (0.007)\n",
      "Testing Accuracy: 0.793 (0.008)\n",
      "The model performance for the training set\n",
      "-------------------------------------------\n",
      "RMSE of training set is 6.804623027041309\n",
      "R2 score of training set is 0.7965099009256735\n",
      "\n",
      "\n",
      "The model performance for the test set\n",
      "-------------------------------------------\n",
      "RMSE of test set is 6.774515407251855\n",
      "R2 score of test set is 0.7944555595847685\n",
      "baseline_data\n",
      "Lasso\n",
      "                       0    0\n",
      "0                 Precip  0.0\n",
      "1      Precip_normalised -0.0\n",
      "2   Precip_min_max_scale  0.0\n",
      "3               Snowfall -0.0\n",
      "4                     YR  0.0\n",
      "5                     MO  0.0\n",
      "6                     DA -0.0\n",
      "7                    MIN  0.0\n",
      "8                   ELEV -0.0\n",
      "9           Normal_Noise  0.0\n",
      "10      Log_Normal_Noise -0.0\n",
      "Training Accuracy: -0.000 (0.000)\n",
      "Testing Accuracy: -0.001 (0.001)\n",
      "The model performance for the training set\n",
      "-------------------------------------------\n",
      "RMSE of training set is 15.084552430633517\n",
      "R2 score of training set is 0.0\n",
      "\n",
      "\n",
      "The model performance for the test set\n",
      "-------------------------------------------\n",
      "RMSE of test set is 14.943314625388457\n",
      "R2 score of test set is -9.935151120354924e-05\n",
      "baseline_data\n",
      "Robust\n",
      "                       0         0\n",
      "0                 Precip -0.058293\n",
      "1      Precip_normalised -1.894605\n",
      "2   Precip_min_max_scale -0.000190\n",
      "3               Snowfall -0.327408\n",
      "4                     YR  0.527625\n",
      "5                     MO -0.140577\n",
      "6                     DA -0.012311\n",
      "7                    MIN  0.912991\n",
      "8                   ELEV  0.004976\n",
      "9           Normal_Noise  0.000697\n",
      "10      Log_Normal_Noise  0.043331\n",
      "Training Accuracy: 0.798 (0.009)\n",
      "Testing Accuracy: 0.794 (0.010)\n",
      "The model performance for the training set\n",
      "-------------------------------------------\n",
      "RMSE of training set is 6.776954191272138\n",
      "R2 score of training set is 0.7981613920157512\n",
      "\n",
      "\n",
      "The model performance for the test set\n",
      "-------------------------------------------\n",
      "RMSE of test set is 6.763539090938785\n",
      "R2 score of test set is 0.7951210811562405\n",
      "saturated_data\n",
      "LinearRegression\n",
      "                         0             0\n",
      "0                   Precip -1.302354e-02\n",
      "1                 Snowfall -2.162103e+00\n",
      "2                       YR -7.827838e-13\n",
      "3                       MO -5.402681e-14\n",
      "4                       DA -1.509048e-15\n",
      "5                      MIN -5.599101e-01\n",
      "6                     ELEV  3.865963e-17\n",
      "7                 Latitude  2.564706e-16\n",
      "8                Longitude -6.855527e-19\n",
      "9        Precip_normalised -4.864052e-15\n",
      "10     Snowfall_normalised  2.401967e-14\n",
      "11    Precip_min_max_scale  4.002656e+00\n",
      "12  Snowfall_min_max_scale  1.867192e+02\n",
      "13                ksp_date -1.036144e-02\n",
      "14              MeanTemp_F  3.640621e-01\n",
      "15            Snowfall_bin -2.838666e+03\n",
      "16                MIN_ELEV -9.556983e-19\n",
      "17              Precip_MIN  1.025212e-17\n",
      "18             Precip_ELEV  2.257942e-19\n",
      "19             YR_ksp_date  6.377329e-17\n",
      "20            MIN_ksp_date  1.115058e-17\n",
      "21            Normal_Noise -9.098418e-16\n",
      "22        Log_Normal_Noise -2.517110e-16\n",
      "23          MAX_normalised -1.149098e-13\n",
      "24          MIN_normalised  4.778017e-14\n",
      "25     ksp_date_normalised  0.000000e+00\n",
      "26       MAX_min_max_scale  1.226953e+02\n",
      "27       MIN_min_max_scale  4.950216e+01\n",
      "28  ksp_date_min_max_scale  6.214023e-02\n",
      "Training Accuracy: 1.000 (0.000)\n",
      "Testing Accuracy: 1.000 (0.000)\n",
      "The model performance for the training set\n",
      "-------------------------------------------\n",
      "RMSE of training set is 4.1318888554273885e-13\n",
      "R2 score of training set is 1.0\n",
      "\n",
      "\n",
      "The model performance for the test set\n",
      "-------------------------------------------\n",
      "RMSE of test set is 4.177716261763225e-13\n",
      "R2 score of test set is 1.0\n",
      "saturated_data\n",
      "Ridge\n",
      "                         0          0\n",
      "0                   Precip  -0.005388\n",
      "1                 Snowfall  -0.013707\n",
      "2                       YR   0.027427\n",
      "3                       MO  -0.022331\n",
      "4                       DA  -0.001139\n",
      "5                      MIN   0.029711\n",
      "6                     ELEV   0.000165\n",
      "7                 Latitude  -0.006365\n",
      "8                Longitude   0.004192\n",
      "9        Precip_normalised  -1.032900\n",
      "10     Snowfall_normalised  -1.743084\n",
      "11    Precip_min_max_scale  -1.655846\n",
      "12  Snowfall_min_max_scale  -1.183780\n",
      "13                ksp_date   0.009219\n",
      "14              MeanTemp_F   0.319777\n",
      "15            Snowfall_bin   0.000000\n",
      "16                MIN_ELEV   0.000023\n",
      "17              Precip_MIN   0.000048\n",
      "18             Precip_ELEV  -0.000027\n",
      "19             YR_ksp_date   0.000014\n",
      "20            MIN_ksp_date   0.000015\n",
      "21            Normal_Noise   0.000816\n",
      "22        Log_Normal_Noise  -0.000938\n",
      "23          MAX_normalised   1.070229\n",
      "24          MIN_normalised  -0.048574\n",
      "25     ksp_date_normalised   0.000000\n",
      "26       MAX_min_max_scale  83.117798\n",
      "27       MIN_min_max_scale   3.892138\n",
      "28  ksp_date_min_max_scale   0.055290\n",
      "Training Accuracy: 0.985 (0.001)\n",
      "Testing Accuracy: 0.985 (0.001)\n",
      "The model performance for the training set\n",
      "-------------------------------------------\n",
      "RMSE of training set is 1.8401158372361106\n",
      "R2 score of training set is 0.985119227794107\n",
      "\n",
      "\n",
      "The model performance for the test set\n",
      "-------------------------------------------\n",
      "RMSE of test set is 1.8317919651589016\n",
      "R2 score of test set is 0.984971986925074\n",
      "saturated_data\n",
      "Lasso\n",
      "                         0    0\n",
      "0                   Precip  0.0\n",
      "1                 Snowfall -0.0\n",
      "2                       YR  0.0\n",
      "3                       MO  0.0\n",
      "4                       DA -0.0\n",
      "5                      MIN  0.0\n",
      "6                     ELEV -0.0\n",
      "7                 Latitude -0.0\n",
      "8                Longitude  0.0\n",
      "9        Precip_normalised -0.0\n",
      "10     Snowfall_normalised -0.0\n",
      "11    Precip_min_max_scale  0.0\n",
      "12  Snowfall_min_max_scale -0.0\n",
      "13                ksp_date  0.0\n",
      "14              MeanTemp_F  0.0\n",
      "15            Snowfall_bin  0.0\n",
      "16                MIN_ELEV  0.0\n",
      "17              Precip_MIN  0.0\n",
      "18             Precip_ELEV -0.0\n",
      "19             YR_ksp_date  0.0\n",
      "20            MIN_ksp_date  0.0\n",
      "21            Normal_Noise  0.0\n",
      "22        Log_Normal_Noise -0.0\n",
      "23          MAX_normalised  0.0\n",
      "24          MIN_normalised  0.0\n",
      "25     ksp_date_normalised  0.0\n",
      "26       MAX_min_max_scale  0.0\n",
      "27       MIN_min_max_scale  0.0\n",
      "28  ksp_date_min_max_scale  0.0\n",
      "Training Accuracy: -0.000 (0.000)\n",
      "Testing Accuracy: 0.072 (0.006)\n",
      "The model performance for the training set\n",
      "-------------------------------------------\n",
      "RMSE of training set is 15.084552430633517\n",
      "R2 score of training set is 0.0\n",
      "\n",
      "\n",
      "The model performance for the test set\n",
      "-------------------------------------------\n",
      "RMSE of test set is 14.943314625388457\n",
      "R2 score of test set is -9.935151120354924e-05\n",
      "saturated_data\n",
      "Robust\n",
      "                         0         0\n",
      "0                   Precip -0.000480\n",
      "1                 Snowfall -0.001351\n",
      "2                       YR  0.000009\n",
      "3                       MO -0.000845\n",
      "4                       DA -0.000147\n",
      "5                      MIN  0.000017\n",
      "6                     ELEV -0.008922\n",
      "7                 Latitude -0.003309\n",
      "8                Longitude  0.012686\n",
      "9        Precip_normalised -0.000626\n",
      "10     Snowfall_normalised -0.000093\n",
      "11    Precip_min_max_scale -0.000002\n",
      "12  Snowfall_min_max_scale -0.000016\n",
      "13                ksp_date  0.014916\n",
      "14              MeanTemp_F  0.018211\n",
      "15            Snowfall_bin  0.000008\n",
      "16                MIN_ELEV  0.000275\n",
      "17              Precip_MIN -0.000851\n",
      "18             Precip_ELEV -0.000195\n",
      "19             YR_ksp_date -0.000065\n",
      "20            MIN_ksp_date  0.000442\n",
      "21            Normal_Noise -0.000001\n",
      "22        Log_Normal_Noise -0.000020\n",
      "23          MAX_normalised  0.000026\n",
      "24          MIN_normalised  0.000046\n",
      "25     ksp_date_normalised  0.000008\n",
      "26       MAX_min_max_scale  0.000244\n",
      "27       MIN_min_max_scale  0.000002\n",
      "28  ksp_date_min_max_scale -0.000063\n"
     ]
    },
    {
     "name": "stdout",
     "output_type": "stream",
     "text": [
      "Training Accuracy: 0.800 (0.009)\n",
      "Testing Accuracy: 0.798 (0.010)\n",
      "The model performance for the training set\n",
      "-------------------------------------------\n",
      "RMSE of training set is 6.764264381819157\n",
      "R2 score of training set is 0.7989165676888869\n",
      "\n",
      "\n",
      "The model performance for the test set\n",
      "-------------------------------------------\n",
      "RMSE of test set is 6.735666199775527\n",
      "R2 score of test set is 0.7968062347300374\n"
     ]
    }
   ],
   "source": [
    "for i in datalist:\n",
    "    for j in model_types:\n",
    "        print(i.name)\n",
    "        print(j)\n",
    "        _regression_models(i, j)"
   ]
  },
  {
   "cell_type": "code",
   "execution_count": null,
   "metadata": {},
   "outputs": [],
   "source": [
    "# Check linear regression Assumptions\n",
    "# Linearity --- Error Terms\n",
    "# Independence --- Error Terms\n",
    "# Homoscedasticity (constant variance) --- Error Terms\n",
    "# Normality --- Error Terms\n",
    "# Multicollinearity --- Predicting Variables"
   ]
  },
  {
   "cell_type": "code",
   "execution_count": 357,
   "metadata": {},
   "outputs": [],
   "source": [
    "import numpy as np\n",
    "import pandas as pd\n",
    "import seaborn as sns\n",
    "import statsmodels.api as sm\n",
    "import matplotlib.pyplot as plt\n",
    "from statsmodels.graphics.gofplots import ProbPlot\n",
    "plt.style.use('seaborn') # pretty matplotlib plots\n",
    "plt.rc('font', size=14)\n",
    "plt.rc('figure', titlesize=18)\n",
    "plt.rc('axes', labelsize=15)\n",
    "plt.rc('axes', titlesize=18)"
   ]
  },
  {
   "cell_type": "code",
   "execution_count": 361,
   "metadata": {},
   "outputs": [],
   "source": [
    "baseline_data.dropna()\n",
    "baseline_data = baseline_data.sample(n=math.floor(0.05*len(baseline_data)), random_state=1)\n",
    "\n",
    "y = baseline_data['MAX']\n",
    "X = baseline_data.drop(['MAX'], axis=1)  \n",
    "\n",
    "# Split the data into train and test splits\n",
    "x_train, x_test, y_train, y_test = train_test_split(X, y, test_size=1/5, random_state=1)"
   ]
  },
  {
   "cell_type": "code",
   "execution_count": 362,
   "metadata": {},
   "outputs": [],
   "source": [
    "def graph(formula, x_range, label=None):\n",
    "    \"\"\"\n",
    "    Helper function for plotting cook's distance lines\n",
    "    \"\"\"\n",
    "    x = x_range\n",
    "    y = formula(x)\n",
    "    plt.plot(x, y, label=label, lw=1, ls='--', color='red')\n",
    "\n",
    "\n",
    "def diagnostic_plots(X, y, model_fit=None):\n",
    "    \"\"\"\n",
    "    Function to reproduce the 4 base plots of an OLS model in Python.\n",
    "    --  Inputs:\n",
    "    X: A numpy array or pandas dataframe of the features to use in building the linear regression model\n",
    "    y: A numpy array or pandas series/dataframe of the target variable of the linear regression model\n",
    "    \n",
    "    model_fit [optional]: a statsmodel.api.OLS model after regressing y on X. If not provided, will be\n",
    "    generated from X, y\n",
    "    \"\"\"\n",
    "    if not model_fit:\n",
    "        model_fit = sm.OLS(y, sm.add_constant(X)).fit()\n",
    "        \n",
    "    # create dataframe from X, y for easier plot handling\n",
    "    dataframe = pd.concat([X, y], axis=1)\n",
    "    \n",
    "    # model values\n",
    "    model_fitted_y = model_fit.fittedvalues\n",
    "    \n",
    "    # model residuals\n",
    "    model_residuals = model_fit.resid\n",
    "    \n",
    "    # normalized residuals\n",
    "    model_norm_residuals = model_fit.get_influence().resid_studentized_internal\n",
    "    \n",
    "    # absolute squared normalized residuals\n",
    "    model_norm_residuals_abs_sqrt = np.sqrt(np.abs(model_norm_residuals))\n",
    "    \n",
    "    # absolute residuals\n",
    "    model_abs_resid = np.abs(model_residuals)\n",
    "    \n",
    "    # leverage, from statsmodels internals\n",
    "    model_leverage = model_fit.get_influence().hat_matrix_diag\n",
    "    \n",
    "    # cook's distance, from statsmodels internals\n",
    "    model_cooks = model_fit.get_influence().cooks_distance[0]\n",
    "    \n",
    "    plot_lm_1 = plt.figure()\n",
    "    plot_lm_1.axes[0] = sns.residplot(model_fitted_y, dataframe.columns[-1], data=dataframe,\n",
    "                                      lowess=True,\n",
    "                                      scatter_kws={'alpha': 0.5},\n",
    "                                      line_kws={'color': 'red', 'lw': 1, 'alpha': 0.8})\n",
    "    plot_lm_1.axes[0].set_title('Residuals vs Fitted')\n",
    "    plot_lm_1.axes[0].set_xlabel('Fitted values')\n",
    "    plot_lm_1.axes[0].set_ylabel('Residuals');\n",
    "    \n",
    "    # annotations\n",
    "    abs_resid = model_abs_resid.sort_values(ascending=False)\n",
    "    abs_resid_top_3 = abs_resid[:3]\n",
    "    for i in abs_resid_top_3.index:\n",
    "        plot_lm_1.axes[0].annotate(i,\n",
    "                                   xy=(model_fitted_y[i],\n",
    "                                       model_residuals[i]));\n",
    "        \n",
    "    QQ = ProbPlot(model_norm_residuals)\n",
    "    \n",
    "    plot_lm_2 = QQ.qqplot(line='45', alpha=0.5, color='#4C72B0', lw=1)\n",
    "    plot_lm_2.axes[0].set_title('Normal Q-Q')\n",
    "    plot_lm_2.axes[0].set_xlabel('Theoretical Quantiles')\n",
    "    plot_lm_2.axes[0].set_ylabel('Standardized Residuals');\n",
    "    \n",
    "    # annotations\n",
    "    abs_norm_resid = np.flip(np.argsort(np.abs(model_norm_residuals)), 0)\n",
    "    abs_norm_resid_top_3 = abs_norm_resid[:3]\n",
    "    for r, i in enumerate(abs_norm_resid_top_3):\n",
    "        plot_lm_2.axes[0].annotate(i,\n",
    "                                   xy=(np.flip(QQ.theoretical_quantiles, 0)[r],\n",
    "                                       model_norm_residuals[i]));\n",
    "        \n",
    "    plot_lm_3 = plt.figure()\n",
    "    plt.scatter(model_fitted_y, model_norm_residuals_abs_sqrt, alpha=0.5);\n",
    "    sns.regplot(model_fitted_y, model_norm_residuals_abs_sqrt,\n",
    "                scatter=False,\n",
    "                ci=False,\n",
    "                lowess=True,\n",
    "                line_kws={'color': 'red', 'lw': 1, 'alpha': 0.8});\n",
    "    plot_lm_3.axes[0].set_title('Scale-Location')\n",
    "    plot_lm_3.axes[0].set_xlabel('Fitted values')\n",
    "    plot_lm_3.axes[0].set_ylabel('$\\sqrt{|Standardized Residuals|}$');\n",
    "    \n",
    "    # annotations\n",
    "    abs_sq_norm_resid = np.flip(np.argsort(model_norm_residuals_abs_sqrt), 0)\n",
    "    abs_sq_norm_resid_top_3 = abs_sq_norm_resid[:3]\n",
    "    for i in abs_norm_resid_top_3:\n",
    "        plot_lm_3.axes[0].annotate(i, xy=(model_fitted_y[i], model_norm_residuals_abs_sqrt[i]));\n",
    "        \n",
    "        \n",
    "    plot_lm_4 = plt.figure();\n",
    "    plt.scatter(model_leverage, model_norm_residuals, alpha=0.5);\n",
    "    sns.regplot(model_leverage, model_norm_residuals,\n",
    "                scatter=False,\n",
    "                ci=False,\n",
    "                lowess=True,\n",
    "                line_kws={'color': 'red', 'lw': 1, 'alpha': 0.8});\n",
    "    plot_lm_4.axes[0].set_xlim(0, max(model_leverage)+0.01)\n",
    "    plot_lm_4.axes[0].set_ylim(-3, 5)\n",
    "    plot_lm_4.axes[0].set_title('Residuals vs Leverage')\n",
    "    plot_lm_4.axes[0].set_xlabel('Leverage')\n",
    "    plot_lm_4.axes[0].set_ylabel('Standardized Residuals');\n",
    "    \n",
    "    # annotations\n",
    "    leverage_top_3 = np.flip(np.argsort(model_cooks), 0)[:3]\n",
    "    for i in leverage_top_3:\n",
    "        plot_lm_4.axes[0].annotate(i,\n",
    "                                   xy=(model_leverage[i],\n",
    "                                       model_norm_residuals[i]));\n",
    "    p = len(model_fit.params) # number of model parameters\n",
    "    graph(lambda x: np.sqrt((0.5 * p * (1 - x)) / x),\n",
    "          np.linspace(0.001, max(model_leverage), 50),\n",
    "          'Cook\\'s distance') # 0.5 line\n",
    "    graph(lambda x: np.sqrt((1 * p * (1 - x)) / x),\n",
    "          np.linspace(0.001, max(model_leverage), 50)) # 1 line\n",
    "    plot_lm_4.legend(loc='upper right');"
   ]
  },
  {
   "cell_type": "code",
   "execution_count": 363,
   "metadata": {},
   "outputs": [
    {
     "data": {
      "image/png": "[encoded data removed]",
      "text/plain": [
       "<Figure size 800x550 with 1 Axes>"
      ]
     },
     "metadata": {},
     "output_type": "display_data"
    },
    {
     "data": {
      "image/png": "[encoded data removed]",
      "text/plain": [
       "<Figure size 800x550 with 1 Axes>"
      ]
     },
     "metadata": {},
     "output_type": "display_data"
    },
    {
     "data": {
      "image/png": "[encoded data removed]",
      "text/plain": [
       "<Figure size 800x550 with 1 Axes>"
      ]
     },
     "metadata": {},
     "output_type": "display_data"
    },
    {
     "data": {
      "image/png": "[encoded data removed]",
      "text/plain": [
       "<Figure size 800x550 with 1 Axes>"
      ]
     },
     "metadata": {},
     "output_type": "display_data"
    }
   ],
   "source": [
    "diagnostic_plots(x_train, \n",
    "                 y_train, \n",
    "                 model_fit=None)"
   ]
  },
  {
   "cell_type": "code",
   "execution_count": 364,
   "metadata": {},
   "outputs": [
    {
     "name": "stdout",
     "output_type": "stream",
     "text": [
      "Training scores:\n",
      "\n",
      " [[1.         1.         1.         1.         1.         1.\n",
      "  1.         1.         1.         1.        ]\n",
      " [0.79086722 0.78998882 0.799638   0.63050503 0.80719138 0.8102658\n",
      "  0.79821779 0.7993846  0.78915597 0.8046317 ]\n",
      " [0.79433647 0.79662211 0.79653487 0.62900484 0.80212304 0.81067707\n",
      "  0.8007395  0.79730846 0.79720754 0.80536815]\n",
      " [0.79568935 0.79720261 0.7979141  0.6222251  0.79933485 0.81390275\n",
      "  0.80046528 0.79327023 0.79804397 0.80577003]\n",
      " [0.79270422 0.79975805 0.79828637 0.62036873 0.79668018 0.81541078\n",
      "  0.79872402 0.79153217 0.79620722 0.80402784]\n",
      " [0.79039976 0.80079005 0.79901805 0.61941824 0.79752973 0.81423641\n",
      "  0.80062466 0.79129195 0.79634626 0.80469828]\n",
      " [0.7906324  0.79963989 0.80022999 0.6196363  0.79787197 0.81289701\n",
      "  0.79917447 0.78971048 0.79577049 0.80541984]\n",
      " [0.79102688 0.79955048 0.79999254 0.61873891 0.79735961 0.81349719\n",
      "  0.79903905 0.78783285 0.79510835 0.80494914]\n",
      " [0.79073541 0.79989878 0.80047944 0.61958841 0.79678093 0.81273375\n",
      "  0.79916996 0.78874232 0.79588825 0.80504742]]\n",
      "\n",
      " ----------------------------------------------------------------------\n",
      "\n",
      "Validation scores:\n",
      "\n",
      " [[-1.27064900e+00 -1.13330138e+01 -5.12350465e+00 -2.39595477e+00\n",
      "  -8.72988778e+01 -3.82437083e+01 -1.14101663e+00 -1.99204113e-02\n",
      "  -2.20927713e+01 -3.22588422e+00]\n",
      " [-2.65004281e-01 -8.04541101e-01  4.52692752e-01  5.39240108e-01\n",
      "  -1.44099800e-01  9.47348783e-02  6.81832552e-01  7.61133791e-01\n",
      "   4.47826377e-01 -5.01199501e-02]\n",
      " [-2.67078077e-01 -7.98413486e-01  4.48446042e-01  4.69780301e-01\n",
      "  -1.43857630e-01  9.16432194e-02  6.81828940e-01  7.61305397e-01\n",
      "   4.48074021e-01 -5.76172630e-02]\n",
      " [-2.70087761e-01 -7.99646158e-01  4.48238814e-01  4.43818000e-01\n",
      "  -1.40518498e-01  8.66909799e-02  6.81436350e-01  7.61438050e-01\n",
      "   4.40156018e-01 -6.55218286e-02]\n",
      " [-2.66123456e-01 -7.91222602e-01  4.46922649e-01  4.25527971e-01\n",
      "  -1.45908366e-01  8.74973526e-02  6.80668685e-01  7.61159511e-01\n",
      "   4.37553455e-01 -6.74686308e-02]\n",
      " [-2.72214352e-01 -7.88761760e-01  4.47806149e-01  4.58072383e-01\n",
      "  -1.46525407e-01  8.97216388e-02  6.79770419e-01  7.61327857e-01\n",
      "   4.37349558e-01 -6.97798508e-02]\n",
      " [-2.73029138e-01 -7.88966004e-01  4.46742775e-01  5.39310216e-01\n",
      "  -1.49194829e-01  8.94921418e-02  6.80107218e-01  7.61427928e-01\n",
      "   4.41249663e-01 -6.88993423e-02]\n",
      " [-2.73582952e-01 -7.87677543e-01  4.46391755e-01  5.53652220e-01\n",
      "  -1.46687379e-01  8.96333235e-02  6.80273990e-01  7.60936588e-01\n",
      "   4.39794410e-01 -6.87551627e-02]\n",
      " [-2.72562137e-01 -7.87087904e-01  4.45429099e-01  5.67050004e-01\n",
      "  -1.45412583e-01  9.05451284e-02  6.80063435e-01  7.60852793e-01\n",
      "   4.40584618e-01 -6.90548800e-02]]\n"
     ]
    }
   ],
   "source": [
    "### Learning Curve Implementation\n",
    "# https://www.dataquest.io/blog/learning-curves-machine-learning/\n",
    "\n",
    "# Models have two error scores to monitor: one for the validation set, and one for the training sets. If we plot the \n",
    "# evolution of the two error scores as training sets change, we end up with two curves. These are called learning \n",
    "# curves. In a nutshell, a learning curve shows how error changes as the training set size increases.\n",
    "\n",
    "# Learning curves give us an opportunity to diagnose bias and variance in supervised learning models\n",
    "# learning_curve() to generate the data needed to plot a learning curve. The function returns a tuple containing \n",
    "# three elements: the training set sizes, and the error scores on both the validation sets and the training sets\n",
    "\n",
    "# Adding more training data points won’t lead to significantly better models. If the two curve converge adding more\n",
    "# data will not improve model performance - A more complex algortihm needs to be applied. Adding more features, \n",
    "# however, is a different thing and is very likely to help because it will increase the complexity of our current \n",
    "# model.\n",
    "\n",
    "# The main indicator of a bias problem is a high validation error. If the model fails to fit the training data well, \n",
    "# it means it has high bias with respect to that set of data.\n",
    "\n",
    "# A narrow gap between training and validation curves indicates low variance. If the variance is high, then the model \n",
    "# fits training data too well. High training MSE scores are also a quick way to detect low variance\n",
    "# Polynominal terms should lower the bias by increasing the model’s complexity. If we decrease regularization, \n",
    "# the model will fit training data better, and, as a consequence, the variance will increase and the bias will \n",
    "# decrease.\n",
    "\n",
    "# The large gap and the low training error also indicates an overfitting problem. Solve by increasing the \n",
    "# regularization or reducing the numbers of features\n",
    "\n",
    "# The best possible learning curves we can see are those which converge to the value of some irreducible error\n",
    "# For error metrics that describe how bad a model is e.g. MSE (smaller values equals better model), the irreducible \n",
    "# error gives a lower bound: you cannot get lower than that. For error metrics that describe how good a model is, \n",
    "# e.g. accuracy (higher values equals better model) the irreducible error gives an upper bound: you cannot get higher \n",
    "\n",
    "# For classification the workflow is almost identical. The main difference is that we’ll have to choose another \n",
    "# error metric\n",
    "train_sizes = [2, \n",
    "               math.floor(0.1*len(baseline_data)),\n",
    "               math.floor(0.2*len(baseline_data)),\n",
    "               math.floor(0.3*len(baseline_data)),\n",
    "               math.floor(0.4*len(baseline_data)),\n",
    "               math.floor(0.5*len(baseline_data)),\n",
    "               math.floor(0.6*len(baseline_data)),\n",
    "               math.floor(0.7*len(baseline_data)),\n",
    "               math.floor(0.8*len(baseline_data))] # Not advised to go over 80% so sensible proportion of data retained for validation\n",
    "\n",
    "\n",
    "features = ['Precip',  'Snowfall', 'YR', 'MO', 'DA', 'MIN', 'ELEV', 'Normal_Noise', 'Log_Normal_Noise']\n",
    "target = 'MAX'\n",
    "\n",
    "train_sizes, train_scores, validation_scores = learning_curve(estimator = LinearRegression(),\n",
    "                                                              X = baseline_data[features].dropna(how='all'),\n",
    "                                                              y = baseline_data[target], \n",
    "                                                              train_sizes = train_sizes, \n",
    "                                                              cv = 10,\n",
    "                                                              scoring = 'r2',\n",
    "                                                              shuffle = True)\n",
    "\n",
    "print('Training scores:\\n\\n', train_scores)\n",
    "print('\\n', '-' * 70) # separator to make the output easy to read\n",
    "print('\\nValidation scores:\\n\\n', validation_scores)"
   ]
  },
  {
   "cell_type": "code",
   "execution_count": 365,
   "metadata": {},
   "outputs": [
    {
     "name": "stdout",
     "output_type": "stream",
     "text": [
      "Mean training scores\n",
      "\n",
      " 2       -1.000000\n",
      "11502   -0.781985\n",
      "23004   -0.782992\n",
      "34506   -0.782382\n",
      "46008   -0.781370\n",
      "57511   -0.781435\n",
      "69013   -0.781098\n",
      "80515   -0.780709\n",
      "92017   -0.780906\n",
      "dtype: float64\n",
      "\n",
      " --------------------\n",
      "\n",
      "Mean validation scores\n",
      "\n",
      " 2        17.214530\n",
      "11502    -0.171370\n",
      "23004    -0.163411\n",
      "34506    -0.158600\n",
      "46008    -0.156861\n",
      "57511    -0.159677\n",
      "69013    -0.167824\n",
      "80515    -0.169398\n",
      "92017    -0.171041\n",
      "dtype: float64\n"
     ]
    }
   ],
   "source": [
    "train_scores_mean = -train_scores.mean(axis = 1)\n",
    "validation_scores_mean = -validation_scores.mean(axis = 1)\n",
    "print('Mean training scores\\n\\n', pd.Series(train_scores_mean, index = train_sizes))\n",
    "print('\\n', '-' * 20) # separator\n",
    "print('\\nMean validation scores\\n\\n',pd.Series(validation_scores_mean, index = train_sizes))"
   ]
  },
  {
   "cell_type": "code",
   "execution_count": 366,
   "metadata": {},
   "outputs": [
    {
     "data": {
      "text/plain": [
       "(-1.0, 2.0)"
      ]
     },
     "execution_count": 366,
     "metadata": {},
     "output_type": "execute_result"
    },
    {
     "data": {
      "image/png": "[encoded data removed]",
      "text/plain": [
       "<Figure size 800x550 with 1 Axes>"
      ]
     },
     "metadata": {},
     "output_type": "display_data"
    }
   ],
   "source": [
    "plt.style.use('seaborn')\n",
    "plt.plot(train_sizes, train_scores_mean, label = 'Training error')\n",
    "plt.plot(train_sizes, validation_scores_mean, label = 'Validation error')\n",
    "plt.ylabel('MSE', fontsize = 14)\n",
    "plt.xlabel('Training set size', fontsize = 14)\n",
    "plt.title('Learning curves for a linear regression model', fontsize = 18, y = 1.03)\n",
    "plt.legend()\n",
    "plt.ylim(-1,2)"
   ]
  },
  {
   "cell_type": "code",
   "execution_count": null,
   "metadata": {},
   "outputs": [],
   "source": []
  }
 ],
 "metadata": {
  "kernelspec": {
   "display_name": "Python 3",
   "language": "python",
   "name": "python3"
  },
  "language_info": {
   "codemirror_mode": {
    "name": "ipython",
    "version": 3
   },
   "file_extension": ".py",
   "mimetype": "text/x-python",
   "name": "python",
   "nbconvert_exporter": "python",
   "pygments_lexer": "ipython3",
   "version": "3.6.5"
  }
 },
 "nbformat": 4,
 "nbformat_minor": 4
}
