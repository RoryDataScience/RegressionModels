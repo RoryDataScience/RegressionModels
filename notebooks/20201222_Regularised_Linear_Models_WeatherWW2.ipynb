{
 "cells": [
  {
   "cell_type": "markdown",
   "metadata": {},
   "source": [
    "**Project Start Date** <br>\n",
    "17th December 2020 <br>\n",
    "Time to Run: <br>\n",
    "\n",
    "**Data Sources** <br>\n",
    "https://www.kaggle.com/usaf/world-war-ii/notebooks <br> \n",
    "https://www.kaggle.com/smid80/weatherww2/data <br>\n",
    "\n",
    "**Background** <br>\n",
    "Aerial Bombing Operations in WW2 - Bombing operations data <br>\n",
    "\n",
    "This dataset consists of digitized paper mission reports from WWII. Each record includes the date, conflict, geographic location, and other data elements to form a live-action sequence of air warfare from 1939 to 1945. The records include U.S. and Royal Air Force data, in addition to some Australian, New Zealand and South African air force missions.\n",
    "\n",
    "Weather Conditions in WW2 (Weather Stations / Weather Conditions) <br>\n",
    "The dataset contains information on weather conditions recorded on each day at various weather stations around the world. Information includes precipitation, snowfall, temperatures, wind speed and whether the day included thunder storms or other poor weather conditions.\n",
    "\n",
    "**Aim of this project** <br>\n",
    "Use Sweetviz - A powerful package to speed up EDA, saving reports as HTML files and with the ability to compare test and train datasets \n",
    "Impletment the use of Ridge Plots as part of EDA to understand variabe distribution analysis \n",
    "One method of Outlier Detection & Analysis\n",
    "Implement a regularised regression models that predicts the maximum weather temperature (based on the minimum temperature)\n",
    "Test Assumptions of Regularised & Residual Analysis: Correlation of errors with predictor variables\n",
    "Dockerise the notebook\n",
    "\n",
    "\n",
    "**Analysis regarding Data Quality** <br>\n",
    "Understanding of the sampling procedure \n",
    "- Since our project team did not participate in planning the study or data collection, it is possible that we are missing crucial context which could render our conclusions invalid. <br>\n",
    "\n",
    "Potential biases <br> \n",
    "Real-world actions that generated the data you inherited <br>\n",
    "\n",
    "**Objectives & Hypothesises to Test (max. 10)** <br>\n",
    "<u>Exploratory Analysis</u>\n",
    "- High level discriptive statistics [x]\n",
    "- Do any values look to be recorded to accommodate missing values? e.g. 999, 9999 etc. [x]\n",
    "- Assessment of feature distributions & Scaling required [x]\n",
    "    - Keep in mind that normalizing the inputs is generally a good idea in every type of regression\n",
    "- Assessment of outliers and treatment\n",
    "- Assessment of feature relationships [x]\n",
    "    - What defines the feature 'poor weather' conditions? [x]\n",
    "    - Is there a relationship between the daily minimum and maximum temperature (TimeSeries Analysis)? [x]\n",
    "    - It is expected that average temperatures are colder in winter months than summer months [x]\n",
    "    - It is expected that more snowfall occurs in the winter months (for northern hemisphere regions) [x]\n",
    "    - It is expected that more Precipitation occurs in the winter months (for northern hemisphere) [x]\n",
    "    - It is expected that lower temperatures correlate with higher snowfall and precipation [x]\n",
    "    - It is expected that higher levels above the sea have greater precipation [x]\n",
    "    - It is expected that the accuracy of recordings based on stations may not be uniform (outlier detection) [x]\n",
    "    - Explore the meaning of 'PoorWeather' [x]\n",
    "<br>\n",
    "\n",
    "**Statistical Model/Machine Learning Applications** <br>\n",
    "<br>\n",
    "<u>Model Development Process</u>\n",
    "- Create a Baseline (dummy) model (Predict the average maximum temperature) [x]\n",
    "- Explain the train/test split [x]\n",
    "- Application of Cross Validation [x]\n",
    "- Predict the maximum temperature given the minimum temperature (Regularised Models) [x]\n",
    "- Feature Selection/Importance (implicity given as the output of the model) [x]\n",
    "- Explain appropriate error metric [x]\n",
    "- Explain what features are developed and transformations applied [x]\n",
    "- Explain if the model is exhibiting high bias or high variance and how this can be improved\n",
    "    - Plot learning curves to deduce high bias/high variance and conclude what means could be applied to solve these issues\n",
    "- Explain where the model seems to perform poorly - In what situations does the model make mistakes?\n",
    "\n",
    "**Additional Learning notes from Reviewing 3 other Kaggle Notebooks** <br> \n",
    "- To much analysis before initial model development. Goal: Create up to 5 pieces of analysis then start model development\n",
    "\n",
    "**Next steps** <br>\n",
    "- Analysis of influencial data points\n",
    "- Return p_value, std_err for the model results \n",
    "- Incorporate the aerial_bombing_data into the model\n",
    "- Use latitude and longitude to impute \"eval\" rather than removing respective rows (similarity to impute values)\n",
    "- Assess is using the fahrenheit variable as the target improves model performance \n",
    "- Geo-Spatial Data Features (Latitude & Longitude): Converting geolocation data into zones\n",
    "- Drop the intercept: One important issue in case of both ridge and lasso regression is intercept handling. Generally, regularizing the intercept is not a good idea and it should be left out of regularization\n",
    "\n",
    "\n",
    "**References** <br>\n",
    "https://www.analyticsvidhya.com/blog/2016/01/ridge-lasso-regression-python-complete-tutorial/ <br>\n",
    "https://towardsdatascience.com/feature-engineering-combination-polynomial-features-3caa4c77a755"
   ]
  },
  {
   "cell_type": "code",
   "execution_count": 2,
   "metadata": {},
   "outputs": [],
   "source": [
    "import warnings\n",
    "warnings.filterwarnings('ignore')\n",
    "\n",
    "# Package Requirements\n",
    "import os\n",
    "import sys\n",
    "# !{sys.executable} -m pip install markdown\n",
    "# !{sys.executable} -m pip install sweetviz\n",
    "# !{sys.executable} -m pip install joypy"
   ]
  },
  {
   "cell_type": "code",
   "execution_count": 3,
   "metadata": {},
   "outputs": [
    {
     "name": "stderr",
     "output_type": "stream",
     "text": [
      "\n",
      "Bad key text.latex.unicode in file /anaconda3/lib/python3.6/site-packages/matplotlib/mpl-data/stylelib/_classic_test.mplstyle, line 112 ('text.latex.unicode : False # use \"ucs\" and \"inputenc\" LaTeX packages for handling')\n",
      "You probably need to get an updated matplotlibrc file from\n",
      "https://github.com/matplotlib/matplotlib/blob/v3.3.2/matplotlibrc.template\n",
      "or from the matplotlib source distribution\n",
      "\n",
      "Bad key savefig.frameon in file /anaconda3/lib/python3.6/site-packages/matplotlib/mpl-data/stylelib/_classic_test.mplstyle, line 423 ('savefig.frameon : True')\n",
      "You probably need to get an updated matplotlibrc file from\n",
      "https://github.com/matplotlib/matplotlib/blob/v3.3.2/matplotlibrc.template\n",
      "or from the matplotlib source distribution\n",
      "\n",
      "Bad key nbagg.transparent in file /anaconda3/lib/python3.6/site-packages/matplotlib/mpl-data/stylelib/_classic_test.mplstyle, line 426 ('nbagg.transparent: True')\n",
      "You probably need to get an updated matplotlibrc file from\n",
      "https://github.com/matplotlib/matplotlib/blob/v3.3.2/matplotlibrc.template\n",
      "or from the matplotlib source distribution\n",
      "\n",
      "Bad key pgf.debug in file /anaconda3/lib/python3.6/site-packages/matplotlib/mpl-data/stylelib/_classic_test.mplstyle, line 446 ('pgf.debug           : False')\n",
      "You probably need to get an updated matplotlibrc file from\n",
      "https://github.com/matplotlib/matplotlib/blob/v3.3.2/matplotlibrc.template\n",
      "or from the matplotlib source distribution\n",
      "\n",
      "Bad key verbose.level in file /anaconda3/lib/python3.6/site-packages/matplotlib/mpl-data/stylelib/_classic_test.mplstyle, line 477 ('verbose.level  : silent      # one of silent, helpful, debug, debug-annoying')\n",
      "You probably need to get an updated matplotlibrc file from\n",
      "https://github.com/matplotlib/matplotlib/blob/v3.3.2/matplotlibrc.template\n",
      "or from the matplotlib source distribution\n",
      "\n",
      "Bad key verbose.fileo in file /anaconda3/lib/python3.6/site-packages/matplotlib/mpl-data/stylelib/_classic_test.mplstyle, line 478 ('verbose.fileo  : sys.stdout  # a log filename, sys.stdout or sys.stderr')\n",
      "You probably need to get an updated matplotlibrc file from\n",
      "https://github.com/matplotlib/matplotlib/blob/v3.3.2/matplotlibrc.template\n",
      "or from the matplotlib source distribution\n",
      "\n",
      "Bad key animation.mencoder_path in file /anaconda3/lib/python3.6/site-packages/matplotlib/mpl-data/stylelib/_classic_test.mplstyle, line 509 ('animation.mencoder_path: mencoder')\n",
      "You probably need to get an updated matplotlibrc file from\n",
      "https://github.com/matplotlib/matplotlib/blob/v3.3.2/matplotlibrc.template\n",
      "or from the matplotlib source distribution\n",
      "\n",
      "Bad key animation.mencoder_args in file /anaconda3/lib/python3.6/site-packages/matplotlib/mpl-data/stylelib/_classic_test.mplstyle, line 512 ('animation.mencoder_args:          # Additional arguments to pass to mencoder')\n",
      "You probably need to get an updated matplotlibrc file from\n",
      "https://github.com/matplotlib/matplotlib/blob/v3.3.2/matplotlibrc.template\n",
      "or from the matplotlib source distribution\n"
     ]
    }
   ],
   "source": [
    "# Data Wrangling\n",
    "import pandas as pd\n",
    "import numpy as np\n",
    "import datetime \n",
    "\n",
    "# Data Exploration and Visualisation\n",
    "import seaborn as sns\n",
    "import matplotlib.pyplot as plt\n",
    "import sweetviz as sv\n",
    "import joypy"
   ]
  },
  {
   "cell_type": "code",
   "execution_count": 4,
   "metadata": {},
   "outputs": [
    {
     "data": {
      "text/plain": [
       "'/Users/Rej1992/Documents/GitHub/RegressionModels/notebooks'"
      ]
     },
     "execution_count": 4,
     "metadata": {},
     "output_type": "execute_result"
    }
   ],
   "source": [
    "os.getcwd()"
   ]
  },
  {
   "cell_type": "code",
   "execution_count": 5,
   "metadata": {},
   "outputs": [],
   "source": [
    "aerial_bombing_data = pd.read_csv('/Users/Rej1992/Documents/GitHub/RegressionModels/data/01_raw/ww2_boming_operations.csv')\n",
    "weather_summary = pd.read_csv('/Users/Rej1992/Documents/GitHub/RegressionModels/data/01_raw/WeatherTempPrediction.csv')\n",
    "weather_station_location = pd.read_csv('/Users/Rej1992/Documents/GitHub/RegressionModels/data/01_raw/WeatherStationLocations.csv')\n",
    "\n",
    "data_list = []\n",
    "data_list.append(aerial_bombing_data)\n",
    "data_list.append(weather_summary)\n",
    "data_list.append(weather_station_location)"
   ]
  },
  {
   "cell_type": "code",
   "execution_count": 6,
   "metadata": {},
   "outputs": [],
   "source": [
    "# State the assumptions you’re being forced to make.\n",
    "# Write up caveat notes to be included in the appendix of your final report\n",
    "# Write cautionary notes that warn the decision-maker (and your other readers) that conclusions from the study will \n",
    "# need to be downgraded due to potential data issues"
   ]
  },
  {
   "cell_type": "code",
   "execution_count": 7,
   "metadata": {},
   "outputs": [
    {
     "name": "stdout",
     "output_type": "stream",
     "text": [
      "Dataframe Dimensions\n",
      "(178281, 46)\n",
      "\n",
      "Dataframe Columns and respective types\n",
      "Mission ID                                 int64\n",
      "Mission Date                              object\n",
      "Theater of Operations                     object\n",
      "Country                                   object\n",
      "Air Force                                 object\n",
      "Unit ID                                   object\n",
      "Aircraft Series                           object\n",
      "Callsign                                  object\n",
      "Mission Type                              object\n",
      "Takeoff Base                              object\n",
      "Takeoff Location                          object\n",
      "Takeoff Latitude                          object\n",
      "Takeoff Longitude                        float64\n",
      "Target ID                                 object\n",
      "Target Country                            object\n",
      "Target City                               object\n",
      "Target Type                               object\n",
      "Target Industry                           object\n",
      "Target Priority                           object\n",
      "Target Latitude                          float64\n",
      "Target Longitude                         float64\n",
      "Altitude (Hundreds of Feet)              float64\n",
      "Airborne Aircraft                        float64\n",
      "Attacking Aircraft                       float64\n",
      "Bombing Aircraft                         float64\n",
      "Aircraft Returned                        float64\n",
      "Aircraft Failed                          float64\n",
      "Aircraft Damaged                         float64\n",
      "Aircraft Lost                            float64\n",
      "High Explosives                          float64\n",
      "High Explosives Type                      object\n",
      "High Explosives Weight (Pounds)           object\n",
      "High Explosives Weight (Tons)            float64\n",
      "Incendiary Devices                       float64\n",
      "Incendiary Devices Type                   object\n",
      "Incendiary Devices Weight (Pounds)       float64\n",
      "Incendiary Devices Weight (Tons)         float64\n",
      "Fragmentation Devices                    float64\n",
      "Fragmentation Devices Type                object\n",
      "Fragmentation Devices Weight (Pounds)    float64\n",
      "Fragmentation Devices Weight (Tons)      float64\n",
      "Total Weight (Pounds)                    float64\n",
      "Total Weight (Tons)                      float64\n",
      "Time Over Target                          object\n",
      "Bomb Damage Assessment                    object\n",
      "Source ID                                float64\n",
      "dtype: object\n",
      "\n",
      "Percentage of Missing Data\n",
      "Mission ID                                0.000000\n",
      "Mission Date                              0.000000\n",
      "Theater of Operations                     1.771361\n",
      "Country                                  29.047964\n",
      "Air Force                                29.076009\n",
      "Unit ID                                  71.442274\n",
      "Aircraft Series                           0.065066\n",
      "Callsign                                 99.988221\n",
      "Mission Type                             73.532794\n",
      "Takeoff Base                             98.102434\n",
      "Takeoff Location                         98.127675\n",
      "Takeoff Latitude                         98.327921\n",
      "Takeoff Longitude                        98.328481\n",
      "Target ID                                28.536412\n",
      "Target Country                            0.335986\n",
      "Target City                               1.269344\n",
      "Target Type                              17.899271\n",
      "Target Industry                          29.056377\n",
      "Target Priority                          24.433899\n",
      "Target Latitude                           4.888911\n",
      "Target Longitude                          4.901251\n",
      "Altitude (Hundreds of Feet)              32.227214\n",
      "Airborne Aircraft                        53.869453\n",
      "Attacking Aircraft                       29.825388\n",
      "Bombing Aircraft                         54.222828\n",
      "Aircraft Returned                        99.925399\n",
      "Aircraft Failed                          99.861455\n",
      "Aircraft Damaged                         99.978685\n",
      "Aircraft Lost                            99.911376\n",
      "High Explosives                          80.515591\n",
      "High Explosives Type                     76.472535\n",
      "High Explosives Weight (Pounds)          98.866396\n",
      "High Explosives Weight (Tons)            17.994066\n",
      "Incendiary Devices                       98.158525\n",
      "Incendiary Devices Type                  96.904325\n",
      "Incendiary Devices Weight (Pounds)       99.800315\n",
      "Incendiary Devices Weight (Tons)         85.566606\n",
      "Fragmentation Devices                    96.764658\n",
      "Fragmentation Devices Type               96.766341\n",
      "Fragmentation Devices Weight (Pounds)    99.891183\n",
      "Fragmentation Devices Weight (Tons)      90.519461\n",
      "Total Weight (Pounds)                    98.811427\n",
      "Total Weight (Tons)                       6.603620\n",
      "Time Over Target                         99.613531\n",
      "Bomb Damage Assessment                   99.941665\n",
      "Source ID                                 2.268890\n",
      "dtype: float64\n",
      "\n",
      "Dataframe Dimensions\n",
      "(119040, 31)\n",
      "\n",
      "Dataframe Columns and respective types\n",
      "STA              int64\n",
      "Date            object\n",
      "Precip          object\n",
      "WindGustSpd    float64\n",
      "MaxTemp        float64\n",
      "MinTemp        float64\n",
      "MeanTemp       float64\n",
      "Snowfall        object\n",
      "PoorWeather     object\n",
      "YR               int64\n",
      "MO               int64\n",
      "DA               int64\n",
      "PRCP            object\n",
      "DR             float64\n",
      "SPD            float64\n",
      "MAX            float64\n",
      "MIN            float64\n",
      "MEA            float64\n",
      "SNF             object\n",
      "SND            float64\n",
      "FT             float64\n",
      "FB             float64\n",
      "FTI            float64\n",
      "ITH            float64\n",
      "PGT            float64\n",
      "TSHDSBRSGF      object\n",
      "SD3            float64\n",
      "RHX            float64\n",
      "RHN            float64\n",
      "RVG            float64\n",
      "WTE            float64\n",
      "dtype: object\n",
      "\n",
      "Percentage of Missing Data\n",
      "STA              0.000000\n",
      "Date             0.000000\n",
      "Precip           0.000000\n",
      "WindGustSpd     99.553091\n",
      "MaxTemp          0.000000\n",
      "MinTemp          0.000000\n",
      "MeanTemp         0.000000\n",
      "Snowfall         0.976983\n",
      "PoorWeather     71.239079\n",
      "YR               0.000000\n",
      "MO               0.000000\n",
      "DA               0.000000\n",
      "PRCP             1.622984\n",
      "DR              99.552251\n",
      "SPD             99.553091\n",
      "MAX              0.398185\n",
      "MIN              0.393145\n",
      "MEA              0.418347\n",
      "SNF              0.976983\n",
      "SND             95.326781\n",
      "FT             100.000000\n",
      "FB             100.000000\n",
      "FTI            100.000000\n",
      "ITH            100.000000\n",
      "PGT             99.558972\n",
      "TSHDSBRSGF      71.239079\n",
      "SD3            100.000000\n",
      "RHX            100.000000\n",
      "RHN            100.000000\n",
      "RVG            100.000000\n",
      "WTE            100.000000\n",
      "dtype: float64\n",
      "\n",
      "Dataframe Dimensions\n",
      "(161, 8)\n",
      "\n",
      "Dataframe Columns and respective types\n",
      "WBAN                  int64\n",
      "NAME                 object\n",
      "STATE/COUNTRY ID     object\n",
      "LAT                  object\n",
      "LON                  object\n",
      "ELEV                  int64\n",
      "Latitude            float64\n",
      "Longitude           float64\n",
      "dtype: object\n",
      "\n",
      "Percentage of Missing Data\n",
      "WBAN                0.0\n",
      "NAME                0.0\n",
      "STATE/COUNTRY ID    0.0\n",
      "LAT                 0.0\n",
      "LON                 0.0\n",
      "ELEV                0.0\n",
      "Latitude            0.0\n",
      "Longitude           0.0\n",
      "dtype: float64\n",
      "\n"
     ]
    }
   ],
   "source": [
    "for i in data_list:\n",
    "    print(\"Dataframe Dimensions\")\n",
    "    print(i.shape)\n",
    "    print(\"\")\n",
    "\n",
    "    print(\"Dataframe Columns and respective types\")\n",
    "    print(i.dtypes)\n",
    "    print(\"\")\n",
    "\n",
    "    print(\"Percentage of Missing Data\")\n",
    "    print(i.isnull().sum() * 100 / len(i))\n",
    "    \n",
    "    print(\"\")"
   ]
  },
  {
   "cell_type": "markdown",
   "metadata": {},
   "source": [
    "## Data Analysis"
   ]
  },
  {
   "cell_type": "code",
   "execution_count": 8,
   "metadata": {},
   "outputs": [
    {
     "name": "stdout",
     "output_type": "stream",
     "text": [
      "159\n",
      "161\n",
      "Sets are of the same data type:  True\n",
      "Stations that are uncommon across both sets:  [15605, 15604]\n"
     ]
    }
   ],
   "source": [
    "# Investiage options to link the dataframes with a unique key: weather_summary and weather_station_location look to be \n",
    "# connected via STA and WBAN respectively \n",
    "def uncommon_elements(list1, list2):\n",
    "    ## Add something clever so the look up is always against the set with the largest number of unique records\n",
    "    #list2 = max(len(list1), list(2))\n",
    "    \n",
    "    return [element for element in list2 if element not in list1]\n",
    "\n",
    "STA = set(weather_summary.STA)\n",
    "print(len(STA))\n",
    "\n",
    "WBAN = set(weather_station_location.WBAN)\n",
    "print(len(WBAN))\n",
    "\n",
    "print('Sets are of the same data type: ', type(weather_summary.STA) == type(weather_station_location.WBAN))\n",
    "\n",
    "print('Stations that are uncommon across both sets: ', uncommon_elements(STA, WBAN))"
   ]
  },
  {
   "cell_type": "code",
   "execution_count": 9,
   "metadata": {},
   "outputs": [
    {
     "name": "stdout",
     "output_type": "stream",
     "text": [
      "119040\n"
     ]
    }
   ],
   "source": [
    "combined_data = pd.merge(weather_summary, \n",
    "                         weather_station_location, \n",
    "                         how = 'inner', # takes care of only keeping records in both sets\n",
    "                         left_on='STA',\n",
    "                         right_on='WBAN')\n",
    "\n",
    "print(len(combined_data))"
   ]
  },
  {
   "cell_type": "markdown",
   "metadata": {},
   "source": [
    "## Columns for Combined Data\n",
    "**STA**\n",
    "- STA: represent the Weather Station\n",
    "- Not all STA codes represent the same time frequency \n",
    "- Object Data Type\n",
    "\n",
    "**Date** \n",
    "- Date has been split into DA MO and YR respectively, note the century has been dropped when recording the YR\n",
    "- Date Data Type (will require engineering in order to be used for ML\n",
    "\n",
    "**Precip** \n",
    "- Precipitation in mm. This consists of numerical values and 'T' for 16,754 entries. This looks to be a mistake in the data collection (Impute precip == 0 for these cases)\n",
    "- Numeric (float) Data Type\n",
    "\n",
    "**MaxTemp and MinTemp** \n",
    "- These are features that have been transformed into celcius from fahrenheit readings MAX/MIN and these have been recorded to 6 decimal places. The degrees celcius value has additionally been converted to an average. Using celcius will have a smaller range than the fahrenheit records. Patterns may be more easily seen based fahrenheit columns \n",
    "- Numeric (float) Data Type\n",
    "\n",
    "**MEA** \n",
    "- This is the mean for the fahrenheit MAX / MIN columns and this has been rounded to 1 d.p. Drop this columns and calculate the extact mean value\n",
    "- Numeric (float) Data Type\n",
    "\n",
    "**Snowfall**\n",
    "- This looks to be measures in terms of the amount of snow that fell in mm. The units are not obvious so there are two options\n",
    "- Either assume the units are centiments by attempting to research more about the data OR normalise all the columns so they are on the same scale\n",
    "- Numeric (float) Data Type\n",
    "\n",
    "**SNF**\n",
    "- After research it is unclear what SNF relates too and seems to gave a range of 0 - 3.4 (Agree to remove)\n",
    "- This supports the necessity to normalise the data for the numeric columns due to the possibility of differing units across columns\n",
    "- Numeric (float) Data Type\n",
    "\n",
    "**PRCP**\n",
    "- This column looks to have been scaled by a factor of 1/25.4*Precip (Agree to remove)\n",
    "- Numeric (float) Data Type\n",
    "\n",
    "**TSHDSBRSGF**\n",
    "- This is a repeat for PoorWeather so can be removed\n",
    "\n",
    "**WBAN**\n",
    "- Same as STA, representing the Weather Station\n",
    "- Not all Weather Stations are located in the USA (unique STATE/COUNTRY ID = 63)\n",
    "- This will be duplicated due to the merge so can be removed \n",
    "- Object Data Type\n",
    "\n",
    "**NAME**\n",
    "- This is the name of the weather station. It has a many:1 relationship with State/Country ID i.e. more than one station can be present per country \n",
    "- Object Data Type (Nominal)\n",
    "\n",
    "**STATE/COUNTRY ID**\n",
    "- This is the location of the weather station at state/country level\n",
    "- Object Data Type (Nominal)\n",
    "\n",
    "**LAT**\n",
    "- This is the decimal latitude in string format \n",
    "\n",
    "**LON**\n",
    "- This is the decimal latitude in string format \n",
    "\n",
    "**ELEV**\n",
    "- Explanation not given - Expected to be level above the sea \n",
    "- Note that an elevation of 9999 means unknown\n",
    "- Numeric (float) Data Type\n",
    "\n",
    "**Latitude**\n",
    "- This is the decimal latitude calculated from the LAT/LON provided (use this over string as in format for ML)\n",
    "\n",
    "**Longitude**\n",
    "- This is the decimal longitude calculated from the LAT/LON provided (use this over string as in format for ML)"
   ]
  },
  {
   "cell_type": "markdown",
   "metadata": {},
   "source": [
    "### Data Cleaning - Remove duplicate Rows & Columns\n",
    "- Remove all columns that exhibit over 90% missing values\n",
    "- Remove celcius columns 'MaxTemp', 'MinTemp', 'MeanTemp' and 'MEA'\n",
    "- Remove duplicated/scaled columns: 'PRCP', 'TSHDSBRSGF'\n",
    "- Remove the primary key to join dataframes SNF & WBAN\n",
    "- Remove LAT as string format\n",
    "- Remove LON as string format\n",
    "- Remove those columns with zero variance\n",
    "- Remove duplicated rows"
   ]
  },
  {
   "cell_type": "code",
   "execution_count": 10,
   "metadata": {},
   "outputs": [
    {
     "name": "stdout",
     "output_type": "stream",
     "text": [
      "Duplicated rows for index:  Int64Index([94660, 94661, 94662, 94663, 94664, 94665, 94666, 94667, 94668,\n",
      "            94669],\n",
      "           dtype='int64')\n"
     ]
    }
   ],
   "source": [
    "# Handling missing data - Remove any columns with over 90% missing data \n",
    "def remove_missing_values(data, thresold_limit = 0.9):\n",
    "    \n",
    "    return data.loc[:, data.isnull().sum() < thresold_limit*data.shape[0]]\n",
    "\n",
    "combined_data = remove_missing_values(combined_data)\n",
    "\n",
    "# Remove additional columns based on explanation above\n",
    "combined_data.drop(['MaxTemp', \n",
    "                    'MinTemp', \n",
    "                    'MeanTemp', \n",
    "                    'MEA', \n",
    "                    'TSHDSBRSGF', \n",
    "                    'PRCP', \n",
    "                    #'PoorWeather', \n",
    "                    'SNF', \n",
    "                    'WBAN',\n",
    "                    'LAT', \n",
    "                    'LON'], axis=1, inplace=True)\n",
    "\n",
    "# Data Quality Expectations: Test for zero variance \n",
    "combined_data = combined_data.loc[:, combined_data.apply(pd.Series.nunique) != 1]\n",
    "\n",
    "# Data Quality Expectations: Duplicated Records\n",
    "print('Duplicated rows for index: ', combined_data[combined_data.duplicated()].index)\n",
    "#print(len(combined_data))\n",
    "combined_data = combined_data.drop_duplicates()\n",
    "#print(len(combined_data))"
   ]
  },
  {
   "cell_type": "markdown",
   "metadata": {},
   "source": [
    "## Data Cleaning\n",
    "- Understand and update data to correct type [x]\n",
    "- Check that variables are within a range expected [x]\n",
    "- Assessment of categorical labels and confirm they are as expected [x]\n",
    "- Evaluate where missing data exists and how to deal with these fields [x]\n",
    "    - Do any values look to be recorded to accommodate missing values? e.g. 999, 9999 etc. [x]\n",
    "- Data represents logical coherence (e.g. underaged cannot hold a driving licence) [x]\n",
    "- Reformatting: Drop/Rename columns [x]"
   ]
  },
  {
   "cell_type": "markdown",
   "metadata": {},
   "source": [
    "### Correct Data Types"
   ]
  },
  {
   "cell_type": "code",
   "execution_count": 11,
   "metadata": {},
   "outputs": [],
   "source": [
    "# Correct Date\n",
    "def correct_dates(data, cols):\n",
    "    \n",
    "    return pd.to_datetime(combined_data[cols], format = '%Y-%m-%d')\n",
    "\n",
    "# Correct Object Types\n",
    "def correct_objects(data, cols):\n",
    "    \n",
    "    return data[cols].astype('object')\n",
    "\n",
    "# Correct String Types\n",
    "def correct_string(data, cols):\n",
    "    \n",
    "    return data[cols].astype(str)\n",
    "\n",
    "combined_data.Date = correct_dates(combined_data, 'Date')\n",
    "\n",
    "combined_data.STA = correct_objects(combined_data, 'STA')\n",
    "combined_data.YR = correct_objects(combined_data, 'YR')\n",
    "combined_data.MO = correct_objects(combined_data, 'MO')\n",
    "combined_data.DA = correct_objects(combined_data, 'DA')\n",
    "\n",
    "combined_data.Snowfall = correct_string(combined_data, 'Snowfall')\n",
    "combined_data.PoorWeather = correct_string(combined_data, 'PoorWeather')"
   ]
  },
  {
   "cell_type": "markdown",
   "metadata": {},
   "source": [
    "### Imputation of Missing Values"
   ]
  },
  {
   "cell_type": "code",
   "execution_count": 12,
   "metadata": {},
   "outputs": [],
   "source": [
    "# Deal with Missing/Inaccurate values and correct data types \n",
    "def impute_precip_missing_values(data, cols):\n",
    "    \n",
    "    return np.where((data[cols] == 'T') | (data[cols] == ' '), 0, data[cols])\n",
    "\n",
    "def impute_snowfall_missing_values(data, cols):\n",
    "    \n",
    "    return np.where((data[cols] == '#VALUE!') | (data[cols] == 'nan'), 0, data[cols])\n",
    "\n",
    "\n",
    "# Correct float types\n",
    "def correct_floats(data, cols):\n",
    "    \n",
    "    return data[cols].astype('float')\n",
    "\n",
    "# As the target variable contains 4% missing values remove these to avoid inaccurate assumptions\n",
    "def remove_missing_max(data):\n",
    "    \n",
    "    return data[data.loc[:, 'MAX'].notnull()]\n",
    "\n",
    "def remove_missing_min(data):\n",
    "    \n",
    "    return data[data.loc[:, 'MIN'].notnull()]\n",
    "\n",
    "combined_data.Precip = impute_precip_missing_values(combined_data, 'Precip')\n",
    "combined_data.Precip = correct_floats(combined_data, 'Precip')\n",
    "\n",
    "combined_data.Snowfall = impute_snowfall_missing_values(combined_data, 'Snowfall')\n",
    "combined_data.Snowfall = correct_floats(combined_data, 'Snowfall')\n",
    "\n",
    "combined_data = remove_missing_max(combined_data)\n",
    "combined_data = remove_missing_min(combined_data)"
   ]
  },
  {
   "cell_type": "code",
   "execution_count": 13,
   "metadata": {},
   "outputs": [
    {
     "name": "stdout",
     "output_type": "stream",
     "text": [
      "Empty DataFrame\n",
      "Columns: [STA, Date, Precip, Snowfall, PoorWeather, YR, MO, DA, MAX, MIN, NAME, STATE/COUNTRY ID, ELEV, Latitude, Longitude]\n",
      "Index: []\n",
      "Empty DataFrame\n",
      "Columns: [STA, Date, Precip, Snowfall, PoorWeather, YR, MO, DA, MAX, MIN, NAME, STATE/COUNTRY ID, ELEV, Latitude, Longitude]\n",
      "Index: []\n",
      "STA                 0.0\n",
      "Date                0.0\n",
      "Precip              0.0\n",
      "Snowfall            0.0\n",
      "PoorWeather         0.0\n",
      "YR                  0.0\n",
      "MO                  0.0\n",
      "DA                  0.0\n",
      "MAX                 0.0\n",
      "MIN                 0.0\n",
      "NAME                0.0\n",
      "STATE/COUNTRY ID    0.0\n",
      "ELEV                0.0\n",
      "Latitude            0.0\n",
      "Longitude           0.0\n",
      "dtype: float64\n"
     ]
    }
   ],
   "source": [
    "# Verify that the above logic has been correctly applied \n",
    "print(combined_data[combined_data.loc[:, 'MAX'].isnull()])\n",
    "print(combined_data[combined_data.loc[:, 'MIN'].isnull()])\n",
    "print((combined_data.isnull().sum() * 100) / len(combined_data))"
   ]
  },
  {
   "cell_type": "code",
   "execution_count": 14,
   "metadata": {},
   "outputs": [
    {
     "name": "stdout",
     "output_type": "stream",
     "text": [
      "STA\n",
      "10001\n",
      "82506\n",
      "\n",
      "Date\n",
      "1940-01-01 00:00:00\n",
      "1945-12-31 00:00:00\n",
      "\n",
      "Precip\n",
      "0.0\n",
      "307.34\n",
      "\n",
      "Snowfall\n",
      "0.0\n",
      "86.36\n",
      "\n",
      "PoorWeather\n",
      "0\n",
      "nan\n",
      "\n",
      "YR\n",
      "40\n",
      "45\n",
      "\n",
      "MO\n",
      "1\n",
      "12\n",
      "\n",
      "DA\n",
      "1\n",
      "31\n",
      "\n",
      "MAX\n",
      "-28.0\n",
      "122.0\n",
      "\n",
      "MIN\n",
      "-37.0\n",
      "94.0\n",
      "\n",
      "NAME\n",
      "ABADAN\n",
      "WILLEMSTAD\n",
      "\n",
      "STATE/COUNTRY ID\n",
      "AL\n",
      "UK\n",
      "\n",
      "ELEV\n",
      "1\n",
      "9999\n",
      "\n",
      "Latitude\n",
      "-27.6\n",
      "67.01666667\n",
      "\n",
      "Longitude\n",
      "-175.0\n",
      "177.3666667\n",
      "\n"
     ]
    }
   ],
   "source": [
    "#Check that variables are within a range expected\n",
    "analysis_columns = combined_data.columns\n",
    "\n",
    "for i in analysis_columns:\n",
    "    print(i)\n",
    "    print(min(combined_data[i]))\n",
    "    print(max(combined_data[i]))\n",
    "    print(\"\"\"\"\"\")\n",
    "\n",
    "    \n",
    "## Precip - Contains letters and numeric values: Requires attention & cannot be negative \n",
    "## Snowfall - Contains #VALUE! and nan: Requires attention & cannot be negative\n",
    "## PoorWeather - Contains nan: Requires attention \n",
    "## ELEV - Contains 9999 which suggests a comprimise for missing data\n",
    "\n",
    "## STA - No reason to suggest dubious data\n",
    "## Date - No reason to suggest dubious data\n",
    "## YR - No reason to suggest dubious data & cannot be negative\n",
    "## MO - No reason to suggest dubious data & cannot be negative\n",
    "## DA - No reason to suggest dubious data & cannot be negative\n",
    "## MAX - No reason to suggest dubious data\n",
    "## MIN - No reason to suggest dubious data\n",
    "## NAME - No reason to suggest dubious data & Categorical Data OK\n",
    "## STATE/COUNTRY ID - No reason to suggest dubious data & Categorical Data OK\n",
    "## Latitude - No reason to suggest dubious data\n",
    "## Longitude - No reason to suggest dubious data"
   ]
  },
  {
   "cell_type": "markdown",
   "metadata": {},
   "source": [
    "#### Specific Assessment for ELEV"
   ]
  },
  {
   "cell_type": "code",
   "execution_count": 15,
   "metadata": {},
   "outputs": [
    {
     "name": "stdout",
     "output_type": "stream",
     "text": [
      "2.96 %\n"
     ]
    }
   ],
   "source": [
    "print(round(len(combined_data[combined_data.ELEV == 9999])/len(combined_data)*100,2),'%')"
   ]
  },
  {
   "cell_type": "code",
   "execution_count": 16,
   "metadata": {
    "scrolled": true
   },
   "outputs": [
    {
     "data": {
      "text/plain": [
       "STATE/COUNTRY ID\n",
       "LI    2868\n",
       "DR     629\n",
       "TS      13\n",
       "dtype: int64"
      ]
     },
     "execution_count": 16,
     "metadata": {},
     "output_type": "execute_result"
    }
   ],
   "source": [
    "combined_data[combined_data.ELEV == 9999].value_counts(\"STATE/COUNTRY ID\")"
   ]
  },
  {
   "cell_type": "code",
   "execution_count": 17,
   "metadata": {},
   "outputs": [
    {
     "data": {
      "text/plain": [
       "NAME\n",
       "MARSHALL/ROBERTS FIELD    1270\n",
       "CAPE PALMAS                935\n",
       "FISHERMANS LAKE            663\n",
       "CIUDAD TRUJILLO            629\n",
       "EL DJEM                     13\n",
       "dtype: int64"
      ]
     },
     "execution_count": 17,
     "metadata": {},
     "output_type": "execute_result"
    }
   ],
   "source": [
    "combined_data[combined_data.ELEV == 9999].value_counts(\"NAME\")"
   ]
  },
  {
   "cell_type": "code",
   "execution_count": 18,
   "metadata": {},
   "outputs": [
    {
     "name": "stdout",
     "output_type": "stream",
     "text": [
      "MARSHALL/ROBERTS FIELD\n",
      "[9999]\n",
      "\n",
      "CAPE PALMAS\n",
      "[9999]\n",
      "\n",
      "FISHERMANS LAKE\n",
      "[9999]\n",
      "\n",
      "CIUDAD TRUJILLO\n",
      "[9999]\n",
      "\n",
      "EL DJEM\n",
      "[9999]\n",
      "\n"
     ]
    }
   ],
   "source": [
    "missing_col_eval = ['MARSHALL/ROBERTS FIELD', 'CAPE PALMAS', 'FISHERMANS LAKE', 'CIUDAD TRUJILLO', 'EL DJEM']\n",
    "\n",
    "for i in missing_col_eval:\n",
    "    print(i)\n",
    "    print(combined_data[combined_data.NAME == i][\"ELEV\"].unique())\n",
    "    print(\"\"\"\"\"\")"
   ]
  },
  {
   "cell_type": "code",
   "execution_count": 19,
   "metadata": {},
   "outputs": [
    {
     "data": {
      "text/html": [
       "<div>\n",
       "<style scoped>\n",
       "    .dataframe tbody tr th:only-of-type {\n",
       "        vertical-align: middle;\n",
       "    }\n",
       "\n",
       "    .dataframe tbody tr th {\n",
       "        vertical-align: top;\n",
       "    }\n",
       "\n",
       "    .dataframe thead th {\n",
       "        text-align: right;\n",
       "    }\n",
       "</style>\n",
       "<table border=\"1\" class=\"dataframe\">\n",
       "  <thead>\n",
       "    <tr style=\"text-align: right;\">\n",
       "      <th>STATE/COUNTRY ID</th>\n",
       "      <th>DR</th>\n",
       "      <th>LI</th>\n",
       "      <th>TS</th>\n",
       "    </tr>\n",
       "    <tr>\n",
       "      <th>NAME</th>\n",
       "      <th></th>\n",
       "      <th></th>\n",
       "      <th></th>\n",
       "    </tr>\n",
       "  </thead>\n",
       "  <tbody>\n",
       "    <tr>\n",
       "      <th>CAPE PALMAS</th>\n",
       "      <td>0</td>\n",
       "      <td>935</td>\n",
       "      <td>0</td>\n",
       "    </tr>\n",
       "    <tr>\n",
       "      <th>CIUDAD TRUJILLO</th>\n",
       "      <td>629</td>\n",
       "      <td>0</td>\n",
       "      <td>0</td>\n",
       "    </tr>\n",
       "    <tr>\n",
       "      <th>EL DJEM</th>\n",
       "      <td>0</td>\n",
       "      <td>0</td>\n",
       "      <td>13</td>\n",
       "    </tr>\n",
       "    <tr>\n",
       "      <th>FISHERMANS LAKE</th>\n",
       "      <td>0</td>\n",
       "      <td>663</td>\n",
       "      <td>0</td>\n",
       "    </tr>\n",
       "    <tr>\n",
       "      <th>MARSHALL/ROBERTS FIELD</th>\n",
       "      <td>0</td>\n",
       "      <td>1270</td>\n",
       "      <td>0</td>\n",
       "    </tr>\n",
       "  </tbody>\n",
       "</table>\n",
       "</div>"
      ],
      "text/plain": [
       "STATE/COUNTRY ID         DR    LI  TS\n",
       "NAME                                 \n",
       "CAPE PALMAS               0   935   0\n",
       "CIUDAD TRUJILLO         629     0   0\n",
       "EL DJEM                   0     0  13\n",
       "FISHERMANS LAKE           0   663   0\n",
       "MARSHALL/ROBERTS FIELD    0  1270   0"
      ]
     },
     "execution_count": 19,
     "metadata": {},
     "output_type": "execute_result"
    }
   ],
   "source": [
    "missing_elev = combined_data[combined_data[\"ELEV\"] == 9999]\n",
    "pd.crosstab(missing_elev.NAME, missing_elev[\"STATE/COUNTRY ID\"])"
   ]
  },
  {
   "cell_type": "code",
   "execution_count": 20,
   "metadata": {},
   "outputs": [],
   "source": [
    "# There is no way to impute values for ELEV based on other information available based on STATE or other location factors\n",
    "## Decision to remove these rows\n",
    "combined_data = combined_data[combined_data.ELEV != 9999]"
   ]
  },
  {
   "cell_type": "markdown",
   "metadata": {},
   "source": [
    "### Linear Combination Check"
   ]
  },
  {
   "cell_type": "code",
   "execution_count": 21,
   "metadata": {},
   "outputs": [
    {
     "data": {
      "text/html": [
       "<div>\n",
       "<style scoped>\n",
       "    .dataframe tbody tr th:only-of-type {\n",
       "        vertical-align: middle;\n",
       "    }\n",
       "\n",
       "    .dataframe tbody tr th {\n",
       "        vertical-align: top;\n",
       "    }\n",
       "\n",
       "    .dataframe thead th {\n",
       "        text-align: right;\n",
       "    }\n",
       "</style>\n",
       "<table border=\"1\" class=\"dataframe\">\n",
       "  <thead>\n",
       "    <tr style=\"text-align: right;\">\n",
       "      <th></th>\n",
       "      <th>Precip</th>\n",
       "      <th>Snowfall</th>\n",
       "      <th>MAX</th>\n",
       "      <th>MIN</th>\n",
       "      <th>ELEV</th>\n",
       "      <th>Latitude</th>\n",
       "      <th>Longitude</th>\n",
       "    </tr>\n",
       "  </thead>\n",
       "  <tbody>\n",
       "    <tr>\n",
       "      <th>Precip</th>\n",
       "      <td>1.000000</td>\n",
       "      <td>-0.010155</td>\n",
       "      <td>0.005561</td>\n",
       "      <td>0.089336</td>\n",
       "      <td>-0.035566</td>\n",
       "      <td>-0.100628</td>\n",
       "      <td>0.009412</td>\n",
       "    </tr>\n",
       "    <tr>\n",
       "      <th>Snowfall</th>\n",
       "      <td>-0.010155</td>\n",
       "      <td>1.000000</td>\n",
       "      <td>-0.340857</td>\n",
       "      <td>-0.319970</td>\n",
       "      <td>-0.020968</td>\n",
       "      <td>0.208550</td>\n",
       "      <td>-0.031096</td>\n",
       "    </tr>\n",
       "    <tr>\n",
       "      <th>MAX</th>\n",
       "      <td>0.005561</td>\n",
       "      <td>-0.340857</td>\n",
       "      <td>1.000000</td>\n",
       "      <td>0.875380</td>\n",
       "      <td>-0.057549</td>\n",
       "      <td>-0.554199</td>\n",
       "      <td>0.044737</td>\n",
       "    </tr>\n",
       "    <tr>\n",
       "      <th>MIN</th>\n",
       "      <td>0.089336</td>\n",
       "      <td>-0.319970</td>\n",
       "      <td>0.875380</td>\n",
       "      <td>1.000000</td>\n",
       "      <td>-0.192664</td>\n",
       "      <td>-0.598662</td>\n",
       "      <td>-0.090369</td>\n",
       "    </tr>\n",
       "    <tr>\n",
       "      <th>ELEV</th>\n",
       "      <td>-0.035566</td>\n",
       "      <td>-0.020968</td>\n",
       "      <td>-0.057549</td>\n",
       "      <td>-0.192664</td>\n",
       "      <td>1.000000</td>\n",
       "      <td>0.076612</td>\n",
       "      <td>0.058855</td>\n",
       "    </tr>\n",
       "    <tr>\n",
       "      <th>Latitude</th>\n",
       "      <td>-0.100628</td>\n",
       "      <td>0.208550</td>\n",
       "      <td>-0.554199</td>\n",
       "      <td>-0.598662</td>\n",
       "      <td>0.076612</td>\n",
       "      <td>1.000000</td>\n",
       "      <td>-0.130017</td>\n",
       "    </tr>\n",
       "    <tr>\n",
       "      <th>Longitude</th>\n",
       "      <td>0.009412</td>\n",
       "      <td>-0.031096</td>\n",
       "      <td>0.044737</td>\n",
       "      <td>-0.090369</td>\n",
       "      <td>0.058855</td>\n",
       "      <td>-0.130017</td>\n",
       "      <td>1.000000</td>\n",
       "    </tr>\n",
       "  </tbody>\n",
       "</table>\n",
       "</div>"
      ],
      "text/plain": [
       "             Precip  Snowfall       MAX       MIN      ELEV  Latitude  \\\n",
       "Precip     1.000000 -0.010155  0.005561  0.089336 -0.035566 -0.100628   \n",
       "Snowfall  -0.010155  1.000000 -0.340857 -0.319970 -0.020968  0.208550   \n",
       "MAX        0.005561 -0.340857  1.000000  0.875380 -0.057549 -0.554199   \n",
       "MIN        0.089336 -0.319970  0.875380  1.000000 -0.192664 -0.598662   \n",
       "ELEV      -0.035566 -0.020968 -0.057549 -0.192664  1.000000  0.076612   \n",
       "Latitude  -0.100628  0.208550 -0.554199 -0.598662  0.076612  1.000000   \n",
       "Longitude  0.009412 -0.031096  0.044737 -0.090369  0.058855 -0.130017   \n",
       "\n",
       "           Longitude  \n",
       "Precip      0.009412  \n",
       "Snowfall   -0.031096  \n",
       "MAX         0.044737  \n",
       "MIN        -0.090369  \n",
       "ELEV        0.058855  \n",
       "Latitude   -0.130017  \n",
       "Longitude   1.000000  "
      ]
     },
     "execution_count": 21,
     "metadata": {},
     "output_type": "execute_result"
    }
   ],
   "source": [
    "combined_data.corr()"
   ]
  },
  {
   "cell_type": "code",
   "execution_count": 22,
   "metadata": {},
   "outputs": [
    {
     "data": {
      "text/plain": [
       "<AxesSubplot:>"
      ]
     },
     "execution_count": 22,
     "metadata": {},
     "output_type": "execute_result"
    },
    {
     "data": {
      "image/png": "[encoded data removed]",
      "text/plain": [
       "<Figure size 360x360 with 2 Axes>"
      ]
     },
     "metadata": {
      "needs_background": "light"
     },
     "output_type": "display_data"
    }
   ],
   "source": [
    "# Compute the correlation matrix\n",
    "corr = combined_data.corr()\n",
    "\n",
    "# Generate a mask for the upper triangle\n",
    "mask = np.triu(np.ones_like(corr, dtype=bool))\n",
    "\n",
    "# Set up the matplotlib figure\n",
    "f, ax = plt.subplots(figsize=(5, 5))\n",
    "\n",
    "# Generate a custom diverging colormap\n",
    "cmap = sns.diverging_palette(230, 20, as_cmap=True)\n",
    "\n",
    "# Draw the heatmap with the mask and correct aspect ratio\n",
    "sns.heatmap(corr, mask=mask, cmap=cmap, vmax=.3, center=0,square=True, linewidths=.5, cbar_kws={\"shrink\": .5})"
   ]
  },
  {
   "cell_type": "code",
   "execution_count": null,
   "metadata": {},
   "outputs": [],
   "source": [
    "my_report = sv.analyze(combined_data)\n",
    "my_report.show_html()"
   ]
  },
  {
   "cell_type": "markdown",
   "metadata": {},
   "source": [
    "### Handling nominal and ordinal categorical values\n",
    "Types: \n",
    "- Ordinal: Convert into numeric values retaining the datas natural order [x]\n",
    "- Nominal: One Hot encoding/Label Encoding [x]\n",
    "- Dichotomous (Binary): Convert values into indicator values 1/0 [x] <br>\n",
    "The only columns that require revision at this stage are 'NAME' and 'STATE/COUNTRY ID' [x]"
   ]
  },
  {
   "cell_type": "code",
   "execution_count": 23,
   "metadata": {},
   "outputs": [
    {
     "data": {
      "text/plain": [
       "Index(['STA', 'PoorWeather', 'YR', 'MO', 'DA', 'NAME', 'STATE/COUNTRY ID'], dtype='object')"
      ]
     },
     "execution_count": 23,
     "metadata": {},
     "output_type": "execute_result"
    }
   ],
   "source": [
    "combined_data.select_dtypes('object').columns"
   ]
  },
  {
   "cell_type": "code",
   "execution_count": 24,
   "metadata": {},
   "outputs": [],
   "source": [
    "def correct_category_datatype(data, cols):\n",
    "    \n",
    "    return data[cols].astype('category')\n",
    "\n",
    "def correct_object_datatype(data, cols):\n",
    "    \n",
    "    return data[cols].astype('int')\n",
    "\n",
    "combined_data.NAME = correct_category_datatype(combined_data, 'NAME')\n",
    "combined_data['STATE/COUNTRY ID'] = correct_category_datatype(combined_data, 'STATE/COUNTRY ID')\n",
    "\n",
    "combined_data['YR'] = correct_object_datatype(combined_data, 'YR')\n",
    "combined_data['MO'] = correct_object_datatype(combined_data, 'MO')\n",
    "combined_data['DA'] = correct_object_datatype(combined_data, 'DA')"
   ]
  },
  {
   "cell_type": "code",
   "execution_count": 51,
   "metadata": {},
   "outputs": [],
   "source": [
    "# Pandas `.get_dummies()` method\n",
    "NAME_dummies_df = pd.get_dummies(combined_data['NAME'])\n",
    "STATE_dummies_df = pd.get_dummies(combined_data['STATE/COUNTRY ID'])"
   ]
  },
  {
   "cell_type": "code",
   "execution_count": 73,
   "metadata": {},
   "outputs": [],
   "source": [
    "model_data = pd.concat([combined_data, pd.get_dummies(combined_data['STATE/COUNTRY ID'], prefix='category')],axis=1)"
   ]
  },
  {
   "cell_type": "markdown",
   "metadata": {},
   "source": [
    "### Outlier Detection\n",
    "- Univariate Outlier Detection\n",
    "- It is expected that the accuracy of recordings based on stations may not be uniform (outlier detection)"
   ]
  },
  {
   "cell_type": "code",
   "execution_count": 26,
   "metadata": {},
   "outputs": [
    {
     "name": "stdout",
     "output_type": "stream",
     "text": [
      "<class 'pandas.core.frame.DataFrame'>\n",
      "Int64Index: 115022 entries, 0 to 119039\n",
      "Data columns (total 15 columns):\n",
      " #   Column            Non-Null Count   Dtype         \n",
      "---  ------            --------------   -----         \n",
      " 0   STA               115022 non-null  object        \n",
      " 1   Date              115022 non-null  datetime64[ns]\n",
      " 2   Precip            115022 non-null  float64       \n",
      " 3   Snowfall          115022 non-null  float64       \n",
      " 4   PoorWeather       115022 non-null  object        \n",
      " 5   YR                115022 non-null  int64         \n",
      " 6   MO                115022 non-null  int64         \n",
      " 7   DA                115022 non-null  int64         \n",
      " 8   MAX               115022 non-null  float64       \n",
      " 9   MIN               115022 non-null  float64       \n",
      " 10  NAME              115022 non-null  category      \n",
      " 11  STATE/COUNTRY ID  115022 non-null  category      \n",
      " 12  ELEV              115022 non-null  int64         \n",
      " 13  Latitude          115022 non-null  float64       \n",
      " 14  Longitude         115022 non-null  float64       \n",
      "dtypes: category(2), datetime64[ns](1), float64(6), int64(4), object(2)\n",
      "memory usage: 12.6+ MB\n"
     ]
    }
   ],
   "source": [
    "combined_data.info()"
   ]
  },
  {
   "cell_type": "code",
   "execution_count": 27,
   "metadata": {},
   "outputs": [],
   "source": [
    "outlier_data = combined_data[[\"Precip\", \"Snowfall\", \"MAX\", \"MIN\", \"ELEV\"]]"
   ]
  },
  {
   "cell_type": "code",
   "execution_count": 28,
   "metadata": {},
   "outputs": [
    {
     "data": {
      "image/png": "[encoded data removed]",
      "text/plain": [
       "<Figure size 432x288 with 1 Axes>"
      ]
     },
     "metadata": {},
     "output_type": "display_data"
    },
    {
     "data": {
      "image/png": "[encoded data removed]",
      "text/plain": [
       "<Figure size 432x288 with 1 Axes>"
      ]
     },
     "metadata": {},
     "output_type": "display_data"
    },
    {
     "data": {
      "image/png": "[encoded data removed]",
      "text/plain": [
       "<Figure size 432x288 with 1 Axes>"
      ]
     },
     "metadata": {},
     "output_type": "display_data"
    },
    {
     "data": {
      "image/png": "[encoded data removed]",
      "text/plain": [
       "<Figure size 432x288 with 1 Axes>"
      ]
     },
     "metadata": {},
     "output_type": "display_data"
    },
    {
     "data": {
      "image/png": "[encoded data removed]",
      "text/plain": [
       "<Figure size 432x288 with 1 Axes>"
      ]
     },
     "metadata": {},
     "output_type": "display_data"
    }
   ],
   "source": [
    "import seaborn as sns\n",
    "sns.set_theme(style=\"whitegrid\")\n",
    "\n",
    "for i, col in enumerate(outlier_data.columns):\n",
    "    plt.figure(i)\n",
    "    sns.violinplot(x=col, data=outlier_data)"
   ]
  },
  {
   "cell_type": "markdown",
   "metadata": {},
   "source": [
    "### Exploratory Data Analysis \n",
    "**Hypothesis & Expectations to Test**\n",
    "- Is this a Global study? What are the locations associated with the experiment? [x]\n",
    "- High level discriptive statistics [x]\n",
    "- Assessment of feature distributions [x]\n",
    "- Assessment of feature relationships [x]\n",
    "    - What is the relationship of each variable with the target? [x]\n",
    "<br>\n",
    "\n",
    "**References** <br>\n",
    "https://towardsdatascience.com/powerful-eda-exploratory-data-analysis-in-just-two-lines-of-code-using-sweetviz-6c943d32f34 <br>\n",
    "https://medium.com/analytics-vidhya/how-to-plot-data-on-a-world-map-in-python-25cf9733c3dd <br>\n",
    "https://towardsdatascience.com/pandas-profiling-sweetviz-8849704cadd7 <br>\n",
    "https://towardsdatascience.com/ridgeline-plots-the-perfect-way-to-visualize-data-distributions-with-python-de99a5493052 <br>\n",
    "https://towardsdatascience.com/all-you-want-to-know-about-preprocessing-data-preparation-b6c2866071d4 <br>"
   ]
  },
  {
   "cell_type": "markdown",
   "metadata": {},
   "source": [
    "**Is this a Global study? What are the locations associated with the experiment?**"
   ]
  },
  {
   "cell_type": "code",
   "execution_count": 29,
   "metadata": {},
   "outputs": [],
   "source": [
    "# Categorical data doesn’t have duplicates because of whitespaces, lower/upper cases"
   ]
  },
  {
   "cell_type": "code",
   "execution_count": 30,
   "metadata": {},
   "outputs": [
    {
     "data": {
      "text/plain": [
       "['GH', 'GY', 'BZ', 'PM', 'CS', ..., 'NG', 'SO', 'AU', 'NH', 'FJ']\n",
       "Length: 61\n",
       "Categories (61, object): ['GH', 'GY', 'BZ', 'PM', ..., 'SO', 'AU', 'NH', 'FJ']"
      ]
     },
     "execution_count": 30,
     "metadata": {},
     "output_type": "execute_result"
    }
   ],
   "source": [
    "combined_data['STATE/COUNTRY ID'].unique()"
   ]
  },
  {
   "cell_type": "code",
   "execution_count": 31,
   "metadata": {},
   "outputs": [
    {
     "data": {
      "text/plain": [
       "['ACCRA', 'GEORGETOWN', 'CLEVELANDIA', 'BALBOA/ALBROOK', 'REY ISLAND', ..., 'MACKAY', 'ARCHER', 'AMBERLY', 'ROCKHAMPTON', 'BRISBANE']\n",
       "Length: 152\n",
       "Categories (152, object): ['ACCRA', 'GEORGETOWN', 'CLEVELANDIA', 'BALBOA/ALBROOK', ..., 'ARCHER', 'AMBERLY', 'ROCKHAMPTON', 'BRISBANE']"
      ]
     },
     "execution_count": 31,
     "metadata": {},
     "output_type": "execute_result"
    }
   ],
   "source": [
    "combined_data.NAME.unique()"
   ]
  },
  {
   "cell_type": "code",
   "execution_count": 32,
   "metadata": {},
   "outputs": [
    {
     "data": {
      "text/html": [
       "<div>\n",
       "<style scoped>\n",
       "    .dataframe tbody tr th:only-of-type {\n",
       "        vertical-align: middle;\n",
       "    }\n",
       "\n",
       "    .dataframe tbody tr th {\n",
       "        vertical-align: top;\n",
       "    }\n",
       "\n",
       "    .dataframe thead th {\n",
       "        text-align: right;\n",
       "    }\n",
       "</style>\n",
       "<table border=\"1\" class=\"dataframe\">\n",
       "  <thead>\n",
       "    <tr style=\"text-align: right;\">\n",
       "      <th>NAME</th>\n",
       "      <th>ABADAN</th>\n",
       "      <th>ACCRA</th>\n",
       "      <th>ADANA</th>\n",
       "      <th>AGRA</th>\n",
       "      <th>AIN EL</th>\n",
       "      <th>AMBERLY</th>\n",
       "      <th>AMENDOLA</th>\n",
       "      <th>AMENDOLA/MU 9</th>\n",
       "      <th>AMIRABAD POST</th>\n",
       "      <th>AMURI/FIELD AAF</th>\n",
       "      <th>...</th>\n",
       "      <th>TELERGMA</th>\n",
       "      <th>TINDOUF</th>\n",
       "      <th>TONGATABU ISLAND</th>\n",
       "      <th>TOUAHAR</th>\n",
       "      <th>VAL DE CANS</th>\n",
       "      <th>WALLER/BWI</th>\n",
       "      <th>WARRINGTON</th>\n",
       "      <th>WHEELER/AFB 810.1</th>\n",
       "      <th>WHEELUS</th>\n",
       "      <th>WILLEMSTAD</th>\n",
       "    </tr>\n",
       "    <tr>\n",
       "      <th>STATE/COUNTRY ID</th>\n",
       "      <th></th>\n",
       "      <th></th>\n",
       "      <th></th>\n",
       "      <th></th>\n",
       "      <th></th>\n",
       "      <th></th>\n",
       "      <th></th>\n",
       "      <th></th>\n",
       "      <th></th>\n",
       "      <th></th>\n",
       "      <th></th>\n",
       "      <th></th>\n",
       "      <th></th>\n",
       "      <th></th>\n",
       "      <th></th>\n",
       "      <th></th>\n",
       "      <th></th>\n",
       "      <th></th>\n",
       "      <th></th>\n",
       "      <th></th>\n",
       "      <th></th>\n",
       "    </tr>\n",
       "  </thead>\n",
       "  <tbody>\n",
       "    <tr>\n",
       "      <th>AL</th>\n",
       "      <td>0</td>\n",
       "      <td>0</td>\n",
       "      <td>0</td>\n",
       "      <td>0</td>\n",
       "      <td>383</td>\n",
       "      <td>0</td>\n",
       "      <td>0</td>\n",
       "      <td>0</td>\n",
       "      <td>0</td>\n",
       "      <td>0</td>\n",
       "      <td>...</td>\n",
       "      <td>502</td>\n",
       "      <td>818</td>\n",
       "      <td>0</td>\n",
       "      <td>0</td>\n",
       "      <td>0</td>\n",
       "      <td>0</td>\n",
       "      <td>0</td>\n",
       "      <td>0</td>\n",
       "      <td>0</td>\n",
       "      <td>0</td>\n",
       "    </tr>\n",
       "    <tr>\n",
       "      <th>AT</th>\n",
       "      <td>0</td>\n",
       "      <td>0</td>\n",
       "      <td>0</td>\n",
       "      <td>0</td>\n",
       "      <td>0</td>\n",
       "      <td>0</td>\n",
       "      <td>0</td>\n",
       "      <td>0</td>\n",
       "      <td>0</td>\n",
       "      <td>0</td>\n",
       "      <td>...</td>\n",
       "      <td>0</td>\n",
       "      <td>0</td>\n",
       "      <td>0</td>\n",
       "      <td>0</td>\n",
       "      <td>0</td>\n",
       "      <td>0</td>\n",
       "      <td>0</td>\n",
       "      <td>0</td>\n",
       "      <td>0</td>\n",
       "      <td>0</td>\n",
       "    </tr>\n",
       "    <tr>\n",
       "      <th>AU</th>\n",
       "      <td>0</td>\n",
       "      <td>0</td>\n",
       "      <td>0</td>\n",
       "      <td>0</td>\n",
       "      <td>0</td>\n",
       "      <td>847</td>\n",
       "      <td>0</td>\n",
       "      <td>0</td>\n",
       "      <td>0</td>\n",
       "      <td>0</td>\n",
       "      <td>...</td>\n",
       "      <td>0</td>\n",
       "      <td>0</td>\n",
       "      <td>0</td>\n",
       "      <td>0</td>\n",
       "      <td>0</td>\n",
       "      <td>0</td>\n",
       "      <td>0</td>\n",
       "      <td>0</td>\n",
       "      <td>0</td>\n",
       "      <td>0</td>\n",
       "    </tr>\n",
       "    <tr>\n",
       "      <th>AZ</th>\n",
       "      <td>0</td>\n",
       "      <td>0</td>\n",
       "      <td>0</td>\n",
       "      <td>0</td>\n",
       "      <td>0</td>\n",
       "      <td>0</td>\n",
       "      <td>0</td>\n",
       "      <td>0</td>\n",
       "      <td>0</td>\n",
       "      <td>0</td>\n",
       "      <td>...</td>\n",
       "      <td>0</td>\n",
       "      <td>0</td>\n",
       "      <td>0</td>\n",
       "      <td>0</td>\n",
       "      <td>0</td>\n",
       "      <td>0</td>\n",
       "      <td>0</td>\n",
       "      <td>0</td>\n",
       "      <td>0</td>\n",
       "      <td>0</td>\n",
       "    </tr>\n",
       "    <tr>\n",
       "      <th>BA</th>\n",
       "      <td>0</td>\n",
       "      <td>0</td>\n",
       "      <td>0</td>\n",
       "      <td>0</td>\n",
       "      <td>0</td>\n",
       "      <td>0</td>\n",
       "      <td>0</td>\n",
       "      <td>0</td>\n",
       "      <td>0</td>\n",
       "      <td>0</td>\n",
       "      <td>...</td>\n",
       "      <td>0</td>\n",
       "      <td>0</td>\n",
       "      <td>0</td>\n",
       "      <td>0</td>\n",
       "      <td>0</td>\n",
       "      <td>0</td>\n",
       "      <td>0</td>\n",
       "      <td>0</td>\n",
       "      <td>0</td>\n",
       "      <td>0</td>\n",
       "    </tr>\n",
       "    <tr>\n",
       "      <th>...</th>\n",
       "      <td>...</td>\n",
       "      <td>...</td>\n",
       "      <td>...</td>\n",
       "      <td>...</td>\n",
       "      <td>...</td>\n",
       "      <td>...</td>\n",
       "      <td>...</td>\n",
       "      <td>...</td>\n",
       "      <td>...</td>\n",
       "      <td>...</td>\n",
       "      <td>...</td>\n",
       "      <td>...</td>\n",
       "      <td>...</td>\n",
       "      <td>...</td>\n",
       "      <td>...</td>\n",
       "      <td>...</td>\n",
       "      <td>...</td>\n",
       "      <td>...</td>\n",
       "      <td>...</td>\n",
       "      <td>...</td>\n",
       "      <td>...</td>\n",
       "    </tr>\n",
       "    <tr>\n",
       "      <th>TI</th>\n",
       "      <td>0</td>\n",
       "      <td>0</td>\n",
       "      <td>0</td>\n",
       "      <td>0</td>\n",
       "      <td>0</td>\n",
       "      <td>0</td>\n",
       "      <td>0</td>\n",
       "      <td>0</td>\n",
       "      <td>0</td>\n",
       "      <td>0</td>\n",
       "      <td>...</td>\n",
       "      <td>0</td>\n",
       "      <td>0</td>\n",
       "      <td>0</td>\n",
       "      <td>0</td>\n",
       "      <td>0</td>\n",
       "      <td>0</td>\n",
       "      <td>0</td>\n",
       "      <td>0</td>\n",
       "      <td>0</td>\n",
       "      <td>0</td>\n",
       "    </tr>\n",
       "    <tr>\n",
       "      <th>TO</th>\n",
       "      <td>0</td>\n",
       "      <td>0</td>\n",
       "      <td>0</td>\n",
       "      <td>0</td>\n",
       "      <td>0</td>\n",
       "      <td>0</td>\n",
       "      <td>0</td>\n",
       "      <td>0</td>\n",
       "      <td>0</td>\n",
       "      <td>0</td>\n",
       "      <td>...</td>\n",
       "      <td>0</td>\n",
       "      <td>0</td>\n",
       "      <td>179</td>\n",
       "      <td>0</td>\n",
       "      <td>0</td>\n",
       "      <td>0</td>\n",
       "      <td>0</td>\n",
       "      <td>0</td>\n",
       "      <td>0</td>\n",
       "      <td>0</td>\n",
       "    </tr>\n",
       "    <tr>\n",
       "      <th>TS</th>\n",
       "      <td>0</td>\n",
       "      <td>0</td>\n",
       "      <td>0</td>\n",
       "      <td>0</td>\n",
       "      <td>0</td>\n",
       "      <td>0</td>\n",
       "      <td>0</td>\n",
       "      <td>0</td>\n",
       "      <td>0</td>\n",
       "      <td>0</td>\n",
       "      <td>...</td>\n",
       "      <td>0</td>\n",
       "      <td>0</td>\n",
       "      <td>0</td>\n",
       "      <td>0</td>\n",
       "      <td>0</td>\n",
       "      <td>0</td>\n",
       "      <td>0</td>\n",
       "      <td>0</td>\n",
       "      <td>0</td>\n",
       "      <td>0</td>\n",
       "    </tr>\n",
       "    <tr>\n",
       "      <th>TU</th>\n",
       "      <td>0</td>\n",
       "      <td>0</td>\n",
       "      <td>260</td>\n",
       "      <td>0</td>\n",
       "      <td>0</td>\n",
       "      <td>0</td>\n",
       "      <td>0</td>\n",
       "      <td>0</td>\n",
       "      <td>0</td>\n",
       "      <td>0</td>\n",
       "      <td>...</td>\n",
       "      <td>0</td>\n",
       "      <td>0</td>\n",
       "      <td>0</td>\n",
       "      <td>0</td>\n",
       "      <td>0</td>\n",
       "      <td>0</td>\n",
       "      <td>0</td>\n",
       "      <td>0</td>\n",
       "      <td>0</td>\n",
       "      <td>0</td>\n",
       "    </tr>\n",
       "    <tr>\n",
       "      <th>UK</th>\n",
       "      <td>0</td>\n",
       "      <td>0</td>\n",
       "      <td>0</td>\n",
       "      <td>0</td>\n",
       "      <td>0</td>\n",
       "      <td>0</td>\n",
       "      <td>0</td>\n",
       "      <td>0</td>\n",
       "      <td>0</td>\n",
       "      <td>0</td>\n",
       "      <td>...</td>\n",
       "      <td>0</td>\n",
       "      <td>0</td>\n",
       "      <td>0</td>\n",
       "      <td>0</td>\n",
       "      <td>0</td>\n",
       "      <td>0</td>\n",
       "      <td>295</td>\n",
       "      <td>0</td>\n",
       "      <td>0</td>\n",
       "      <td>0</td>\n",
       "    </tr>\n",
       "  </tbody>\n",
       "</table>\n",
       "<p>61 rows × 152 columns</p>\n",
       "</div>"
      ],
      "text/plain": [
       "NAME              ABADAN  ACCRA  ADANA  AGRA  AIN EL  AMBERLY  AMENDOLA  \\\n",
       "STATE/COUNTRY ID                                                          \n",
       "AL                     0      0      0     0     383        0         0   \n",
       "AT                     0      0      0     0       0        0         0   \n",
       "AU                     0      0      0     0       0      847         0   \n",
       "AZ                     0      0      0     0       0        0         0   \n",
       "BA                     0      0      0     0       0        0         0   \n",
       "...                  ...    ...    ...   ...     ...      ...       ...   \n",
       "TI                     0      0      0     0       0        0         0   \n",
       "TO                     0      0      0     0       0        0         0   \n",
       "TS                     0      0      0     0       0        0         0   \n",
       "TU                     0      0    260     0       0        0         0   \n",
       "UK                     0      0      0     0       0        0         0   \n",
       "\n",
       "NAME              AMENDOLA/MU 9  AMIRABAD POST  AMURI/FIELD AAF  ...  \\\n",
       "STATE/COUNTRY ID                                                 ...   \n",
       "AL                            0              0                0  ...   \n",
       "AT                            0              0                0  ...   \n",
       "AU                            0              0                0  ...   \n",
       "AZ                            0              0                0  ...   \n",
       "BA                            0              0                0  ...   \n",
       "...                         ...            ...              ...  ...   \n",
       "TI                            0              0                0  ...   \n",
       "TO                            0              0                0  ...   \n",
       "TS                            0              0                0  ...   \n",
       "TU                            0              0                0  ...   \n",
       "UK                            0              0                0  ...   \n",
       "\n",
       "NAME              TELERGMA  TINDOUF  TONGATABU ISLAND  TOUAHAR  VAL DE CANS  \\\n",
       "STATE/COUNTRY ID                                                              \n",
       "AL                     502      818                 0        0            0   \n",
       "AT                       0        0                 0        0            0   \n",
       "AU                       0        0                 0        0            0   \n",
       "AZ                       0        0                 0        0            0   \n",
       "BA                       0        0                 0        0            0   \n",
       "...                    ...      ...               ...      ...          ...   \n",
       "TI                       0        0                 0        0            0   \n",
       "TO                       0        0               179        0            0   \n",
       "TS                       0        0                 0        0            0   \n",
       "TU                       0        0                 0        0            0   \n",
       "UK                       0        0                 0        0            0   \n",
       "\n",
       "NAME              WALLER/BWI  WARRINGTON  WHEELER/AFB 810.1  WHEELUS  \\\n",
       "STATE/COUNTRY ID                                                       \n",
       "AL                         0           0                  0        0   \n",
       "AT                         0           0                  0        0   \n",
       "AU                         0           0                  0        0   \n",
       "AZ                         0           0                  0        0   \n",
       "BA                         0           0                  0        0   \n",
       "...                      ...         ...                ...      ...   \n",
       "TI                         0           0                  0        0   \n",
       "TO                         0           0                  0        0   \n",
       "TS                         0           0                  0        0   \n",
       "TU                         0           0                  0        0   \n",
       "UK                         0         295                  0        0   \n",
       "\n",
       "NAME              WILLEMSTAD  \n",
       "STATE/COUNTRY ID              \n",
       "AL                         0  \n",
       "AT                         0  \n",
       "AU                         0  \n",
       "AZ                         0  \n",
       "BA                         0  \n",
       "...                      ...  \n",
       "TI                         0  \n",
       "TO                         0  \n",
       "TS                         0  \n",
       "TU                         0  \n",
       "UK                         0  \n",
       "\n",
       "[61 rows x 152 columns]"
      ]
     },
     "execution_count": 32,
     "metadata": {},
     "output_type": "execute_result"
    }
   ],
   "source": [
    "pd.crosstab(combined_data['STATE/COUNTRY ID'], combined_data.NAME)"
   ]
  },
  {
   "cell_type": "markdown",
   "metadata": {},
   "source": [
    "**High Level Descriptive Statistics**"
   ]
  },
  {
   "cell_type": "code",
   "execution_count": 33,
   "metadata": {},
   "outputs": [
    {
     "data": {
      "text/html": [
       "<div>\n",
       "<style scoped>\n",
       "    .dataframe tbody tr th:only-of-type {\n",
       "        vertical-align: middle;\n",
       "    }\n",
       "\n",
       "    .dataframe tbody tr th {\n",
       "        vertical-align: top;\n",
       "    }\n",
       "\n",
       "    .dataframe thead th {\n",
       "        text-align: right;\n",
       "    }\n",
       "</style>\n",
       "<table border=\"1\" class=\"dataframe\">\n",
       "  <thead>\n",
       "    <tr style=\"text-align: right;\">\n",
       "      <th></th>\n",
       "      <th>Precip</th>\n",
       "      <th>Snowfall</th>\n",
       "      <th>YR</th>\n",
       "      <th>MO</th>\n",
       "      <th>DA</th>\n",
       "      <th>MAX</th>\n",
       "      <th>MIN</th>\n",
       "      <th>ELEV</th>\n",
       "      <th>Latitude</th>\n",
       "      <th>Longitude</th>\n",
       "    </tr>\n",
       "  </thead>\n",
       "  <tbody>\n",
       "    <tr>\n",
       "      <th>count</th>\n",
       "      <td>115022.000000</td>\n",
       "      <td>115022.000000</td>\n",
       "      <td>115022.000000</td>\n",
       "      <td>115022.000000</td>\n",
       "      <td>115022.000000</td>\n",
       "      <td>115022.000000</td>\n",
       "      <td>115022.000000</td>\n",
       "      <td>115022.000000</td>\n",
       "      <td>115022.000000</td>\n",
       "      <td>115022.000000</td>\n",
       "    </tr>\n",
       "    <tr>\n",
       "      <th>mean</th>\n",
       "      <td>3.060413</td>\n",
       "      <td>0.250418</td>\n",
       "      <td>43.804177</td>\n",
       "      <td>6.717732</td>\n",
       "      <td>15.790501</td>\n",
       "      <td>80.863635</td>\n",
       "      <td>64.033472</td>\n",
       "      <td>123.000209</td>\n",
       "      <td>17.852116</td>\n",
       "      <td>-15.457468</td>\n",
       "    </tr>\n",
       "    <tr>\n",
       "      <th>std</th>\n",
       "      <td>10.317481</td>\n",
       "      <td>2.654196</td>\n",
       "      <td>1.139535</td>\n",
       "      <td>3.427010</td>\n",
       "      <td>8.795511</td>\n",
       "      <td>15.056446</td>\n",
       "      <td>14.627285</td>\n",
       "      <td>298.038868</td>\n",
       "      <td>19.997547</td>\n",
       "      <td>90.051251</td>\n",
       "    </tr>\n",
       "    <tr>\n",
       "      <th>min</th>\n",
       "      <td>0.000000</td>\n",
       "      <td>0.000000</td>\n",
       "      <td>40.000000</td>\n",
       "      <td>1.000000</td>\n",
       "      <td>1.000000</td>\n",
       "      <td>-28.000000</td>\n",
       "      <td>-37.000000</td>\n",
       "      <td>1.000000</td>\n",
       "      <td>-27.600000</td>\n",
       "      <td>-175.000000</td>\n",
       "    </tr>\n",
       "    <tr>\n",
       "      <th>25%</th>\n",
       "      <td>0.000000</td>\n",
       "      <td>0.000000</td>\n",
       "      <td>43.000000</td>\n",
       "      <td>4.000000</td>\n",
       "      <td>8.000000</td>\n",
       "      <td>78.000000</td>\n",
       "      <td>59.000000</td>\n",
       "      <td>9.000000</td>\n",
       "      <td>7.733333</td>\n",
       "      <td>-79.500000</td>\n",
       "    </tr>\n",
       "    <tr>\n",
       "      <th>50%</th>\n",
       "      <td>0.000000</td>\n",
       "      <td>0.000000</td>\n",
       "      <td>44.000000</td>\n",
       "      <td>7.000000</td>\n",
       "      <td>16.000000</td>\n",
       "      <td>85.000000</td>\n",
       "      <td>69.000000</td>\n",
       "      <td>23.000000</td>\n",
       "      <td>17.900000</td>\n",
       "      <td>-27.033333</td>\n",
       "    </tr>\n",
       "    <tr>\n",
       "      <th>75%</th>\n",
       "      <td>0.762000</td>\n",
       "      <td>0.000000</td>\n",
       "      <td>45.000000</td>\n",
       "      <td>10.000000</td>\n",
       "      <td>23.000000</td>\n",
       "      <td>89.000000</td>\n",
       "      <td>74.000000</td>\n",
       "      <td>86.000000</td>\n",
       "      <td>30.133333</td>\n",
       "      <td>48.250000</td>\n",
       "    </tr>\n",
       "    <tr>\n",
       "      <th>max</th>\n",
       "      <td>307.340000</td>\n",
       "      <td>86.360000</td>\n",
       "      <td>45.000000</td>\n",
       "      <td>12.000000</td>\n",
       "      <td>31.000000</td>\n",
       "      <td>122.000000</td>\n",
       "      <td>94.000000</td>\n",
       "      <td>2326.000000</td>\n",
       "      <td>67.016667</td>\n",
       "      <td>177.366667</td>\n",
       "    </tr>\n",
       "  </tbody>\n",
       "</table>\n",
       "</div>"
      ],
      "text/plain": [
       "              Precip       Snowfall             YR             MO  \\\n",
       "count  115022.000000  115022.000000  115022.000000  115022.000000   \n",
       "mean        3.060413       0.250418      43.804177       6.717732   \n",
       "std        10.317481       2.654196       1.139535       3.427010   \n",
       "min         0.000000       0.000000      40.000000       1.000000   \n",
       "25%         0.000000       0.000000      43.000000       4.000000   \n",
       "50%         0.000000       0.000000      44.000000       7.000000   \n",
       "75%         0.762000       0.000000      45.000000      10.000000   \n",
       "max       307.340000      86.360000      45.000000      12.000000   \n",
       "\n",
       "                  DA            MAX            MIN           ELEV  \\\n",
       "count  115022.000000  115022.000000  115022.000000  115022.000000   \n",
       "mean       15.790501      80.863635      64.033472     123.000209   \n",
       "std         8.795511      15.056446      14.627285     298.038868   \n",
       "min         1.000000     -28.000000     -37.000000       1.000000   \n",
       "25%         8.000000      78.000000      59.000000       9.000000   \n",
       "50%        16.000000      85.000000      69.000000      23.000000   \n",
       "75%        23.000000      89.000000      74.000000      86.000000   \n",
       "max        31.000000     122.000000      94.000000    2326.000000   \n",
       "\n",
       "            Latitude      Longitude  \n",
       "count  115022.000000  115022.000000  \n",
       "mean       17.852116     -15.457468  \n",
       "std        19.997547      90.051251  \n",
       "min       -27.600000    -175.000000  \n",
       "25%         7.733333     -79.500000  \n",
       "50%        17.900000     -27.033333  \n",
       "75%        30.133333      48.250000  \n",
       "max        67.016667     177.366667  "
      ]
     },
     "execution_count": 33,
     "metadata": {},
     "output_type": "execute_result"
    }
   ],
   "source": [
    "combined_data.describe()"
   ]
  },
  {
   "cell_type": "code",
   "execution_count": 34,
   "metadata": {},
   "outputs": [
    {
     "data": {
      "text/html": [
       "<div>\n",
       "<style scoped>\n",
       "    .dataframe tbody tr th:only-of-type {\n",
       "        vertical-align: middle;\n",
       "    }\n",
       "\n",
       "    .dataframe tbody tr th {\n",
       "        vertical-align: top;\n",
       "    }\n",
       "\n",
       "    .dataframe thead th {\n",
       "        text-align: right;\n",
       "    }\n",
       "</style>\n",
       "<table border=\"1\" class=\"dataframe\">\n",
       "  <thead>\n",
       "    <tr style=\"text-align: right;\">\n",
       "      <th></th>\n",
       "      <th>STA</th>\n",
       "      <th>PoorWeather</th>\n",
       "    </tr>\n",
       "  </thead>\n",
       "  <tbody>\n",
       "    <tr>\n",
       "      <th>count</th>\n",
       "      <td>115022</td>\n",
       "      <td>115022</td>\n",
       "    </tr>\n",
       "    <tr>\n",
       "      <th>unique</th>\n",
       "      <td>154</td>\n",
       "      <td>40</td>\n",
       "    </tr>\n",
       "    <tr>\n",
       "      <th>top</th>\n",
       "      <td>22508</td>\n",
       "      <td>nan</td>\n",
       "    </tr>\n",
       "    <tr>\n",
       "      <th>freq</th>\n",
       "      <td>2192</td>\n",
       "      <td>82062</td>\n",
       "    </tr>\n",
       "  </tbody>\n",
       "</table>\n",
       "</div>"
      ],
      "text/plain": [
       "           STA PoorWeather\n",
       "count   115022      115022\n",
       "unique     154          40\n",
       "top      22508         nan\n",
       "freq      2192       82062"
      ]
     },
     "execution_count": 34,
     "metadata": {},
     "output_type": "execute_result"
    }
   ],
   "source": [
    "combined_data.describe(include=['O'])"
   ]
  },
  {
   "cell_type": "markdown",
   "metadata": {},
   "source": [
    "**Assessment of feature distributions**"
   ]
  },
  {
   "cell_type": "code",
   "execution_count": null,
   "metadata": {},
   "outputs": [],
   "source": [
    "# Density Plots for Numerical Columns\n",
    "numeric_columns = combined_data.select_dtypes(include=['float64']).columns\n",
    "\n",
    "for i, col in enumerate(combined_data.select_dtypes(include=['float64']).columns):\n",
    "    plt.figure(i)\n",
    "    sns.distplot(combined_data[col], hist=True, kde=True, color = 'darkblue')"
   ]
  },
  {
   "cell_type": "code",
   "execution_count": null,
   "metadata": {},
   "outputs": [],
   "source": [
    "# Barplots for Categorical Data\n",
    "object_columns = combined_data.select_dtypes(include=['object']).columns\n",
    "\n",
    "for i, col in enumerate(combined_data.select_dtypes(include=['object']).columns):\n",
    "    plt.figure(i)\n",
    "    combined_data[col].value_counts().plot(kind='bar')"
   ]
  },
  {
   "cell_type": "code",
   "execution_count": null,
   "metadata": {
    "scrolled": true
   },
   "outputs": [],
   "source": [
    "pd.crosstab(combined_data.YR, combined_data.MO)"
   ]
  },
  {
   "cell_type": "code",
   "execution_count": null,
   "metadata": {},
   "outputs": [],
   "source": [
    "from joypy import joyplot\n",
    "feature_data = combined_data[['Date', 'NAME', 'MIN', 'MAX']]"
   ]
  },
  {
   "cell_type": "code",
   "execution_count": null,
   "metadata": {},
   "outputs": [],
   "source": [
    "feature_data.NAME.value_counts()"
   ]
  },
  {
   "cell_type": "code",
   "execution_count": null,
   "metadata": {},
   "outputs": [],
   "source": [
    "ridge_data = feature_data.query(\"NAME == 'WHEELER/AFB 810.1'\")\n",
    "ridge_data = ridge_data.drop('NAME', axis=1)\n",
    "ridge_data['Date'] = ridge_data['Date'].astype('datetime64')\n",
    "ridge_data['Month'] = ridge_data['Date'].dt.month_name()\n",
    "\n",
    "ridge_data = ridge_data.reset_index()"
   ]
  },
  {
   "cell_type": "code",
   "execution_count": null,
   "metadata": {},
   "outputs": [],
   "source": [
    "from pandas.api.types import CategoricalDtype\n",
    "\n",
    "cat_month = CategoricalDtype(\n",
    "    ['January', 'February', 'March', 'April', 'May', 'June',\n",
    "     'July', 'August', 'September', 'October', 'November', 'December']\n",
    ")\n",
    "\n",
    "ridge_data['Month'] = ridge_data['Month'].astype(cat_month)\n",
    "\n",
    "ridge_data.dtypes"
   ]
  },
  {
   "cell_type": "code",
   "execution_count": null,
   "metadata": {},
   "outputs": [],
   "source": [
    "plt.figure()\n",
    "\n",
    "joyplot(\n",
    "    data=ridge_data[['MAX', 'Month']], \n",
    "    by='Month',\n",
    "    figsize=(5, 5)\n",
    ")\n",
    "\n",
    "plt.title('Ridgeline Plot of Max Temperatures in WHEELER/AFB 810.1', fontsize=20)\n",
    "plt.show()"
   ]
  },
  {
   "cell_type": "code",
   "execution_count": null,
   "metadata": {},
   "outputs": [],
   "source": [
    "plt.figure()\n",
    "\n",
    "ax, fig = joyplot(\n",
    "    data=ridge_data[['MIN', 'MAX', 'Month']], \n",
    "    by='Month',\n",
    "    column=['MIN', 'MAX'],\n",
    "    color=['#686de0', '#eb4d4b'],\n",
    "    legend=True,\n",
    "    alpha=0.85,\n",
    "    figsize=(5, 5)\n",
    ")\n",
    "plt.title('Ridgeline Plot of Min and Max Temperatures in WHEELER/AFB 810.1', fontsize=20)\n",
    "plt.show()"
   ]
  },
  {
   "cell_type": "code",
   "execution_count": null,
   "metadata": {},
   "outputs": [],
   "source": [
    "sns.pairplot(combined_data)"
   ]
  },
  {
   "cell_type": "markdown",
   "metadata": {},
   "source": [
    "### Specific Research Questions\n",
    "- Data Integrity Preprocessing Steps\n",
    "    - What defines the feature 'poor weather' conditions? It looks as if this variable as been corrupted\n",
    "    - Is there a relationship between the daily minimum and maximum temperature (TimeSeries Analysis)? Yes\n",
    "    - It is expected that average temperatures are colder in winter months than summer months. Confirmed\n",
    "    - It is expected that more snowfall occurs in the winter months (for northern hemisphere regions). Confirmed\n",
    "    - It is expected that more Precipitation occurs in the winter months (for northern hemisphere). The results show on average more Precipitation occurs in the summer. Thisis negligible and extra analysis should split this further per region or by splitting Northern and Southern Hemisphere\n",
    "    - It is expected that higher levels above the sea have greater precipation. The data shows that as ELEV increased the Precip decreases.\n",
    "    - Have the years tended to get warmer on average?"
   ]
  },
  {
   "cell_type": "code",
   "execution_count": null,
   "metadata": {},
   "outputs": [],
   "source": [
    "combined_data.columns"
   ]
  },
  {
   "cell_type": "code",
   "execution_count": null,
   "metadata": {},
   "outputs": [],
   "source": [
    "poor_weather_data = combined_data[['PoorWeather', 'Precip', 'Snowfall', 'MIN', 'MAX', 'ELEV']]\n",
    "poor_weather_data.PoorWeather.value_counts()"
   ]
  },
  {
   "cell_type": "code",
   "execution_count": null,
   "metadata": {},
   "outputs": [],
   "source": [
    "import plotly.graph_objs as go\n",
    "\n",
    "time_series = combined_data[['Date', 'MIN', 'MAX',]]\n",
    "time_series = time_series.sort_values(by='Date')\n",
    "time_series = time_series.sample(n=100, random_state=1)\n",
    "\n",
    "columns = ['MIN', 'MAX']\n",
    "names = {'MIN': 'Minimum Temperature',\n",
    "         'MAX': 'Maximum Temperature'}\n",
    "\n",
    "fig = go.Figure([{\n",
    "    'x': time_series['Date'],\n",
    "    'y': time_series[col],\n",
    "    'name': names[col]\n",
    "}  for col in columns])\n",
    "\n",
    "fig.show(renderer='iframe')"
   ]
  },
  {
   "cell_type": "code",
   "execution_count": null,
   "metadata": {},
   "outputs": [],
   "source": [
    "def winter_month_comparison(data, col):    \n",
    "    \n",
    "    return print(data[(data.MO == 1) | (data.MO == 11) | (data.MO == 12)][col].describe())\n",
    "\n",
    "def summer_month_comparison(data, col):    \n",
    "    \n",
    "    return print(data[(data.MO == 6) | (data.MO == 7) | (data.MO == 8)][col].describe())"
   ]
  },
  {
   "cell_type": "code",
   "execution_count": null,
   "metadata": {},
   "outputs": [],
   "source": [
    "winter_month_comparison(combined_data, \"MIN\")\n",
    "print(\"\"\"\"\"\")\n",
    "winter_month_comparison(combined_data, \"MAX\")"
   ]
  },
  {
   "cell_type": "code",
   "execution_count": null,
   "metadata": {},
   "outputs": [],
   "source": [
    "# Summer Months \n",
    "summer_month_comparison(combined_data, \"MIN\")\n",
    "print(\"\"\"\"\"\")\n",
    "summer_month_comparison(combined_data, \"MAX\")"
   ]
  },
  {
   "cell_type": "code",
   "execution_count": null,
   "metadata": {},
   "outputs": [],
   "source": [
    "# Winter Months\n",
    "winter_month_comparison(combined_data, \"Snowfall\")\n",
    "print(\"\"\"\"\"\")\n",
    "# Summer Months\n",
    "summer_month_comparison(combined_data, \"Snowfall\")"
   ]
  },
  {
   "cell_type": "code",
   "execution_count": null,
   "metadata": {},
   "outputs": [],
   "source": [
    "# Winter Months\n",
    "winter_month_comparison(combined_data, \"Precip\")\n",
    "print(\"\"\"\"\"\")\n",
    "# Summer Months\n",
    "summer_month_comparison(combined_data, \"Precip\")"
   ]
  },
  {
   "cell_type": "code",
   "execution_count": null,
   "metadata": {},
   "outputs": [],
   "source": [
    "sns.relplot(x=\"ELEV\", y=\"Precip\", data=combined_data);"
   ]
  },
  {
   "cell_type": "code",
   "execution_count": null,
   "metadata": {},
   "outputs": [],
   "source": [
    "# Have the years tended to get warmer on average?\n"
   ]
  },
  {
   "cell_type": "code",
   "execution_count": null,
   "metadata": {},
   "outputs": [],
   "source": [
    "# Write clean data to 02_intermediate data folder\n",
    "#combined_data.to_csv('/Users/Rej1992/Documents/GitHub/RegressionModels/data/02_intermediate/data_cleaning.csv')"
   ]
  },
  {
   "cell_type": "markdown",
   "metadata": {},
   "source": [
    "### Feature Scaling & Normalisation"
   ]
  },
  {
   "cell_type": "markdown",
   "metadata": {},
   "source": [
    "- The point of normalization is to change your observations so that they can be described as a normal distribution.\n",
    "- In general, you'll only want to normalize your data if you're going to be using a machine learning or statistics technique that assumes your data is normally distributed. Some examples of these include t-tests, ANOVAs, linear regression, linear discriminant analysis (LDA) and Gaussian naive Bayes. (Pro tip: any method with \"Gaussian\" in the name probably assumes normality.)"
   ]
  },
  {
   "cell_type": "code",
   "execution_count": null,
   "metadata": {},
   "outputs": [],
   "source": [
    "from scipy import stats\n",
    "from sklearn import preprocessing\n",
    "from sklearn.preprocessing import MinMaxScaler\n",
    "#columns = ['Precip', 'Snowfall', 'MAX', 'MIN', 'ksp_date']\n",
    "\n",
    "columns = ['Precip', 'Snowfall']\n",
    "\n",
    "for i in columns:\n",
    "    print(i)\n",
    "    col_name = str(i) + '_normalised'\n",
    "    print(col_name)\n",
    "    model_data.loc[:, col_name] = preprocessing.normalize(model_data[[i]])    \n",
    "    \n",
    "\n",
    "for i in columns:\n",
    "    print(i)\n",
    "    col_name = str(i) + '_min_max_scale'\n",
    "    print(col_name)\n",
    "    scaler = MinMaxScaler()\n",
    "    scaler.fit(model_data[[i]])\n",
    "    model_data.loc[:, col_name] = scaler.transform(model_data[[i]])\n",
    "    \n",
    "    \n",
    "# for i in columns:\n",
    "#     print(i)\n",
    "#     col_name = str(i) + '_boxcox'\n",
    "#     print(col_name)\n",
    "#     combined_data.loc[:, col_name] = stats.boxcox(combined_data[i]**2 + 1)"
   ]
  },
  {
   "cell_type": "markdown",
   "metadata": {},
   "source": [
    "### Data Cleaning - Feature Engineering\n",
    "- Deal with date columns. There are 4 most common methods to transform date to numeric format:\n",
    "    - Unix timestamp: Time since 1970 (not applicable as our data is from period 1940 - 1944\n",
    "    - KSP date formate: Year and quarter are obvious and attempts to retain similar intervals\n",
    "    - Divide into several features (DA / MO / YR): Data already formated to accommodate these features\n",
    "    - Manual Feature Creation: Time from or to an event\n",
    "- Feature Creation:\n",
    "    - Northern/Southern Hemisphere Flag\n",
    "    - Binary Flag for univariate outliers\n",
    "    - Create sensible bins for numerical Variables\n",
    "    - Sine & Cos features (out of scope)\n",
    "    - Average temperature per month/per quarter\n",
    "- Normalization and standardization of features: Precip/Snowfall/SNF/ELEV <br>\n",
    "\n",
    "https://towardsdatascience.com/smarter-ways-to-encode-categorical-data-for-machine-learning-part-1-of-3-6dca2f71b159 <br>\n",
    "https://towardsdatascience.com/cyclical-features-encoding-its-about-time-ce23581845ca <br>\n",
    "https://medium.com/@khadijamahanga/using-latitude-and-longitude-data-in-my-machine-learning-problem-541e2651e08c <br>\n",
    "https://towardsdatascience.com/geopandas-101-plot-any-data-with-a-latitude-and-longitude-on-a-map-98e01944b972"
   ]
  },
  {
   "cell_type": "markdown",
   "metadata": {},
   "source": [
    "**Date Time Features** <br>\n",
    "Note: From there analysis it is clear that some areas from both the northern and southern hemisphere have been included as part of the research so care should be taken when dealing with datetime features"
   ]
  },
  {
   "cell_type": "code",
   "execution_count": 74,
   "metadata": {},
   "outputs": [],
   "source": [
    "import datetime as dt\n",
    "import calendar\n",
    "\n",
    "def to_ksp_format(datetime):\n",
    "    year = datetime.year\n",
    "    day_from_jan_1 = (datetime - dt.datetime(year, 1, 1)).days\n",
    "    is_leap_year = int(calendar.isleap(year))\n",
    "    \n",
    "    return year + (day_from_jan_1 - 0.5) / (365 + is_leap_year)\n",
    "\n",
    "model_data['ksp_date'] = model_data['Date'].apply(to_ksp_format)"
   ]
  },
  {
   "cell_type": "code",
   "execution_count": 75,
   "metadata": {},
   "outputs": [],
   "source": [
    "# Calculate the average based on the fahrenheit columns\n",
    "model_data['MeanTemp_F'] = (model_data['MAX'] + combined_data['MIN'])/2\n",
    "\n",
    "# Create a simplier binary feature for snowfall occurrence\n",
    "model_data['Snowfall_bin'] =  np.where(model_data.Snowfall.isnull(), 0, 1)\n",
    "\n",
    "# Add sine and cos features for seasonal elements \n",
    "\n",
    "# Create bins for ELEV Variable"
   ]
  },
  {
   "cell_type": "markdown",
   "metadata": {},
   "source": [
    "**Bivariate Combinations**"
   ]
  },
  {
   "cell_type": "code",
   "execution_count": 102,
   "metadata": {},
   "outputs": [
    {
     "name": "stdout",
     "output_type": "stream",
     "text": [
      "('MIN', 'ELEV')\n",
      "('Precip', 'MIN')\n",
      "('Precip', 'ELEV')\n",
      "('YR', 'ksp_date')\n",
      "('MIN', 'ksp_date')\n"
     ]
    }
   ],
   "source": [
    "from itertools import combinations\n",
    "from sklearn.linear_model import LinearRegression\n",
    "\n",
    "model_data = model_data.dropna()\n",
    "\n",
    "y_train = model_data[['MAX']]\n",
    "X_train_int = model_data[['Precip', 'Snowfall', 'YR', 'MO', 'DA', 'MIN', 'ELEV', 'ksp_date']]\n",
    "\n",
    "columns_list = X_train_int.columns\n",
    "interactions = list(combinations(columns_list, 2))\n",
    "\n",
    "interaction_dict = {}\n",
    "for interaction in interactions:\n",
    "    X_train_int['int'] = X_train_int[interaction[0]] * X_train_int[interaction[1]]\n",
    "    interaction_model = LinearRegression()\n",
    "    interaction_model.fit(X_train_int, y_train)\n",
    "    interaction_dict[interaction_model.score(X_train_int, y_train)] = interaction\n",
    "\n",
    "top_5 = sorted(interaction_dict.keys(), reverse = True)[:5]\n",
    "for interaction in top_5:\n",
    "    print(interaction_dict[interaction])"
   ]
  },
  {
   "cell_type": "markdown",
   "metadata": {},
   "source": [
    "**Polynominal Features**"
   ]
  },
  {
   "cell_type": "code",
   "execution_count": 68,
   "metadata": {},
   "outputs": [
    {
     "data": {
      "text/plain": [
       "['MIN', 4]"
      ]
     },
     "execution_count": 68,
     "metadata": {},
     "output_type": "execute_result"
    }
   ],
   "source": [
    "from sklearn.preprocessing import PolynomialFeatures\n",
    "\n",
    "poly_dict = {}\n",
    "poly_X_train_int = model_data[['Precip', 'Snowfall', 'YR', 'MO', 'DA', 'MIN', 'ELEV', 'ksp_date']]\n",
    "for feature in poly_X_train_int.columns:\n",
    "    for p in range(2, 5):\n",
    "        X_train_poly = poly_X_train_int\n",
    "        X_train_poly['sq'] = X_train_poly[feature]**p\n",
    "        lr = LinearRegression()\n",
    "        lr.fit(X_train_poly, y_train)\n",
    "        poly_dict[lr.score(X_train_poly, y_train)] = [feature, p]\n",
    "\n",
    "poly_dict[max(poly_dict.keys())]"
   ]
  },
  {
   "cell_type": "markdown",
   "metadata": {},
   "source": [
    "### Data represents logical coherence\n",
    "- Check that US countries are all in US states\n",
    "<pd.crosstab(combined_data[\"STATE/COUNTRY ID\"], combined_data[\"NAME\"])>"
   ]
  },
  {
   "cell_type": "code",
   "execution_count": null,
   "metadata": {},
   "outputs": [],
   "source": [
    "# Write clean data to 02_intermediate data folder\n",
    "model_data.to_csv('/Users/Rej1992/Documents/GitHub/RegressionModels/data/03_processed/data_std_feature_eng.csv')\n",
    "model_data.to_pickle('/Users/Rej1992/Documents/GitHub/RegressionModels/data/03_processed/data_std_feature_eng.pkl')"
   ]
  },
  {
   "cell_type": "code",
   "execution_count": null,
   "metadata": {},
   "outputs": [],
   "source": [
    "sns.displot(combined_data, x=\"MAX\", hue=\"YR\", kind=\"kde\")"
   ]
  },
  {
   "cell_type": "markdown",
   "metadata": {},
   "source": [
    "## Model Building \n",
    "- Data partitioning into training, validation and testing sets (set seed) [x]\n",
    "    - Ensure that the range of the test is within the range of the train [x]\n",
    "- Select the model that you would like to use [x]\n",
    "    - Linear Regression\n",
    "    - Polynominal Regression\n",
    "    - Ridge Regression\n",
    "    - Lasso Regression\n",
    "    - Robust Regression\n",
    "- Hyperparameter tuning is used to fine-tune the model in order to prevent overfitting [x] \n",
    "    - This is done implicity for Ridge ansd Lasso Regression when trying to establish the optimal value for lambda\n",
    "- Cross-validation is performed to ensure the model performs well on the validation set [x]\n",
    "- Model is applied to the test data set [x]\n",
    "- Save the trained model to a pickle file [x]\n",
    "- Create a learning curve & Assess model bias and variance to deduce model improvement next steps"
   ]
  },
  {
   "cell_type": "markdown",
   "metadata": {},
   "source": [
    "### Linear Regression Models"
   ]
  },
  {
   "cell_type": "code",
   "execution_count": null,
   "metadata": {},
   "outputs": [],
   "source": [
    "import pickle\n",
    "\n",
    "import statistics\n",
    "from numpy import mean\n",
    "from numpy import std\n",
    "\n",
    "import scipy\n",
    "\n",
    "import sklearn\n",
    "from sklearn.linear_model import LinearRegression\n",
    "from sklearn.preprocessing import PolynomialFeatures \n",
    "from sklearn.linear_model import Ridge\n",
    "from sklearn.linear_model import Lasso\n",
    "from sklearn.linear_model import HuberRegressor\n",
    "\n",
    "from sklearn.model_selection import train_test_split\n",
    "from sklearn.model_selection import KFold\n",
    "from sklearn.model_selection import cross_val_score\n",
    "from sklearn.metrics import mean_squared_error, r2_score"
   ]
  },
  {
   "cell_type": "code",
   "execution_count": null,
   "metadata": {},
   "outputs": [],
   "source": [
    "model_data.info()"
   ]
  },
  {
   "cell_type": "code",
   "execution_count": null,
   "metadata": {},
   "outputs": [],
   "source": [
    "def _create_model_baseline(data):\n",
    "    \n",
    "    return data[['Precip', 'Snowfall', 'YR', 'MO', 'DA', 'MAX', 'MIN', 'ELEV']]    \n",
    "    \n",
    "\n",
    "def _check_regression_target_range(y_train, y_test):\n",
    "    print(y_train.describe())\n",
    "    print(\"\"\"\"\"\")\n",
    "    print(y_test.describe())\n",
    "    \n",
    "    \n",
    "# def dummy_model(y_train, y_pred_train):\n",
    "    \n",
    "#     return r2_score(y_train, y_pred_train)\n",
    "\n",
    "\n",
    "def _save_model_to_pickle(model, model_type):\n",
    "    filename = datetime.datetime.now().strftime('%Y-%m-%d')+'_'+model_type+'_finalized_regression_model.pkl'\n",
    "    pickle.dump(model, open('/Users/Rej1992/Documents/GitHub/RegressionModels/data/04_models/'+filename, 'wb'))\n",
    "    \n",
    "\n",
    "def _regression_models(data, model_type, split = 1/5, alpha = 0.1, folds = 10):\n",
    "    \n",
    "    # Establish Target and Predictor Variables\n",
    "    y = data[['MAX']]\n",
    "    X = data.drop(['MAX'], axis=1)  \n",
    "    \n",
    "    x_train, x_test, y_train, y_test = train_test_split(X, y, test_size=split, random_state=1)\n",
    "    \n",
    "    # Check Regression Target Range\n",
    "    print(y_train.describe())\n",
    "    print(\"\"\"\"\"\")\n",
    "    print(y_test.describe())\n",
    "    \n",
    "    if(model_type == 'LinearRegression'):\n",
    "        regressor = LinearRegression()\n",
    "        \n",
    "    elif(model_type == 'Polynominal'):\n",
    "        poly_reg = PolynomialFeatures(degree = 3) \n",
    "        x_train = poly_reg.fit_transform(x_train[[\"MIN\"]])\n",
    "        regressor = LinearRegression()    \n",
    "    \n",
    "    elif(model_type == 'Ridge'):\n",
    "        #Fit the model\n",
    "        regressor = Ridge(alpha = alpha, normalize = True)\n",
    "        \n",
    "    elif(model_type == 'Lasso'):\n",
    "        regressor = Lasso(alpha = alpha, normalize = True, max_iter=1e5)\n",
    "        \n",
    "    elif(model_type == 'Robust'):\n",
    "        regressor = HuberRegressor()\n",
    "    \n",
    "    regressor.fit(x_train, y_train)\n",
    "    y_pred_train = regressor.predict(x_train)\n",
    "    y_pred_test = regressor.predict(x_test)\n",
    "\n",
    "    # prepare the cross-validation procedure\n",
    "    cv = KFold(n_splits=folds, random_state=1, shuffle=True)\n",
    "            \n",
    "    # evaluate model\n",
    "    scores = cross_val_score(regressor, x_train, y_train, scoring='r2', cv=cv, n_jobs=-1)\n",
    "    \n",
    "    # report performance\n",
    "    print('Accuracy: %.3f (%.3f)' % (mean(scores), std(scores)))\n",
    "        \n",
    "    #Return the result in pre-defined format\n",
    "    r2 = r2_score(y_train, y_pred_train)\n",
    "    ret = [r2]\n",
    "    ret.extend([regressor.intercept_])\n",
    "    ret.extend(regressor.coef_)\n",
    "    \n",
    "    #Return p_value, std_err -- Extra Work\n",
    "    \n",
    "    # Save Model to Pickle\n",
    "    _save_model_to_pickle(regressor, model_type)\n",
    "    \n",
    "    return ret, y_pred_train, y_pred_test, regressor, scores"
   ]
  },
  {
   "cell_type": "code",
   "execution_count": null,
   "metadata": {},
   "outputs": [],
   "source": [
    "saturated_data = _treat_nan(model_data)\n",
    "baseline_data = _create_model_baseline(saturated_data)\n",
    "\n",
    "saturated_data.drop(['STA', 'Date', 'PoorWeather', 'NAME', 'STATE/COUNTRY ID'], axis=1, inplace=True)\n",
    "\n",
    "saturated_data.name = 'saturated_data'\n",
    "baseline_data.name = 'baseline_data'\n",
    "\n",
    "datalist = [baseline_data, saturated_data]\n",
    "model_types = ['LinearRegression', 'Ridge', 'Lasso', 'Robust']"
   ]
  },
  {
   "cell_type": "code",
   "execution_count": null,
   "metadata": {},
   "outputs": [],
   "source": [
    "for i in datalist:\n",
    "    for j in model_types:\n",
    "        print(i.name)\n",
    "        print(j)\n",
    "        _regression_models(i, j)[4]"
   ]
  },
  {
   "cell_type": "code",
   "execution_count": null,
   "metadata": {},
   "outputs": [],
   "source": [
    "# Check linear regression Assumptions"
   ]
  },
  {
   "cell_type": "code",
   "execution_count": null,
   "metadata": {},
   "outputs": [],
   "source": [
    "# def _variable_importance():\n",
    "    \n",
    "#     return"
   ]
  },
  {
   "cell_type": "code",
   "execution_count": null,
   "metadata": {},
   "outputs": [],
   "source": [
    "# def _load_model_from_pickle(filename, baseline_data[1], baseline_data[3]):\n",
    "#     loaded_model = pickle.load(open(filename, 'rb'))\n",
    "#     result = loaded_model.score(x_test, y_test)\n",
    "    \n",
    "#     return result"
   ]
  },
  {
   "cell_type": "code",
   "execution_count": null,
   "metadata": {},
   "outputs": [],
   "source": [
    "# Compare the distribution between the train and test dataset\n",
    "# Sweetviz notes: Only supports numeric & boolean targets currently\n",
    "my_report_train_test = sv.compare([baseline_data[0], \"Train\"], [baseline_data[1], \"Test\"], \"MAX\")\n",
    "my_report_train_test.show_html() # Not providing a filename will default to SWEETVIZ_REPORT.html"
   ]
  },
  {
   "cell_type": "code",
   "execution_count": null,
   "metadata": {},
   "outputs": [],
   "source": [
    "plt.scatter(baseline_data[0][\"MIN\"],baseline_data[2],color='red')\n",
    "#plt.plot(baseline_data[0][\"MIN\"], regressor.predict(baseline_data[0]),c='blue')\n",
    "plt.show()"
   ]
  },
  {
   "cell_type": "code",
   "execution_count": null,
   "metadata": {},
   "outputs": [],
   "source": [
    "# Fitting Polynomial Regression to the dataset\n",
    "from sklearn.preprocessing import PolynomialFeatures\n",
    "poly_reg = PolynomialFeatures(degree=4)\n",
    "X_poly = poly_reg.fit_transform(X)\n",
    "pol_reg = LinearRegression()\n",
    "pol_reg.fit(X_poly, y)\n",
    "\n",
    "# Visualizing the Polymonial Regression results\n",
    "def viz_polymonial():\n",
    "    plt.scatter(X, y, color='red')\n",
    "    plt.plot(X, pol_reg.predict(poly_reg.fit_transform(X)), color='blue')\n",
    "    plt.title('Truth or Bluff (Linear Regression)')\n",
    "    plt.xlabel('Position level')\n",
    "    plt.ylabel('Salary')\n",
    "    plt.show()\n",
    "    \n",
    "    return\n",
    "\n",
    "viz_polymonial()"
   ]
  },
  {
   "cell_type": "code",
   "execution_count": null,
   "metadata": {},
   "outputs": [],
   "source": [
    "sns.set(font_scale=1.6)\n",
    "plt.figure(figsize=(13, 9))\n",
    "x_grid = np.arange(min(x), max(x), 0.1)\n",
    "x_grid = x_grid.reshape(-1,1)\n",
    "plt.scatter(x,y,s=65)\n",
    "plt.plot(x_grid, lin_reg2.predict(pol.fit_transform(x_grid)) , color='red', linewidth = '6')\n",
    "plt.xlabel('Min',fontsize=25)\n",
    "plt.ylabel('Max',fontsize=25)\n",
    "plt.title('Min/Max temp Polynominal',fontsize=25)\n",
    "plt.show()"
   ]
  },
  {
   "cell_type": "code",
   "execution_count": null,
   "metadata": {},
   "outputs": [],
   "source": [
    "### Learning Curve Implementation\n",
    "# https://www.dataquest.io/blog/learning-curves-machine-learning/"
   ]
  }
 ],
 "metadata": {
  "kernelspec": {
   "display_name": "Python 3",
   "language": "python",
   "name": "python3"
  },
  "language_info": {
   "codemirror_mode": {
    "name": "ipython",
    "version": 3
   },
   "file_extension": ".py",
   "mimetype": "text/x-python",
   "name": "python",
   "nbconvert_exporter": "python",
   "pygments_lexer": "ipython3",
   "version": "3.6.5"
  }
 },
 "nbformat": 4,
 "nbformat_minor": 4
}
