{
 "cells": [
  {
   "cell_type": "markdown",
   "metadata": {},
   "source": [
    "Project Start Date: 17th December 2020 <br> <br>\n",
    "Data Sources <br>\n",
    "https://www.kaggle.com/usaf/world-war-ii/notebooks <br> \n",
    "https://www.kaggle.com/smid80/weatherww2/data <br>\n",
    "\n",
    "**Aim of this project** <br>\n",
    "Aerial Bombing Operations in WW2 - Bombing operations data <br>\n",
    "This dataset consists of digitized paper mission reports from WWII. Each record includes the date, conflict, geographic location, and other data elements to form a live-action sequence of air warfare from 1939 to 1945. The records include U.S. and Royal Air Force data, in addition to some Australian, New Zealand and South African air force missions.\n",
    "\n",
    "<br>\n",
    "Weather Conditions in WW2 (Weather Stations / Weather Conditions) <br>\n",
    "The dataset contains information on weather conditions recorded on each day at various weather stations around the world. Information includes precipitation, snowfall, temperatures, wind speed and whether the day included thunder storms or other poor weather conditions.\n",
    "\n",
    "Predict the average temperature based on the independent variables given <br>\n",
    "Predict the maximum temperature given the minimum temperature\n",
    "\n",
    "**Objectives & Hypothesises to Test (max. 8)** <br>\n",
    "<u>Exploratory Analysis</u>\n",
    "- What is the distribution of bombings per region?\n",
    "- How does weather impact bombing accuracy/number of bombings occurring?\n",
    "- What do patterns show before & after D-day?\n",
    "<br>\n",
    "\n",
    "<u>Statistical Model/Machine Learning Applications</u>\n",
    "- Is there a relationship between the daily minimum and maximum temperature (TimeSeries Analysis)? \n",
    "- Can you predict the maximum temperature given the minimum temperature (GLM Models & Bayesian Versions)?\n",
    "\n",
    "\n",
    "\n",
    "**Applications of Data Science Applied** <br>\n",
    "\n",
    "\n",
    "**Additional Learning notes and next steps** <br>"
   ]
  },
  {
   "cell_type": "code",
   "execution_count": 1,
   "metadata": {},
   "outputs": [],
   "source": [
    "# Package --- These should be added to a requirements file\n",
    "import os\n",
    "import pandas as pd\n",
    "import numpy as np"
   ]
  },
  {
   "cell_type": "code",
   "execution_count": 2,
   "metadata": {},
   "outputs": [
    {
     "data": {
      "text/plain": [
       "'/Users/Rej1992/Documents/GitHub/RegressionModels/notebooks'"
      ]
     },
     "execution_count": 2,
     "metadata": {},
     "output_type": "execute_result"
    }
   ],
   "source": [
    "os.getcwd()"
   ]
  },
  {
   "cell_type": "code",
   "execution_count": 3,
   "metadata": {},
   "outputs": [
    {
     "name": "stderr",
     "output_type": "stream",
     "text": [
      "/anaconda3/lib/python3.6/site-packages/IPython/core/interactiveshell.py:3072: DtypeWarning: Columns (7,8,11,13,31,43,44) have mixed types.Specify dtype option on import or set low_memory=False.\n",
      "  interactivity=interactivity, compiler=compiler, result=result)\n",
      "/anaconda3/lib/python3.6/site-packages/IPython/core/interactiveshell.py:3072: DtypeWarning: Columns (7,8,18,25) have mixed types.Specify dtype option on import or set low_memory=False.\n",
      "  interactivity=interactivity, compiler=compiler, result=result)\n"
     ]
    }
   ],
   "source": [
    "aerial_bombing_data = pd.read_csv('/Users/Rej1992/Documents/GitHub/RegressionModels/data/ww2_boming_operations.csv')\n",
    "weather_summary = pd.read_csv('/Users/Rej1992/Documents/GitHub/RegressionModels/data/WeatherTempPrediction.csv')\n",
    "weather_station_location = pd.read_csv('/Users/Rej1992/Documents/GitHub/RegressionModels/data/WeatherStationLocations.csv')"
   ]
  },
  {
   "cell_type": "code",
   "execution_count": 4,
   "metadata": {},
   "outputs": [],
   "source": [
    "# Create a list of the two dataframes\n",
    "data_list = []\n",
    "data_list.append(aerial_bombing_data)\n",
    "data_list.append(weather_summary)\n",
    "data_list.append(weather_station_location)"
   ]
  },
  {
   "cell_type": "code",
   "execution_count": 5,
   "metadata": {},
   "outputs": [
    {
     "data": {
      "text/plain": [
       "0         40675\n",
       "1           NaN\n",
       "2          9630\n",
       "3         16140\n",
       "4           NaN\n",
       "          ...  \n",
       "178276      NaN\n",
       "178277      NaN\n",
       "178278      NaN\n",
       "178279      NaN\n",
       "178280      NaN\n",
       "Name: Target ID, Length: 178281, dtype: object"
      ]
     },
     "execution_count": 5,
     "metadata": {},
     "output_type": "execute_result"
    }
   ],
   "source": [
    "aerial_bombing_data[\"Target ID\"]"
   ]
  },
  {
   "cell_type": "code",
   "execution_count": 6,
   "metadata": {},
   "outputs": [
    {
     "name": "stdout",
     "output_type": "stream",
     "text": [
      "(178281, 46)\n",
      "Index(['Mission ID', 'Mission Date', 'Theater of Operations', 'Country',\n",
      "       'Air Force', 'Unit ID', 'Aircraft Series', 'Callsign', 'Mission Type',\n",
      "       'Takeoff Base', 'Takeoff Location', 'Takeoff Latitude',\n",
      "       'Takeoff Longitude', 'Target ID', 'Target Country', 'Target City',\n",
      "       'Target Type', 'Target Industry', 'Target Priority', 'Target Latitude',\n",
      "       'Target Longitude', 'Altitude (Hundreds of Feet)', 'Airborne Aircraft',\n",
      "       'Attacking Aircraft', 'Bombing Aircraft', 'Aircraft Returned',\n",
      "       'Aircraft Failed', 'Aircraft Damaged', 'Aircraft Lost',\n",
      "       'High Explosives', 'High Explosives Type',\n",
      "       'High Explosives Weight (Pounds)', 'High Explosives Weight (Tons)',\n",
      "       'Incendiary Devices', 'Incendiary Devices Type',\n",
      "       'Incendiary Devices Weight (Pounds)',\n",
      "       'Incendiary Devices Weight (Tons)', 'Fragmentation Devices',\n",
      "       'Fragmentation Devices Type', 'Fragmentation Devices Weight (Pounds)',\n",
      "       'Fragmentation Devices Weight (Tons)', 'Total Weight (Pounds)',\n",
      "       'Total Weight (Tons)', 'Time Over Target', 'Bomb Damage Assessment',\n",
      "       'Source ID'],\n",
      "      dtype='object')\n",
      "\n",
      "(119040, 31)\n",
      "Index(['STA', 'Date', 'Precip', 'WindGustSpd', 'MaxTemp', 'MinTemp',\n",
      "       'MeanTemp', 'Snowfall', 'PoorWeather', 'YR', 'MO', 'DA', 'PRCP', 'DR',\n",
      "       'SPD', 'MAX', 'MIN', 'MEA', 'SNF', 'SND', 'FT', 'FB', 'FTI', 'ITH',\n",
      "       'PGT', 'TSHDSBRSGF', 'SD3', 'RHX', 'RHN', 'RVG', 'WTE'],\n",
      "      dtype='object')\n",
      "\n",
      "(161, 8)\n",
      "Index(['WBAN', 'NAME', 'STATE/COUNTRY ID', 'LAT', 'LON', 'ELEV', 'Latitude',\n",
      "       'Longitude'],\n",
      "      dtype='object')\n",
      "\n"
     ]
    }
   ],
   "source": [
    "for i in data_list:\n",
    "    print(i.shape)\n",
    "    print(i.columns)\n",
    "    print(\"\"\"\"\"\")"
   ]
  },
  {
   "cell_type": "code",
   "execution_count": 7,
   "metadata": {},
   "outputs": [],
   "source": [
    "# Exploratory Analytics to Deevlop Research Hypothesis\n",
    "\n",
    "## I want to know what columns in each dataset permit the potential to create the best unique key for joining \n",
    "## How do the model results differ when 'MaxTemp', 'MinTemp' are excluded? Do these induce xxx into the model falsely\n",
    "## creating improvements in model results"
   ]
  },
  {
   "cell_type": "code",
   "execution_count": null,
   "metadata": {},
   "outputs": [],
   "source": []
  }
 ],
 "metadata": {
  "kernelspec": {
   "display_name": "Python 3",
   "language": "python",
   "name": "python3"
  },
  "language_info": {
   "codemirror_mode": {
    "name": "ipython",
    "version": 3
   },
   "file_extension": ".py",
   "mimetype": "text/x-python",
   "name": "python",
   "nbconvert_exporter": "python",
   "pygments_lexer": "ipython3",
   "version": "3.6.5"
  }
 },
 "nbformat": 4,
 "nbformat_minor": 4
}
